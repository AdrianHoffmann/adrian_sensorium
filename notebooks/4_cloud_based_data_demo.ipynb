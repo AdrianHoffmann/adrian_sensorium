{
 "cells": [
  {
   "cell_type": "markdown",
   "metadata": {
    "pycharm": {
     "name": "#%% md\n"
    }
   },
   "source": [
    "# Demo containing all the steps from loading data to submission using the `hub` package"
   ]
  },
  {
   "cell_type": "markdown",
   "metadata": {
    "pycharm": {
     "name": "#%% md\n"
    }
   },
   "source": [
    "### This notebook will show how to\n",
    "- how to use the cloud based DataLoaders\n",
    "- how to train the baseline models with these dataloaders\n",
    "- how to make a submission\n",
    "\n",
    "**Importantly**\n",
    " - In this approach, we provide the data entirely over the cloud, such that models can be trained with ease"
   ]
  },
  {
   "cell_type": "code",
   "execution_count": 2,
   "metadata": {
    "pycharm": {
     "name": "#%%\n"
    }
   },
   "outputs": [],
   "source": [
    "import numpy as np\n",
    "\n",
    "import torch\n",
    "from torchvision import transforms\n",
    "from sklearn.model_selection import train_test_split\n",
    "\n",
    "import warnings\n",
    "warnings.filterwarnings('ignore')\n",
    "\n",
    "# the package that we host our data on for cloud based access without the need to download our data at all\n",
    "import hub"
   ]
  },
  {
   "cell_type": "markdown",
   "metadata": {
    "pycharm": {
     "name": "#%% md\n"
    }
   },
   "source": [
    "### 1. Load the train and test datasets and create the corresponding dataloader"
   ]
  },
  {
   "cell_type": "markdown",
   "metadata": {
    "pycharm": {
     "name": "#%% md\n"
    }
   },
   "source": [
    "- Here we will provide the data from 7 mice for our competition. As of now, we just provide toy data over the cloud"
   ]
  },
  {
   "cell_type": "code",
   "execution_count": 3,
   "metadata": {
    "pycharm": {
     "name": "#%%\n"
    }
   },
   "outputs": [
    {
     "name": "stdout",
     "output_type": "stream",
     "text": [
      "Opening dataset in read-only mode as you don't have write permissions.\n",
      "hub://mohammadbashiri/npc-mouse1-train loaded successfully.\n",
      "This dataset can be visualized at https://app.activeloop.ai/mohammadbashiri/npc-mouse1-train.\n",
      "Opening dataset in read-only mode as you don't have write permissions.\n",
      "hub://mohammadbashiri/npc-mouse1-train loaded successfully.\n",
      "This dataset can be visualized at https://app.activeloop.ai/mohammadbashiri/npc-mouse1-train.\n",
      "Opening dataset in read-only mode as you don't have write permissions.\n",
      "hub://mohammadbashiri/npc-mouse1-test loaded successfully.\n",
      "This dataset can be visualized at https://app.activeloop.ai/mohammadbashiri/npc-mouse1-test.\n"
     ]
    }
   ],
   "source": [
    "dataset_id = 'mouse1'\n",
    "\n",
    "# get the data from Activeloop\n",
    "train_dataset_train = hub.load(f\"hub://mohammadbashiri/npc-{dataset_id}-train\")\n",
    "train_dataset_val = hub.load(f\"hub://mohammadbashiri/npc-{dataset_id}-train\")\n",
    "test_dataset = hub.load(f\"hub://mohammadbashiri/npc-{dataset_id}-test\")\n",
    "\n",
    "# split the trainset into train and validation (i.e. modify the index of the corresponding dataset)\n",
    "n_training_samples = len(train_dataset_train)\n",
    "train_indices, val_indices = train_test_split(np.arange(n_training_samples), train_size=0.7)\n",
    "train_samples_mask = np.isin(np.arange(n_training_samples), train_indices)\n",
    "train_dataset_train.index.values[0].value = tuple(np.where(train_samples_mask)[0].tolist())\n",
    "train_dataset_val.index.values[0].value = tuple(np.where(~train_samples_mask)[0].tolist())\n",
    "\n",
    "# create the dataloaders\n",
    "train_dataloader = train_dataset_train.pytorch(batch_size=16, shuffle=True, transform={'inputs': transforms.ToTensor(), 'targets': None, 'image_ids': None, 'trial_indices': None})\n",
    "val_dataloader = train_dataset_val.pytorch(batch_size=16, shuffle=False, transform={'inputs': transforms.ToTensor(), 'targets': None, 'image_ids': None, 'trial_indices': None})\n",
    "test_dataloader = test_dataset.pytorch(batch_size=16, shuffle=False, transform={'inputs': transforms.ToTensor(), 'image_ids': None, 'trial_indices': None})\n",
    "\n",
    "# Combine the dataloaders into a single object (dict)\n",
    "dataloaders = {\"train\": {dataset_id: train_dataloader},\n",
    "               \"validation\": {dataset_id: val_dataloader},\n",
    "               \"test\": {dataset_id: test_dataloader}}"
   ]
  },
  {
   "cell_type": "code",
   "execution_count": 4,
   "metadata": {
    "pycharm": {
     "name": "#%%\n"
    }
   },
   "outputs": [
    {
     "data": {
      "text/plain": [
       "{'train': {'mouse1': <torch.utils.data.dataloader.DataLoader at 0x7f33b2c5d610>},\n",
       " 'validation': {'mouse1': <torch.utils.data.dataloader.DataLoader at 0x7f33b361e040>},\n",
       " 'test': {'mouse1': <torch.utils.data.dataloader.DataLoader at 0x7f33b3367bb0>}}"
      ]
     },
     "execution_count": 4,
     "metadata": {},
     "output_type": "execute_result"
    }
   ],
   "source": [
    "# dataloaders have the same behavior as in demo notebooks 1-3\n",
    "dataloaders"
   ]
  },
  {
   "cell_type": "markdown",
   "metadata": {
    "pycharm": {
     "name": "#%% md\n"
    }
   },
   "source": [
    "---"
   ]
  },
  {
   "cell_type": "markdown",
   "metadata": {
    "pycharm": {
     "name": "#%% md\n"
    }
   },
   "source": [
    "### 2. Initialize model"
   ]
  },
  {
   "cell_type": "code",
   "execution_count": 4,
   "metadata": {
    "pycharm": {
     "name": "#%%\n"
    }
   },
   "outputs": [],
   "source": [
    "from sensorium.models import stacked_core_full_gauss_readout\n",
    "\n",
    "model_config = {'pad_input': False,\n",
    "              'stack': -1,\n",
    "              'layers': 4,\n",
    "              'input_kern': 9,\n",
    "              'gamma_input': 6.3831,\n",
    "              'gamma_readout': 0.0076,\n",
    "              'hidden_dilation': 1,\n",
    "              'hidden_kern': 7,\n",
    "              'hidden_channels': 64,\n",
    "              'depth_separable': True,\n",
    "              'init_sigma': 0.1,\n",
    "              'init_mu_range': 0.3,\n",
    "              'gauss_type': 'full',\n",
    "               }\n",
    "\n",
    "model = stacked_core_full_gauss_readout(dataloaders, seed=1, **model_config)"
   ]
  },
  {
   "cell_type": "markdown",
   "metadata": {
    "pycharm": {
     "name": "#%% md\n"
    }
   },
   "source": [
    "### 3. Train the model"
   ]
  },
  {
   "cell_type": "code",
   "execution_count": 5,
   "metadata": {
    "pycharm": {
     "name": "#%%\n"
    }
   },
   "outputs": [],
   "source": [
    "from sensorium.training import standard_trainer"
   ]
  },
  {
   "cell_type": "code",
   "execution_count": 6,
   "metadata": {
    "pycharm": {
     "name": "#%%\n"
    }
   },
   "outputs": [
    {
     "name": "stderr",
     "output_type": "stream",
     "text": [
      "Epoch 1: 100%|██████████| 9/9 [00:05<00:00,  1.65it/s]\n"
     ]
    },
    {
     "name": "stdout",
     "output_type": "stream",
     "text": [
      "[001|00/05] ---> 0.014943685638824901\n"
     ]
    },
    {
     "name": "stderr",
     "output_type": "stream",
     "text": [
      "Epoch 2: 100%|██████████| 9/9 [00:05<00:00,  1.62it/s]\n"
     ]
    },
    {
     "name": "stdout",
     "output_type": "stream",
     "text": [
      "[002|00/05] ---> 0.017162172343622446\n",
      "Restoring best model! 0.017162 ---> 0.017162\n"
     ]
    }
   ],
   "source": [
    "# using a trainer with only 2 iterations for simplicity\n",
    "\n",
    "trainer_config = {'max_iter': 2,\n",
    "                  'verbose': False,\n",
    "                  'lr_decay_steps': 4,\n",
    "                  'avg_loss': False,\n",
    "                  'lr_init': 0.009}\n",
    "\n",
    "score, output, state_dict = standard_trainer(model, dataloaders, seed=1, **trainer_config)"
   ]
  },
  {
   "cell_type": "markdown",
   "metadata": {
    "pycharm": {
     "name": "#%% md\n"
    }
   },
   "source": [
    "---"
   ]
  },
  {
   "cell_type": "markdown",
   "metadata": {
    "pycharm": {
     "name": "#%% md\n"
    }
   },
   "source": [
    "### 4. Prepare the submission file"
   ]
  },
  {
   "cell_type": "code",
   "execution_count": 7,
   "metadata": {
    "pycharm": {
     "name": "#%%\n"
    }
   },
   "outputs": [],
   "source": [
    "from sensorium.utility.submission import generate_submission_file"
   ]
  },
  {
   "cell_type": "code",
   "execution_count": 8,
   "metadata": {
    "collapsed": false,
    "jupyter": {
     "outputs_hidden": false
    },
    "pycharm": {
     "name": "#%%\n"
    }
   },
   "outputs": [
    {
     "name": "stdout",
     "output_type": "stream",
     "text": [
      "File saved.\n"
     ]
    }
   ],
   "source": [
    "generate_submission_file(trained_model=model,\n",
    "                                    test_dataloader=dataloaders[\"test\"][dataset_id],\n",
    "                                    path='./submission_files/hub_demo_submission_file.csv')"
   ]
  },
  {
   "cell_type": "code",
   "execution_count": 9,
   "metadata": {
    "collapsed": false,
    "jupyter": {
     "outputs_hidden": false
    },
    "pycharm": {
     "name": "#%%\n"
    }
   },
   "outputs": [
    {
     "data": {
      "text/html": [
       "<div>\n",
       "<style scoped>\n",
       "    .dataframe tbody tr th:only-of-type {\n",
       "        vertical-align: middle;\n",
       "    }\n",
       "\n",
       "    .dataframe tbody tr th {\n",
       "        vertical-align: top;\n",
       "    }\n",
       "\n",
       "    .dataframe thead th {\n",
       "        text-align: right;\n",
       "    }\n",
       "</style>\n",
       "<table border=\"1\" class=\"dataframe\">\n",
       "  <thead>\n",
       "    <tr style=\"text-align: right;\">\n",
       "      <th></th>\n",
       "      <th>trial_indices</th>\n",
       "      <th>image_ids</th>\n",
       "      <th>prediction</th>\n",
       "      <th>neuron_ids</th>\n",
       "    </tr>\n",
       "  </thead>\n",
       "  <tbody>\n",
       "    <tr>\n",
       "      <th>0</th>\n",
       "      <td>0</td>\n",
       "      <td>0</td>\n",
       "      <td>[0.1881781816482544, 0.24576568603515625, 0.20...</td>\n",
       "      <td>[0, 1, 2, 3, 4, 5, 6, 7, 8, 9, 10, 11, 12, 13,...</td>\n",
       "    </tr>\n",
       "    <tr>\n",
       "      <th>1</th>\n",
       "      <td>1</td>\n",
       "      <td>0</td>\n",
       "      <td>[0.2929092049598694, 0.30753374099731445, 0.26...</td>\n",
       "      <td>[0, 1, 2, 3, 4, 5, 6, 7, 8, 9, 10, 11, 12, 13,...</td>\n",
       "    </tr>\n",
       "    <tr>\n",
       "      <th>2</th>\n",
       "      <td>2</td>\n",
       "      <td>0</td>\n",
       "      <td>[0.2957261800765991, 0.34191060066223145, 0.22...</td>\n",
       "      <td>[0, 1, 2, 3, 4, 5, 6, 7, 8, 9, 10, 11, 12, 13,...</td>\n",
       "    </tr>\n",
       "    <tr>\n",
       "      <th>3</th>\n",
       "      <td>3</td>\n",
       "      <td>0</td>\n",
       "      <td>[0.29291629791259766, 0.3131585121154785, 0.27...</td>\n",
       "      <td>[0, 1, 2, 3, 4, 5, 6, 7, 8, 9, 10, 11, 12, 13,...</td>\n",
       "    </tr>\n",
       "    <tr>\n",
       "      <th>4</th>\n",
       "      <td>4</td>\n",
       "      <td>0</td>\n",
       "      <td>[0.3207061290740967, 0.3631242513656616, 0.226...</td>\n",
       "      <td>[0, 1, 2, 3, 4, 5, 6, 7, 8, 9, 10, 11, 12, 13,...</td>\n",
       "    </tr>\n",
       "    <tr>\n",
       "      <th>...</th>\n",
       "      <td>...</td>\n",
       "      <td>...</td>\n",
       "      <td>...</td>\n",
       "      <td>...</td>\n",
       "    </tr>\n",
       "    <tr>\n",
       "      <th>95</th>\n",
       "      <td>95</td>\n",
       "      <td>9</td>\n",
       "      <td>[0.17506706714630127, 0.20271086692810059, 0.2...</td>\n",
       "      <td>[0, 1, 2, 3, 4, 5, 6, 7, 8, 9, 10, 11, 12, 13,...</td>\n",
       "    </tr>\n",
       "    <tr>\n",
       "      <th>96</th>\n",
       "      <td>96</td>\n",
       "      <td>9</td>\n",
       "      <td>[0.29671674966812134, 0.3007974624633789, 0.21...</td>\n",
       "      <td>[0, 1, 2, 3, 4, 5, 6, 7, 8, 9, 10, 11, 12, 13,...</td>\n",
       "    </tr>\n",
       "    <tr>\n",
       "      <th>97</th>\n",
       "      <td>97</td>\n",
       "      <td>9</td>\n",
       "      <td>[0.25589656829833984, 0.2131522297859192, 0.13...</td>\n",
       "      <td>[0, 1, 2, 3, 4, 5, 6, 7, 8, 9, 10, 11, 12, 13,...</td>\n",
       "    </tr>\n",
       "    <tr>\n",
       "      <th>98</th>\n",
       "      <td>98</td>\n",
       "      <td>9</td>\n",
       "      <td>[0.2952677607536316, 0.3151891827583313, 0.175...</td>\n",
       "      <td>[0, 1, 2, 3, 4, 5, 6, 7, 8, 9, 10, 11, 12, 13,...</td>\n",
       "    </tr>\n",
       "    <tr>\n",
       "      <th>99</th>\n",
       "      <td>99</td>\n",
       "      <td>9</td>\n",
       "      <td>[0.2524755597114563, 0.26177066564559937, 0.24...</td>\n",
       "      <td>[0, 1, 2, 3, 4, 5, 6, 7, 8, 9, 10, 11, 12, 13,...</td>\n",
       "    </tr>\n",
       "  </tbody>\n",
       "</table>\n",
       "<p>100 rows × 4 columns</p>\n",
       "</div>"
      ],
      "text/plain": [
       "    trial_indices  image_ids  \\\n",
       "0               0          0   \n",
       "1               1          0   \n",
       "2               2          0   \n",
       "3               3          0   \n",
       "4               4          0   \n",
       "..            ...        ...   \n",
       "95             95          9   \n",
       "96             96          9   \n",
       "97             97          9   \n",
       "98             98          9   \n",
       "99             99          9   \n",
       "\n",
       "                                           prediction  \\\n",
       "0   [0.1881781816482544, 0.24576568603515625, 0.20...   \n",
       "1   [0.2929092049598694, 0.30753374099731445, 0.26...   \n",
       "2   [0.2957261800765991, 0.34191060066223145, 0.22...   \n",
       "3   [0.29291629791259766, 0.3131585121154785, 0.27...   \n",
       "4   [0.3207061290740967, 0.3631242513656616, 0.226...   \n",
       "..                                                ...   \n",
       "95  [0.17506706714630127, 0.20271086692810059, 0.2...   \n",
       "96  [0.29671674966812134, 0.3007974624633789, 0.21...   \n",
       "97  [0.25589656829833984, 0.2131522297859192, 0.13...   \n",
       "98  [0.2952677607536316, 0.3151891827583313, 0.175...   \n",
       "99  [0.2524755597114563, 0.26177066564559937, 0.24...   \n",
       "\n",
       "                                           neuron_ids  \n",
       "0   [0, 1, 2, 3, 4, 5, 6, 7, 8, 9, 10, 11, 12, 13,...  \n",
       "1   [0, 1, 2, 3, 4, 5, 6, 7, 8, 9, 10, 11, 12, 13,...  \n",
       "2   [0, 1, 2, 3, 4, 5, 6, 7, 8, 9, 10, 11, 12, 13,...  \n",
       "3   [0, 1, 2, 3, 4, 5, 6, 7, 8, 9, 10, 11, 12, 13,...  \n",
       "4   [0, 1, 2, 3, 4, 5, 6, 7, 8, 9, 10, 11, 12, 13,...  \n",
       "..                                                ...  \n",
       "95  [0, 1, 2, 3, 4, 5, 6, 7, 8, 9, 10, 11, 12, 13,...  \n",
       "96  [0, 1, 2, 3, 4, 5, 6, 7, 8, 9, 10, 11, 12, 13,...  \n",
       "97  [0, 1, 2, 3, 4, 5, 6, 7, 8, 9, 10, 11, 12, 13,...  \n",
       "98  [0, 1, 2, 3, 4, 5, 6, 7, 8, 9, 10, 11, 12, 13,...  \n",
       "99  [0, 1, 2, 3, 4, 5, 6, 7, 8, 9, 10, 11, 12, 13,...  \n",
       "\n",
       "[100 rows x 4 columns]"
      ]
     },
     "execution_count": 9,
     "metadata": {},
     "output_type": "execute_result"
    }
   ],
   "source": [
    "import pandas as pd\n",
    "pd.read_csv('./submission_files/hub_demo_submission_file.csv')"
   ]
  },
  {
   "cell_type": "markdown",
   "metadata": {
    "pycharm": {
     "name": "#%% md\n"
    }
   },
   "source": [
    "### Ok wait, how do I submit an entry to the competition again?"
   ]
  },
  {
   "cell_type": "markdown",
   "metadata": {
    "pycharm": {
     "name": "#%% md\n"
    }
   },
   "source": [
    "simply register a new user on http://sensorium2022.net/ with a valid email address, upload the .csv file. That's already it 👍"
   ]
  },
  {
   "cell_type": "markdown",
   "metadata": {
    "pycharm": {
     "name": "#%% md\n"
    }
   },
   "source": [
    "---"
   ]
  }
 ],
 "metadata": {
  "kernelspec": {
   "display_name": "Python 3",
   "language": "python",
   "name": "python3"
  },
  "language_info": {
   "codemirror_mode": {
    "name": "ipython",
    "version": 3
   },
   "file_extension": ".py",
   "mimetype": "text/x-python",
   "name": "python",
   "nbconvert_exporter": "python",
   "pygments_lexer": "ipython3",
   "version": "3.8.0"
  }
 },
 "nbformat": 4,
 "nbformat_minor": 4
}