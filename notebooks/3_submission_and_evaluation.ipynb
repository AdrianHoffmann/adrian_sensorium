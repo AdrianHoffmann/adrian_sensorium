{
 "cells": [
  {
   "cell_type": "markdown",
   "metadata": {},
   "source": [
    "# Load Models and Generate the submission File"
   ]
  },
  {
   "cell_type": "markdown",
   "metadata": {},
   "source": [
    "### This notebook will show how to\n",
    "- load the checkpoints of our baseline models\n",
    "- use our API to generate a submission .csv file\n",
    "- use the .csv file to make a submission\n",
    "\n",
    "We also show how\n",
    "- we extract the ground truth responses from a dataset\n",
    "- we use these ground truth responses and the submitted files to calculate the score of the live leaderboard of our competition"
   ]
  },
  {
   "cell_type": "code",
   "execution_count": 4,
   "metadata": {},
   "outputs": [],
   "source": [
    "import torch\n",
    "import numpy as np\n",
    "import pandas as pd\n",
    "\n",
    "import matplotlib.pyplot as plt\n",
    "import seaborn as sns\n",
    "\n",
    "from nnfabrik.builder import get_data, get_model, get_trainer"
   ]
  },
  {
   "cell_type": "code",
   "execution_count": 5,
   "metadata": {},
   "outputs": [
    {
     "name": "stdout",
     "output_type": "stream",
     "text": [
      "dataport not available, will only be able to load data locally\n"
     ]
    }
   ],
   "source": [
    "tier = 'train'\n",
    "dataset_name = '20457-5-9-0'\n",
    "\n",
    "filenames = ['./data/lurz2020/static20457-5-9-preproc0', ]\n",
    "\n",
    "dataset_fn = 'sensorium.datasets.static_loaders'\n",
    "dataset_config = {'paths': filenames,\n",
    "                 'normalize': True,\n",
    "                 'include_behavior': False,\n",
    "                 'include_eye_position': True,\n",
    "                 'batch_size': 128,\n",
    "                 'exclude': None,\n",
    "                 'file_tree': True,\n",
    "                 'scale': 1,\n",
    "                 }\n",
    "\n",
    "dataloaders = get_data(dataset_fn, dataset_config)"
   ]
  },
  {
   "cell_type": "code",
   "execution_count": 6,
   "metadata": {},
   "outputs": [
    {
     "name": "stderr",
     "output_type": "stream",
     "text": [
      "/src/neuralpredictors/neuralpredictors/layers/readouts/base.py:72: UserWarning: Use of 'gamma_readout' is deprecated. Please consider using the readout's feature-regularization parameter instead\n",
      "  warnings.warn(\n",
      "/src/neuralpredictors/neuralpredictors/layers/readouts/base.py:88: UserWarning: Readout is NOT initialized with mean activity but with 0!\n",
      "  warnings.warn(\"Readout is NOT initialized with mean activity but with 0!\")\n"
     ]
    }
   ],
   "source": [
    "model_fn = 'sensorium.models.stacked_core_full_gauss_readout'\n",
    "model_config = {'pad_input': False,\n",
    "              'stack': -1,\n",
    "              'layers': 4,\n",
    "              'input_kern': 9,\n",
    "              'gamma_input': 6.3831,\n",
    "              'gamma_readout': 0.0076,\n",
    "              'hidden_dilation': 1,\n",
    "              'hidden_kern': 7,\n",
    "              'hidden_channels': 64,\n",
    "              'depth_separable': True,\n",
    "              'init_sigma': 0.1,\n",
    "              'init_mu_range': 0.3,\n",
    "              'gauss_type': 'full',\n",
    "               }\n",
    "\n",
    "sota_model = get_model(model_fn=model_fn,\n",
    "                  model_config=model_config,\n",
    "                  dataloaders=dataloaders,\n",
    "                  seed=42,)\n",
    "\n",
    "sota_model.load_state_dict(torch.load(\"./checkpoints/sota_model.pth\"));"
   ]
  },
  {
   "cell_type": "code",
   "execution_count": 7,
   "metadata": {},
   "outputs": [],
   "source": [
    "model_fn = 'sensorium.models.stacked_core_full_gauss_readout'\n",
    "model_config = {'pad_input': False,\n",
    "              'stack': -1,\n",
    "              'layers': 3,\n",
    "              'input_kern': 9,\n",
    "              'gamma_input': 6.3831,\n",
    "              'gamma_readout': 0.0076,\n",
    "              'hidden_dilation': 1,\n",
    "              'hidden_kern': 7,\n",
    "              'hidden_channels': 64,\n",
    "              'depth_separable': True,\n",
    "              'init_sigma': 0.1,\n",
    "              'init_mu_range': 0.3,\n",
    "              'gauss_type': 'full',\n",
    "              'linear': True\n",
    "               }\n",
    "ln_model = get_model(model_fn=model_fn,\n",
    "                  model_config=model_config,\n",
    "                  dataloaders=dataloaders,\n",
    "                  seed=42,)\n",
    "\n",
    "ln_model.load_state_dict(torch.load(\"./checkpoints/ln_model.pth\"));"
   ]
  },
  {
   "cell_type": "markdown",
   "metadata": {},
   "source": [
    "# Generate the Submission File with our API"
   ]
  },
  {
   "cell_type": "code",
   "execution_count": 8,
   "metadata": {},
   "outputs": [],
   "source": [
    "# import the API from the competition repo\n",
    "from sensorium.utility import submission"
   ]
  },
  {
   "cell_type": "code",
   "execution_count": 10,
   "metadata": {},
   "outputs": [
    {
     "name": "stdout",
     "output_type": "stream",
     "text": [
      "File saved.\n"
     ]
    }
   ],
   "source": [
    "# generate the submission file\n",
    "submission.generate_submission_file(trained_model=sota_model, \n",
    "                                    test_dataloader=dataloaders[\"test\"][dataset_name], \n",
    "                                    path='./submission_files/sota_submission_file.csv')"
   ]
  },
  {
   "cell_type": "code",
   "execution_count": 13,
   "metadata": {},
   "outputs": [
    {
     "name": "stdout",
     "output_type": "stream",
     "text": [
      "File saved.\n"
     ]
    }
   ],
   "source": [
    "# identical procedure with the LN model\n",
    "submission.generate_submission_file(trained_model=ln_model, \n",
    "                                    test_dataloader=dataloaders[\"test\"][dataset_name], \n",
    "                                    path='./submission_files/ln_submission_file.csv')"
   ]
  },
  {
   "cell_type": "markdown",
   "metadata": {},
   "source": [
    "### Inspect content of submission file"
   ]
  },
  {
   "cell_type": "code",
   "execution_count": 11,
   "metadata": {},
   "outputs": [
    {
     "data": {
      "text/html": [
       "<div>\n",
       "<style scoped>\n",
       "    .dataframe tbody tr th:only-of-type {\n",
       "        vertical-align: middle;\n",
       "    }\n",
       "\n",
       "    .dataframe tbody tr th {\n",
       "        vertical-align: top;\n",
       "    }\n",
       "\n",
       "    .dataframe thead th {\n",
       "        text-align: right;\n",
       "    }\n",
       "</style>\n",
       "<table border=\"1\" class=\"dataframe\">\n",
       "  <thead>\n",
       "    <tr style=\"text-align: right;\">\n",
       "      <th></th>\n",
       "      <th>trial_indices</th>\n",
       "      <th>image_ids</th>\n",
       "      <th>prediction</th>\n",
       "      <th>neuron_ids</th>\n",
       "    </tr>\n",
       "  </thead>\n",
       "  <tbody>\n",
       "    <tr>\n",
       "      <th>0</th>\n",
       "      <td>126</td>\n",
       "      <td>2214</td>\n",
       "      <td>[0.4129704236984253, 0.8013747930526733, 0.392...</td>\n",
       "      <td>[1, 2, 3, 4, 5, 6, 7, 8, 9, 10, 11, 13, 14, 15...</td>\n",
       "    </tr>\n",
       "    <tr>\n",
       "      <th>1</th>\n",
       "      <td>297</td>\n",
       "      <td>2214</td>\n",
       "      <td>[0.43444764614105225, 0.9675015211105347, 0.39...</td>\n",
       "      <td>[1, 2, 3, 4, 5, 6, 7, 8, 9, 10, 11, 13, 14, 15...</td>\n",
       "    </tr>\n",
       "    <tr>\n",
       "      <th>2</th>\n",
       "      <td>597</td>\n",
       "      <td>2214</td>\n",
       "      <td>[0.4244424104690552, 0.8653027415275574, 0.450...</td>\n",
       "      <td>[1, 2, 3, 4, 5, 6, 7, 8, 9, 10, 11, 13, 14, 15...</td>\n",
       "    </tr>\n",
       "    <tr>\n",
       "      <th>3</th>\n",
       "      <td>852</td>\n",
       "      <td>2214</td>\n",
       "      <td>[0.44398176670074463, 0.9990906715393066, 0.41...</td>\n",
       "      <td>[1, 2, 3, 4, 5, 6, 7, 8, 9, 10, 11, 13, 14, 15...</td>\n",
       "    </tr>\n",
       "    <tr>\n",
       "      <th>4</th>\n",
       "      <td>908</td>\n",
       "      <td>2214</td>\n",
       "      <td>[0.42371731996536255, 0.9457056522369385, 0.46...</td>\n",
       "      <td>[1, 2, 3, 4, 5, 6, 7, 8, 9, 10, 11, 13, 14, 15...</td>\n",
       "    </tr>\n",
       "    <tr>\n",
       "      <th>...</th>\n",
       "      <td>...</td>\n",
       "      <td>...</td>\n",
       "      <td>...</td>\n",
       "      <td>...</td>\n",
       "    </tr>\n",
       "    <tr>\n",
       "      <th>994</th>\n",
       "      <td>2752</td>\n",
       "      <td>3487</td>\n",
       "      <td>[0.12793129682540894, 0.20165026187896729, 0.2...</td>\n",
       "      <td>[1, 2, 3, 4, 5, 6, 7, 8, 9, 10, 11, 13, 14, 15...</td>\n",
       "    </tr>\n",
       "    <tr>\n",
       "      <th>995</th>\n",
       "      <td>3039</td>\n",
       "      <td>3487</td>\n",
       "      <td>[0.12709170579910278, 0.19649678468704224, 0.2...</td>\n",
       "      <td>[1, 2, 3, 4, 5, 6, 7, 8, 9, 10, 11, 13, 14, 15...</td>\n",
       "    </tr>\n",
       "    <tr>\n",
       "      <th>996</th>\n",
       "      <td>4312</td>\n",
       "      <td>3487</td>\n",
       "      <td>[0.13403362035751343, 0.23714011907577515, 0.2...</td>\n",
       "      <td>[1, 2, 3, 4, 5, 6, 7, 8, 9, 10, 11, 13, 14, 15...</td>\n",
       "    </tr>\n",
       "    <tr>\n",
       "      <th>997</th>\n",
       "      <td>4380</td>\n",
       "      <td>3487</td>\n",
       "      <td>[0.13138562440872192, 0.20400822162628174, 0.2...</td>\n",
       "      <td>[1, 2, 3, 4, 5, 6, 7, 8, 9, 10, 11, 13, 14, 15...</td>\n",
       "    </tr>\n",
       "    <tr>\n",
       "      <th>998</th>\n",
       "      <td>4571</td>\n",
       "      <td>3487</td>\n",
       "      <td>[0.1269608736038208, 0.18612313270568848, 0.27...</td>\n",
       "      <td>[1, 2, 3, 4, 5, 6, 7, 8, 9, 10, 11, 13, 14, 15...</td>\n",
       "    </tr>\n",
       "  </tbody>\n",
       "</table>\n",
       "<p>999 rows × 4 columns</p>\n",
       "</div>"
      ],
      "text/plain": [
       "     trial_indices  image_ids  \\\n",
       "0              126       2214   \n",
       "1              297       2214   \n",
       "2              597       2214   \n",
       "3              852       2214   \n",
       "4              908       2214   \n",
       "..             ...        ...   \n",
       "994           2752       3487   \n",
       "995           3039       3487   \n",
       "996           4312       3487   \n",
       "997           4380       3487   \n",
       "998           4571       3487   \n",
       "\n",
       "                                            prediction  \\\n",
       "0    [0.4129704236984253, 0.8013747930526733, 0.392...   \n",
       "1    [0.43444764614105225, 0.9675015211105347, 0.39...   \n",
       "2    [0.4244424104690552, 0.8653027415275574, 0.450...   \n",
       "3    [0.44398176670074463, 0.9990906715393066, 0.41...   \n",
       "4    [0.42371731996536255, 0.9457056522369385, 0.46...   \n",
       "..                                                 ...   \n",
       "994  [0.12793129682540894, 0.20165026187896729, 0.2...   \n",
       "995  [0.12709170579910278, 0.19649678468704224, 0.2...   \n",
       "996  [0.13403362035751343, 0.23714011907577515, 0.2...   \n",
       "997  [0.13138562440872192, 0.20400822162628174, 0.2...   \n",
       "998  [0.1269608736038208, 0.18612313270568848, 0.27...   \n",
       "\n",
       "                                            neuron_ids  \n",
       "0    [1, 2, 3, 4, 5, 6, 7, 8, 9, 10, 11, 13, 14, 15...  \n",
       "1    [1, 2, 3, 4, 5, 6, 7, 8, 9, 10, 11, 13, 14, 15...  \n",
       "2    [1, 2, 3, 4, 5, 6, 7, 8, 9, 10, 11, 13, 14, 15...  \n",
       "3    [1, 2, 3, 4, 5, 6, 7, 8, 9, 10, 11, 13, 14, 15...  \n",
       "4    [1, 2, 3, 4, 5, 6, 7, 8, 9, 10, 11, 13, 14, 15...  \n",
       "..                                                 ...  \n",
       "994  [1, 2, 3, 4, 5, 6, 7, 8, 9, 10, 11, 13, 14, 15...  \n",
       "995  [1, 2, 3, 4, 5, 6, 7, 8, 9, 10, 11, 13, 14, 15...  \n",
       "996  [1, 2, 3, 4, 5, 6, 7, 8, 9, 10, 11, 13, 14, 15...  \n",
       "997  [1, 2, 3, 4, 5, 6, 7, 8, 9, 10, 11, 13, 14, 15...  \n",
       "998  [1, 2, 3, 4, 5, 6, 7, 8, 9, 10, 11, 13, 14, 15...  \n",
       "\n",
       "[999 rows x 4 columns]"
      ]
     },
     "execution_count": 11,
     "metadata": {},
     "output_type": "execute_result"
    }
   ],
   "source": [
    "import pandas as pd\n",
    "pd.read_csv('./submission_files/sota_submission_file.csv')"
   ]
  },
  {
   "cell_type": "code",
   "execution_count": 14,
   "metadata": {},
   "outputs": [
    {
     "data": {
      "text/html": [
       "<div>\n",
       "<style scoped>\n",
       "    .dataframe tbody tr th:only-of-type {\n",
       "        vertical-align: middle;\n",
       "    }\n",
       "\n",
       "    .dataframe tbody tr th {\n",
       "        vertical-align: top;\n",
       "    }\n",
       "\n",
       "    .dataframe thead th {\n",
       "        text-align: right;\n",
       "    }\n",
       "</style>\n",
       "<table border=\"1\" class=\"dataframe\">\n",
       "  <thead>\n",
       "    <tr style=\"text-align: right;\">\n",
       "      <th></th>\n",
       "      <th>trial_indices</th>\n",
       "      <th>image_ids</th>\n",
       "      <th>prediction</th>\n",
       "      <th>neuron_ids</th>\n",
       "    </tr>\n",
       "  </thead>\n",
       "  <tbody>\n",
       "    <tr>\n",
       "      <th>0</th>\n",
       "      <td>126</td>\n",
       "      <td>2214</td>\n",
       "      <td>[0.26144659519195557, 0.5331838726997375, 0.49...</td>\n",
       "      <td>[1, 2, 3, 4, 5, 6, 7, 8, 9, 10, 11, 13, 14, 15...</td>\n",
       "    </tr>\n",
       "    <tr>\n",
       "      <th>1</th>\n",
       "      <td>297</td>\n",
       "      <td>2214</td>\n",
       "      <td>[0.2594672441482544, 0.5381501913070679, 0.502...</td>\n",
       "      <td>[1, 2, 3, 4, 5, 6, 7, 8, 9, 10, 11, 13, 14, 15...</td>\n",
       "    </tr>\n",
       "    <tr>\n",
       "      <th>2</th>\n",
       "      <td>597</td>\n",
       "      <td>2214</td>\n",
       "      <td>[0.2711303234100342, 0.5490167737007141, 0.487...</td>\n",
       "      <td>[1, 2, 3, 4, 5, 6, 7, 8, 9, 10, 11, 13, 14, 15...</td>\n",
       "    </tr>\n",
       "    <tr>\n",
       "      <th>3</th>\n",
       "      <td>852</td>\n",
       "      <td>2214</td>\n",
       "      <td>[0.24851012229919434, 0.5322059988975525, 0.49...</td>\n",
       "      <td>[1, 2, 3, 4, 5, 6, 7, 8, 9, 10, 11, 13, 14, 15...</td>\n",
       "    </tr>\n",
       "    <tr>\n",
       "      <th>4</th>\n",
       "      <td>908</td>\n",
       "      <td>2214</td>\n",
       "      <td>[0.26896047592163086, 0.49697959423065186, 0.4...</td>\n",
       "      <td>[1, 2, 3, 4, 5, 6, 7, 8, 9, 10, 11, 13, 14, 15...</td>\n",
       "    </tr>\n",
       "    <tr>\n",
       "      <th>...</th>\n",
       "      <td>...</td>\n",
       "      <td>...</td>\n",
       "      <td>...</td>\n",
       "      <td>...</td>\n",
       "    </tr>\n",
       "    <tr>\n",
       "      <th>994</th>\n",
       "      <td>2752</td>\n",
       "      <td>3487</td>\n",
       "      <td>[0.2704678177833557, 0.7939815521240234, 1.037...</td>\n",
       "      <td>[1, 2, 3, 4, 5, 6, 7, 8, 9, 10, 11, 13, 14, 15...</td>\n",
       "    </tr>\n",
       "    <tr>\n",
       "      <th>995</th>\n",
       "      <td>3039</td>\n",
       "      <td>3487</td>\n",
       "      <td>[0.2738579511642456, 0.7711479663848877, 1.059...</td>\n",
       "      <td>[1, 2, 3, 4, 5, 6, 7, 8, 9, 10, 11, 13, 14, 15...</td>\n",
       "    </tr>\n",
       "    <tr>\n",
       "      <th>996</th>\n",
       "      <td>4312</td>\n",
       "      <td>3487</td>\n",
       "      <td>[0.27059680223464966, 0.8960937261581421, 1.04...</td>\n",
       "      <td>[1, 2, 3, 4, 5, 6, 7, 8, 9, 10, 11, 13, 14, 15...</td>\n",
       "    </tr>\n",
       "    <tr>\n",
       "      <th>997</th>\n",
       "      <td>4380</td>\n",
       "      <td>3487</td>\n",
       "      <td>[0.2709449529647827, 0.8625759482383728, 0.958...</td>\n",
       "      <td>[1, 2, 3, 4, 5, 6, 7, 8, 9, 10, 11, 13, 14, 15...</td>\n",
       "    </tr>\n",
       "    <tr>\n",
       "      <th>998</th>\n",
       "      <td>4571</td>\n",
       "      <td>3487</td>\n",
       "      <td>[0.26267099380493164, 0.7884867191314697, 0.99...</td>\n",
       "      <td>[1, 2, 3, 4, 5, 6, 7, 8, 9, 10, 11, 13, 14, 15...</td>\n",
       "    </tr>\n",
       "  </tbody>\n",
       "</table>\n",
       "<p>999 rows × 4 columns</p>\n",
       "</div>"
      ],
      "text/plain": [
       "     trial_indices  image_ids  \\\n",
       "0              126       2214   \n",
       "1              297       2214   \n",
       "2              597       2214   \n",
       "3              852       2214   \n",
       "4              908       2214   \n",
       "..             ...        ...   \n",
       "994           2752       3487   \n",
       "995           3039       3487   \n",
       "996           4312       3487   \n",
       "997           4380       3487   \n",
       "998           4571       3487   \n",
       "\n",
       "                                            prediction  \\\n",
       "0    [0.26144659519195557, 0.5331838726997375, 0.49...   \n",
       "1    [0.2594672441482544, 0.5381501913070679, 0.502...   \n",
       "2    [0.2711303234100342, 0.5490167737007141, 0.487...   \n",
       "3    [0.24851012229919434, 0.5322059988975525, 0.49...   \n",
       "4    [0.26896047592163086, 0.49697959423065186, 0.4...   \n",
       "..                                                 ...   \n",
       "994  [0.2704678177833557, 0.7939815521240234, 1.037...   \n",
       "995  [0.2738579511642456, 0.7711479663848877, 1.059...   \n",
       "996  [0.27059680223464966, 0.8960937261581421, 1.04...   \n",
       "997  [0.2709449529647827, 0.8625759482383728, 0.958...   \n",
       "998  [0.26267099380493164, 0.7884867191314697, 0.99...   \n",
       "\n",
       "                                            neuron_ids  \n",
       "0    [1, 2, 3, 4, 5, 6, 7, 8, 9, 10, 11, 13, 14, 15...  \n",
       "1    [1, 2, 3, 4, 5, 6, 7, 8, 9, 10, 11, 13, 14, 15...  \n",
       "2    [1, 2, 3, 4, 5, 6, 7, 8, 9, 10, 11, 13, 14, 15...  \n",
       "3    [1, 2, 3, 4, 5, 6, 7, 8, 9, 10, 11, 13, 14, 15...  \n",
       "4    [1, 2, 3, 4, 5, 6, 7, 8, 9, 10, 11, 13, 14, 15...  \n",
       "..                                                 ...  \n",
       "994  [1, 2, 3, 4, 5, 6, 7, 8, 9, 10, 11, 13, 14, 15...  \n",
       "995  [1, 2, 3, 4, 5, 6, 7, 8, 9, 10, 11, 13, 14, 15...  \n",
       "996  [1, 2, 3, 4, 5, 6, 7, 8, 9, 10, 11, 13, 14, 15...  \n",
       "997  [1, 2, 3, 4, 5, 6, 7, 8, 9, 10, 11, 13, 14, 15...  \n",
       "998  [1, 2, 3, 4, 5, 6, 7, 8, 9, 10, 11, 13, 14, 15...  \n",
       "\n",
       "[999 rows x 4 columns]"
      ]
     },
     "execution_count": 14,
     "metadata": {},
     "output_type": "execute_result"
    }
   ],
   "source": [
    "import pandas as pd\n",
    "pd.read_csv('./submission_files/ln_submission_file.csv')"
   ]
  },
  {
   "cell_type": "markdown",
   "metadata": {},
   "source": [
    "# The submission process"
   ]
  },
  {
   "cell_type": "markdown",
   "metadata": {},
   "source": [
    "- now that the .csv file is generated, the participant can make an entry to the competition\n",
    "- all that is left to do is:\n",
    " - register a new user on http://sensorium2022.net/ with a valid email address\n",
    " - upload the .csv file\n",
    " - the competition score will be calculated automatically and will show up in the live leaderboard within a few seconds"
   ]
  },
  {
   "cell_type": "markdown",
   "metadata": {},
   "source": [
    "---"
   ]
  },
  {
   "cell_type": "markdown",
   "metadata": {},
   "source": [
    "# How the scores get computed "
   ]
  },
  {
   "cell_type": "markdown",
   "metadata": {},
   "source": [
    "- we will withhold the ground truth neuronal responses to the test set images in the actual competition\n",
    "- here we show \n",
    " - how we extract the ground truth responses from the demo dataset (where the test set responses are present)\n",
    " - how the metrics of the competition are calculated"
   ]
  },
  {
   "cell_type": "code",
   "execution_count": 16,
   "metadata": {},
   "outputs": [],
   "source": [
    "from sensorium.eval import evaluate"
   ]
  },
  {
   "cell_type": "code",
   "execution_count": 18,
   "metadata": {},
   "outputs": [],
   "source": [
    "filename = ['./data/lurz2020/static20457-5-9-preproc0']\n",
    "submission.generate_ground_truth_file(filename=filename,\n",
    "                                      path='./ground_truth_files/ground_truth_file.csv')"
   ]
  },
  {
   "cell_type": "markdown",
   "metadata": {},
   "source": [
    "### SOTA model results"
   ]
  },
  {
   "cell_type": "code",
   "execution_count": 19,
   "metadata": {},
   "outputs": [],
   "source": [
    "ground_truth_file = './ground_truth_files/ground_truth_file.csv'\n",
    "submission_file = './submission_files/sota_submission_file.csv'"
   ]
  },
  {
   "cell_type": "code",
   "execution_count": 20,
   "metadata": {},
   "outputs": [],
   "source": [
    "out = evaluate(submission_file, ground_truth_file)"
   ]
  },
  {
   "cell_type": "code",
   "execution_count": 21,
   "metadata": {},
   "outputs": [
    {
     "name": "stdout",
     "output_type": "stream",
     "text": [
      "Results for the SOTA model:\n",
      "Correlation (single trial): 0.296\n",
      "Correlation (mean): 0.539\n",
      "FEVE: 0.292\n"
     ]
    }
   ],
   "source": [
    "print(\"Results for the SOTA model:\")\n",
    "for metric, value in out.items():\n",
    "    print(f\"{metric}: {np.round(value, 3)}\")"
   ]
  },
  {
   "cell_type": "markdown",
   "metadata": {},
   "source": [
    "### LN model results"
   ]
  },
  {
   "cell_type": "code",
   "execution_count": 22,
   "metadata": {},
   "outputs": [],
   "source": [
    "ground_truth_file = './ground_truth_files/ground_truth_file.csv'\n",
    "submission_file = './submission_files/ln_submission_file.csv'"
   ]
  },
  {
   "cell_type": "code",
   "execution_count": 23,
   "metadata": {},
   "outputs": [],
   "source": [
    "out = evaluate(submission_file, ground_truth_file)"
   ]
  },
  {
   "cell_type": "code",
   "execution_count": 24,
   "metadata": {},
   "outputs": [
    {
     "name": "stdout",
     "output_type": "stream",
     "text": [
      "Results for the LN model:\n",
      "Correlation (single trial): 0.203\n",
      "Correlation (mean): 0.365\n",
      "FEVE: 0.129\n"
     ]
    }
   ],
   "source": [
    "print(\"Results for the LN model:\")\n",
    "for metric, value in out.items():\n",
    "    print(f\"{metric}: {np.round(value,3)}\")"
   ]
  },
  {
   "cell_type": "markdown",
   "metadata": {},
   "source": [
    "---"
   ]
  }
 ],
 "metadata": {
  "kernelspec": {
   "display_name": "Python 3",
   "language": "python",
   "name": "python3"
  },
  "language_info": {
   "codemirror_mode": {
    "name": "ipython",
    "version": 3
   },
   "file_extension": ".py",
   "mimetype": "text/x-python",
   "name": "python",
   "nbconvert_exporter": "python",
   "pygments_lexer": "ipython3",
   "version": "3.8.0"
  }
 },
 "nbformat": 4,
 "nbformat_minor": 4
}
