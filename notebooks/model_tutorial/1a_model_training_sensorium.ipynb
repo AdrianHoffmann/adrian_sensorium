{
 "cells": [
  {
   "cell_type": "markdown",
   "metadata": {
    "pycharm": {
     "name": "#%% md\n"
    }
   },
   "source": [
    "# How to train the Baseline Models"
   ]
  },
  {
   "cell_type": "markdown",
   "metadata": {
    "pycharm": {
     "name": "#%% md\n"
    }
   },
   "source": [
    "### This notebook will show how to\n",
    "- instantiate dataloader for the demo data\n",
    "- instantiate pytorch model\n",
    "- instantiate a trainer function\n",
    "- train two baselines on the demo data\n",
    "- save the model weights (the model weights can already be found in '/notebooks/precomputed_checkpoints/')"
   ]
  },
  {
   "cell_type": "markdown",
   "metadata": {
    "pycharm": {
     "name": "#%% md\n"
    }
   },
   "source": [
    "### Imports"
   ]
  },
  {
   "cell_type": "code",
   "execution_count": 1,
   "metadata": {
    "pycharm": {
     "name": "#%%\n"
    }
   },
   "outputs": [],
   "source": [
    "import torch\n",
    "import numpy as np\n",
    "import pandas as pd\n",
    "\n",
    "import matplotlib.pyplot as plt\n",
    "import seaborn as sns\n",
    "\n",
    "import warnings\n",
    "warnings.filterwarnings('ignore')\n",
    "\n",
    "from nnfabrik.builder import get_data, get_model, get_trainer"
   ]
  },
  {
   "cell_type": "markdown",
   "metadata": {
    "pycharm": {
     "name": "#%% md\n"
    }
   },
   "source": [
    "### Instantiate DataLoader"
   ]
  },
  {
   "cell_type": "code",
   "execution_count": 2,
   "metadata": {
    "pycharm": {
     "name": "#%%\n"
    }
   },
   "outputs": [],
   "source": [
    "# loading the SENSORIUM dataset\n",
    "filenames = ['./data/static26872-17-20-GrayImageNet-94c6ff995dac583098847cfecd43e7b6.zip', ]\n",
    "\n",
    "dataset_fn = 'sensorium.datasets.static_loaders'\n",
    "dataset_config = {'paths': filenames,\n",
    "                 'normalize': True,\n",
    "                 'include_behavior': False,\n",
    "                 'include_eye_position': False,\n",
    "                 'batch_size': 128,\n",
    "                 'scale':1,\n",
    "                 }\n",
    "\n",
    "dataloaders = get_data(dataset_fn, dataset_config)"
   ]
  },
  {
   "cell_type": "markdown",
   "metadata": {
    "pycharm": {
     "name": "#%% md\n"
    }
   },
   "source": [
    "# Instantiate State of the Art Model (SOTA)"
   ]
  },
  {
   "cell_type": "code",
   "execution_count": 3,
   "metadata": {
    "pycharm": {
     "name": "#%%\n"
    }
   },
   "outputs": [],
   "source": [
    "model_fn = 'sensorium.models.stacked_core_full_gauss_readout'\n",
    "model_config = {'pad_input': False,\n",
    "  'stack': -1,\n",
    "  'layers': 4,\n",
    "  'input_kern': 9,\n",
    "  'gamma_input': 6.3831,\n",
    "  'gamma_readout': 0.0076,\n",
    "  'hidden_dilation': 1,\n",
    "  'hidden_kern': 7,\n",
    "  'hidden_channels': 64,\n",
    "  'depth_separable': True,\n",
    "  'grid_mean_predictor': {'type': 'cortex',\n",
    "   'input_dimensions': 2,\n",
    "   'hidden_layers': 1,\n",
    "   'hidden_features': 30,\n",
    "   'final_tanh': True},\n",
    "  'init_sigma': 0.1,\n",
    "  'init_mu_range': 0.3,\n",
    "  'gauss_type': 'full',\n",
    "  'shifter': False,\n",
    "  'use_avg_reg':False,\n",
    "}\n",
    "\n",
    "model = get_model(model_fn=model_fn,\n",
    "                  model_config=model_config,\n",
    "                  dataloaders=dataloaders,\n",
    "                  seed=42,)"
   ]
  },
  {
   "cell_type": "markdown",
   "metadata": {
    "pycharm": {
     "name": "#%% md\n"
    }
   },
   "source": [
    "## Configure Trainer"
   ]
  },
  {
   "cell_type": "code",
   "execution_count": 4,
   "metadata": {
    "pycharm": {
     "name": "#%%\n"
    }
   },
   "outputs": [],
   "source": [
    "trainer_fn = \"sensorium.training.standard_trainer\"\n",
    "\n",
    "trainer_config = {'max_iter': 1,\n",
    "                 'verbose': False,\n",
    "                 'lr_decay_steps': 4,\n",
    "                 'avg_loss': False,\n",
    "                 'lr_init': 0.009,\n",
    "                 }\n",
    "\n",
    "trainer = get_trainer(trainer_fn=trainer_fn, \n",
    "                     trainer_config=trainer_config)"
   ]
  },
  {
   "cell_type": "markdown",
   "metadata": {
    "pycharm": {
     "name": "#%% md\n"
    }
   },
   "source": [
    "# Run model training"
   ]
  },
  {
   "cell_type": "code",
   "execution_count": null,
   "metadata": {
    "pycharm": {
     "name": "#%%\n"
    }
   },
   "outputs": [],
   "source": [
    "validation_score, trainer_output, state_dict = trainer(model, dataloaders, seed=42)"
   ]
  },
  {
   "cell_type": "markdown",
   "metadata": {
    "pycharm": {
     "name": "#%% md\n"
    }
   },
   "source": [
    "## Save model checkpoints"
   ]
  },
  {
   "cell_type": "code",
   "execution_count": 12,
   "metadata": {
    "pycharm": {
     "name": "#%%\n"
    }
   },
   "outputs": [],
   "source": [
    "torch.save(model.state_dict(), './model_checkpoints/sensorium_sota_model.pth')"
   ]
  },
  {
   "cell_type": "markdown",
   "metadata": {
    "pycharm": {
     "name": "#%% md\n"
    }
   },
   "source": [
    "## Load Model Checkpoints"
   ]
  },
  {
   "cell_type": "code",
   "execution_count": 11,
   "metadata": {
    "pycharm": {
     "name": "#%%\n"
    }
   },
   "outputs": [],
   "source": [
    "model.load_state_dict(torch.load(\"./model_checkpoints/pretrained/sensorium_sota_model.pth\"));"
   ]
  },
  {
   "cell_type": "markdown",
   "metadata": {
    "pycharm": {
     "name": "#%% md\n"
    }
   },
   "source": [
    "---"
   ]
  },
  {
   "cell_type": "markdown",
   "metadata": {
    "pycharm": {
     "name": "#%% md\n"
    }
   },
   "source": [
    "# Train a simple LN model"
   ]
  },
  {
   "cell_type": "code",
   "execution_count": 14,
   "metadata": {
    "pycharm": {
     "name": "#%%\n"
    }
   },
   "outputs": [],
   "source": [
    "# this will remove all nonlinearities from the CNN, and creates essentially a ln model: linear core + readout, with a subsequent non-linearity\n",
    "\n",
    "model_fn = 'sensorium.models.stacked_core_full_gauss_readout'\n",
    "model_config = {'pad_input': False,\n",
    "              'stack': -1,\n",
    "              'layers': 3,\n",
    "              'input_kern': 9,\n",
    "              'gamma_input': 6.3831,\n",
    "              'gamma_readout': 0.0076,\n",
    "              'hidden_dilation': 1,\n",
    "              'hidden_kern': 7,\n",
    "              'hidden_channels': 64,\n",
    "              'grid_mean_predictor': {'type': 'cortex',\n",
    "              'input_dimensions': 2,\n",
    "              'hidden_layers': 1,\n",
    "              'hidden_features': 30,\n",
    "              'final_tanh': True},\n",
    "              'depth_separable': True,\n",
    "              'init_sigma': 0.1,\n",
    "              'init_mu_range': 0.3,\n",
    "              'gauss_type': 'full',\n",
    "              'linear': True\n",
    "               }\n",
    "model = get_model(model_fn=model_fn,\n",
    "                  model_config=model_config,\n",
    "                  dataloaders=dataloaders,\n",
    "                  seed=42,)"
   ]
  },
  {
   "cell_type": "code",
   "execution_count": 8,
   "metadata": {
    "pycharm": {
     "name": "#%%\n"
    }
   },
   "outputs": [
    {
     "name": "stderr",
     "output_type": "stream",
     "text": [
      "Epoch 1: 100%|██████████| 35/35 [00:05<00:00,  6.47it/s]\n",
      "Epoch 2: 100%|██████████| 35/35 [00:05<00:00,  6.47it/s]\n",
      "Epoch 3: 100%|██████████| 35/35 [00:05<00:00,  6.53it/s]\n",
      "Epoch 4: 100%|██████████| 35/35 [00:05<00:00,  6.50it/s]\n",
      "Epoch 5: 100%|██████████| 35/35 [00:05<00:00,  6.44it/s]\n",
      "Epoch 6: 100%|██████████| 35/35 [00:05<00:00,  6.54it/s]\n",
      "Epoch 7: 100%|██████████| 35/35 [00:05<00:00,  6.54it/s]\n",
      "Epoch 8: 100%|██████████| 35/35 [00:05<00:00,  6.53it/s]\n",
      "Epoch 9: 100%|██████████| 35/35 [00:05<00:00,  6.46it/s]\n",
      "Epoch 10: 100%|██████████| 35/35 [00:05<00:00,  6.47it/s]\n",
      "Epoch 11: 100%|██████████| 35/35 [00:05<00:00,  6.45it/s]\n",
      "Epoch 12: 100%|██████████| 35/35 [00:05<00:00,  6.43it/s]\n",
      "Epoch 13: 100%|██████████| 35/35 [00:05<00:00,  6.47it/s]\n",
      "Epoch 14: 100%|██████████| 35/35 [00:05<00:00,  6.47it/s]\n",
      "Epoch 15: 100%|██████████| 35/35 [00:05<00:00,  6.43it/s]\n",
      "Epoch 16: 100%|██████████| 35/35 [00:05<00:00,  6.51it/s]\n",
      "Epoch 17: 100%|██████████| 35/35 [00:05<00:00,  6.51it/s]\n",
      "Epoch 18: 100%|██████████| 35/35 [00:05<00:00,  6.52it/s]\n",
      "Epoch 19: 100%|██████████| 35/35 [00:05<00:00,  6.46it/s]\n",
      "Epoch 20: 100%|██████████| 35/35 [00:05<00:00,  6.44it/s]\n",
      "Epoch 21: 100%|██████████| 35/35 [00:05<00:00,  6.38it/s]\n",
      "Epoch 22: 100%|██████████| 35/35 [00:05<00:00,  6.47it/s]\n",
      "Epoch 23: 100%|██████████| 35/35 [00:05<00:00,  6.48it/s]\n",
      "Epoch 24: 100%|██████████| 35/35 [00:05<00:00,  6.43it/s]\n",
      "Epoch 25: 100%|██████████| 35/35 [00:05<00:00,  6.44it/s]\n",
      "Epoch 26: 100%|██████████| 35/35 [00:05<00:00,  6.48it/s]\n",
      "Epoch 27: 100%|██████████| 35/35 [00:05<00:00,  6.35it/s]\n",
      "Epoch 28: 100%|██████████| 35/35 [00:05<00:00,  6.44it/s]\n",
      "Epoch 29: 100%|██████████| 35/35 [00:05<00:00,  6.36it/s]\n",
      "Epoch 30: 100%|██████████| 35/35 [00:05<00:00,  6.37it/s]\n",
      "Epoch 31: 100%|██████████| 35/35 [00:05<00:00,  6.34it/s]\n",
      "Epoch 32: 100%|██████████| 35/35 [00:05<00:00,  6.36it/s]\n",
      "Epoch 33: 100%|██████████| 35/35 [00:05<00:00,  6.41it/s]\n",
      "Epoch 34: 100%|██████████| 35/35 [00:05<00:00,  6.42it/s]\n",
      "Epoch 35: 100%|██████████| 35/35 [00:05<00:00,  6.40it/s]\n",
      "Epoch 36: 100%|██████████| 35/35 [00:05<00:00,  6.42it/s]\n",
      "Epoch 37: 100%|██████████| 35/35 [00:05<00:00,  6.40it/s]\n",
      "Epoch 38: 100%|██████████| 35/35 [00:05<00:00,  6.43it/s]\n",
      "Epoch 39: 100%|██████████| 35/35 [00:05<00:00,  6.24it/s]\n",
      "Epoch 40: 100%|██████████| 35/35 [00:05<00:00,  6.26it/s]\n",
      "Epoch 41: 100%|██████████| 35/35 [00:05<00:00,  6.23it/s]\n",
      "Epoch 42: 100%|██████████| 35/35 [00:05<00:00,  6.26it/s]\n",
      "Epoch 43: 100%|██████████| 35/35 [00:05<00:00,  6.25it/s]\n",
      "Epoch 44: 100%|██████████| 35/35 [00:05<00:00,  6.25it/s]\n",
      "Epoch 45: 100%|██████████| 35/35 [00:05<00:00,  6.18it/s]\n",
      "Epoch 46: 100%|██████████| 35/35 [00:05<00:00,  6.22it/s]\n",
      "Epoch 47: 100%|██████████| 35/35 [00:05<00:00,  6.11it/s]\n",
      "Epoch 48: 100%|██████████| 35/35 [00:05<00:00,  6.11it/s]\n",
      "Epoch 49: 100%|██████████| 35/35 [00:05<00:00,  6.10it/s]\n",
      "Epoch 50: 100%|██████████| 35/35 [00:05<00:00,  6.12it/s]\n",
      "Epoch 51: 100%|██████████| 35/35 [00:05<00:00,  6.10it/s]\n",
      "Epoch 52: 100%|██████████| 35/35 [00:05<00:00,  6.14it/s]\n",
      "Epoch 53: 100%|██████████| 35/35 [00:05<00:00,  6.10it/s]\n",
      "Epoch 54: 100%|██████████| 35/35 [00:05<00:00,  6.11it/s]\n",
      "Epoch 55: 100%|██████████| 35/35 [00:05<00:00,  6.11it/s]\n",
      "Epoch 56: 100%|██████████| 35/35 [00:05<00:00,  5.99it/s]\n",
      "Epoch 57: 100%|██████████| 35/35 [00:05<00:00,  6.32it/s]\n",
      "Epoch 58: 100%|██████████| 35/35 [00:05<00:00,  6.61it/s]\n",
      "Epoch 59: 100%|██████████| 35/35 [00:05<00:00,  6.60it/s]\n",
      "Epoch 60: 100%|██████████| 35/35 [00:05<00:00,  6.64it/s]\n",
      "Epoch 61: 100%|██████████| 35/35 [00:05<00:00,  6.15it/s]\n",
      "Epoch 62: 100%|██████████| 35/35 [00:05<00:00,  6.19it/s]\n",
      "Epoch 63: 100%|██████████| 35/35 [00:05<00:00,  6.24it/s]\n",
      "Epoch 64: 100%|██████████| 35/35 [00:05<00:00,  6.22it/s]\n",
      "Epoch 65: 100%|██████████| 35/35 [00:05<00:00,  6.15it/s]\n",
      "Epoch 66: 100%|██████████| 35/35 [00:05<00:00,  6.19it/s]\n",
      "Epoch 67: 100%|██████████| 35/35 [00:05<00:00,  6.19it/s]\n",
      "Epoch 68: 100%|██████████| 35/35 [00:05<00:00,  6.29it/s]\n",
      "Epoch 69: 100%|██████████| 35/35 [00:05<00:00,  6.25it/s]\n",
      "Epoch 70: 100%|██████████| 35/35 [00:05<00:00,  6.19it/s]\n",
      "Epoch 71: 100%|██████████| 35/35 [00:05<00:00,  6.21it/s]\n",
      "Epoch 72: 100%|██████████| 35/35 [00:05<00:00,  6.45it/s]\n",
      "Epoch 73: 100%|██████████| 35/35 [00:05<00:00,  6.59it/s]\n",
      "Epoch 74: 100%|██████████| 35/35 [00:05<00:00,  6.65it/s]\n",
      "Epoch 75: 100%|██████████| 35/35 [00:05<00:00,  6.71it/s]\n",
      "Epoch 76: 100%|██████████| 35/35 [00:05<00:00,  6.64it/s]\n",
      "Epoch 77: 100%|██████████| 35/35 [00:05<00:00,  6.63it/s]\n",
      "Epoch 78: 100%|██████████| 35/35 [00:05<00:00,  6.61it/s]\n",
      "Epoch 79: 100%|██████████| 35/35 [00:05<00:00,  6.62it/s]\n",
      "Epoch 80: 100%|██████████| 35/35 [00:05<00:00,  6.61it/s]\n",
      "Epoch 81: 100%|██████████| 35/35 [00:05<00:00,  6.62it/s]\n",
      "Epoch 82: 100%|██████████| 35/35 [00:05<00:00,  6.59it/s]\n"
     ]
    }
   ],
   "source": [
    "validation_score, trainer_output, state_dict = trainer(ln_model, dataloaders, seed=42)"
   ]
  },
  {
   "cell_type": "code",
   "execution_count": 9,
   "metadata": {
    "pycharm": {
     "name": "#%%\n"
    }
   },
   "outputs": [],
   "source": [
    "torch.save(model.state_dict(), './model_checkpoints/sensorium_ln_model.pth')"
   ]
  },
  {
   "cell_type": "code",
   "execution_count": 15,
   "metadata": {
    "pycharm": {
     "name": "#%%\n"
    }
   },
   "outputs": [],
   "source": [
    "model.load_state_dict(torch.load(\"./model_checkpoints/pretrained/sensorium_ln_model.pth\"));"
   ]
  },
  {
   "cell_type": "markdown",
   "metadata": {
    "pycharm": {
     "name": "#%% md\n"
    }
   },
   "source": [
    "---"
   ]
  }
 ],
 "metadata": {
  "kernelspec": {
   "display_name": "Python 3",
   "language": "python",
   "name": "python3"
  },
  "language_info": {
   "codemirror_mode": {
    "name": "ipython",
    "version": 3
   },
   "file_extension": ".py",
   "mimetype": "text/x-python",
   "name": "python",
   "nbconvert_exporter": "python",
   "pygments_lexer": "ipython3",
   "version": "3.8.0"
  }
 },
 "nbformat": 4,
 "nbformat_minor": 4
}