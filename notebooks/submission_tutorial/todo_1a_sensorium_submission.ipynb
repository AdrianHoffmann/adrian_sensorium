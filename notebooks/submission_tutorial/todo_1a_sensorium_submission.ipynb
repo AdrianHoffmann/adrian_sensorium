{
 "cells": [
  {
   "cell_type": "markdown",
   "metadata": {
    "pycharm": {
     "name": "#%% md\n"
    }
   },
   "source": [
    "# How to Submit an entry to the Competition"
   ]
  },
  {
   "cell_type": "markdown",
   "metadata": {
    "pycharm": {
     "name": "#%% md\n"
    }
   },
   "source": [
    "### This notebook will show how to\n",
    "- instantiate dataloader for the demo data\n",
    "- instantiate pytorch model\n",
    "- instantiate a trainer function\n",
    "- load the model weights\n",
    "- generate the submission file with the trained model"
   ]
  },
  {
   "cell_type": "markdown",
   "source": [
    "# Step 1) Instantiate the pre-trained model"
   ],
   "metadata": {
    "collapsed": false,
    "pycharm": {
     "name": "#%% md\n"
    }
   }
  },
  {
   "cell_type": "markdown",
   "metadata": {
    "pycharm": {
     "name": "#%% md\n"
    }
   },
   "source": [
    "### Imports"
   ]
  },
  {
   "cell_type": "code",
   "execution_count": 1,
   "metadata": {
    "pycharm": {
     "name": "#%%\n"
    }
   },
   "outputs": [],
   "source": [
    "import torch\n",
    "import numpy as np\n",
    "import pandas as pd\n",
    "\n",
    "import matplotlib.pyplot as plt\n",
    "import seaborn as sns\n",
    "\n",
    "import warnings\n",
    "warnings.filterwarnings('ignore')\n",
    "\n",
    "from nnfabrik.builder import get_data, get_model, get_trainer"
   ]
  },
  {
   "cell_type": "markdown",
   "metadata": {
    "pycharm": {
     "name": "#%% md\n"
    }
   },
   "source": [
    "### Instantiate DataLoader"
   ]
  },
  {
   "cell_type": "code",
   "execution_count": 2,
   "metadata": {
    "pycharm": {
     "name": "#%%\n"
    }
   },
   "outputs": [],
   "source": [
    "import os\n",
    "\n",
    "\n",
    "filenames = ['./data/static26872-17-20-GrayImageNet-94c6ff995dac583098847cfecd43e7b6.zip', ]\n",
    "\n",
    "dataset_fn = 'sensorium.datasets.static_loaders'\n",
    "dataset_config = {'paths': filenames,\n",
    "                 'normalize': True,\n",
    "                 'include_behavior': False,\n",
    "                 'include_eye_position': False,\n",
    "                 'batch_size': 128,\n",
    "                 'scale':.25,\n",
    "                 }\n",
    "\n",
    "dataloaders = get_data(dataset_fn, dataset_config)"
   ]
  },
  {
   "cell_type": "code",
   "execution_count": 3,
   "metadata": {
    "pycharm": {
     "name": "#%%\n"
    }
   },
   "outputs": [
    {
     "data": {
      "text/plain": [
       "OrderedDict([('train',\n",
       "              OrderedDict([('26872-17-20',\n",
       "                            <torch.utils.data.dataloader.DataLoader at 0x7ffabb2840a0>)])),\n",
       "             ('validation',\n",
       "              OrderedDict([('26872-17-20',\n",
       "                            <torch.utils.data.dataloader.DataLoader at 0x7ffabb284d60>)])),\n",
       "             ('test',\n",
       "              OrderedDict([('26872-17-20',\n",
       "                            <torch.utils.data.dataloader.DataLoader at 0x7ffabb284cd0>)])),\n",
       "             ('final_test',\n",
       "              OrderedDict([('26872-17-20',\n",
       "                            <torch.utils.data.dataloader.DataLoader at 0x7ffabb284d00>)]))])"
      ]
     },
     "execution_count": 3,
     "metadata": {},
     "output_type": "execute_result"
    }
   ],
   "source": [
    "dataloaders"
   ]
  },
  {
   "cell_type": "markdown",
   "metadata": {
    "pycharm": {
     "name": "#%% md\n"
    }
   },
   "source": [
    "# Instantiate State of the Art Model (SOTA)"
   ]
  },
  {
   "cell_type": "code",
   "execution_count": 7,
   "metadata": {
    "pycharm": {
     "name": "#%%\n"
    }
   },
   "outputs": [],
   "source": [
    "model_fn = 'sensorium.models.stacked_core_full_gauss_readout'\n",
    "model_config = {'pad_input': False,\n",
    "  'stack': -1,\n",
    "  'layers': 4,\n",
    "  'input_kern': 9,\n",
    "  'gamma_input': 6.3831,\n",
    "  'gamma_readout': 0.0076,\n",
    "  'hidden_kern': 7,\n",
    "  'hidden_channels': 64,\n",
    "  'depth_separable': True,\n",
    "  'grid_mean_predictor': {'type': 'cortex',\n",
    "   'input_dimensions': 2,\n",
    "   'hidden_layers': 1,\n",
    "   'hidden_features': 30,\n",
    "   'final_tanh': True},\n",
    "  'init_sigma': 0.1,\n",
    "  'init_mu_range': 0.3,\n",
    "  'gauss_type': 'full',\n",
    "  'shifter': False,\n",
    "}\n",
    "\n",
    "model = get_model(model_fn=model_fn,\n",
    "                  model_config=model_config,\n",
    "                  dataloaders=dataloaders,\n",
    "                  seed=42,)"
   ]
  },
  {
   "cell_type": "markdown",
   "metadata": {
    "pycharm": {
     "name": "#%% md\n"
    }
   },
   "source": [
    "# load checkpoints"
   ]
  },
  {
   "cell_type": "code",
   "execution_count": 9,
   "metadata": {
    "pycharm": {
     "name": "#%%\n"
    }
   },
   "outputs": [],
   "source": [
    "model.load_state_dict(torch.load(\"./model_checkpoints/pretrained/sensorium_sota_model.pth\"));"
   ]
  },
  {
   "cell_type": "code",
   "execution_count": 10,
   "metadata": {
    "pycharm": {
     "name": "#%%\n"
    }
   },
   "outputs": [],
   "source": [
    "# important: setting the model to evaluation mode\n",
    "model.eval();"
   ]
  },
  {
   "cell_type": "markdown",
   "source": [
    "---"
   ],
   "metadata": {
    "collapsed": false,
    "pycharm": {
     "name": "#%% md\n"
    }
   }
  },
  {
   "cell_type": "markdown",
   "metadata": {
    "pycharm": {
     "name": "#%% md\n"
    }
   },
   "source": [
    "# Step 2) Generate the submission file"
   ]
  },
  {
   "cell_type": "code",
   "execution_count": 13,
   "metadata": {
    "pycharm": {
     "name": "#%%\n"
    }
   },
   "outputs": [],
   "source": [
    "# specify the dataset_name for the dataloader, in this case, it's the sensorium dataset\n",
    "dataset_name = '26872-17-20'\n",
    "\n",
    "# alternatively:\n",
    "# dataset_name = list(dataloaders[\"train\"].keys())[0]"
   ]
  },
  {
   "cell_type": "code",
   "execution_count": 14,
   "metadata": {
    "pycharm": {
     "name": "#%%\n"
    }
   },
   "outputs": [],
   "source": [
    "# import the submission API\n",
    "\n",
    "from sensorium.utility import submission"
   ]
  },
  {
   "cell_type": "code",
   "execution_count": null,
   "metadata": {
    "pycharm": {
     "name": "#%%\n"
    }
   },
   "outputs": [],
   "source": [
    "# generate the submission file\n",
    "submission.generate_submission_file(trained_model=model, \n",
    "                                    dataloaders=dataloaders,\n",
    "                                    data_key=dataset_name,\n",
    "                                    path=\"./submission_files/\",\n",
    "                                    device=\"cuda\")"
   ]
  },
  {
   "cell_type": "markdown",
   "source": [
    "#### That's it."
   ],
   "metadata": {
    "collapsed": false,
    "pycharm": {
     "name": "#%% md\n"
    }
   }
  },
  {
   "cell_type": "code",
   "execution_count": null,
   "metadata": {
    "pycharm": {
     "name": "#%%\n"
    }
   },
   "outputs": [],
   "source": [
    "# now you can upload the \"live_test\"  and \"final_test\" submission files to the competition homepage. All the metrics will be automatically calculated."
   ]
  },
  {
   "cell_type": "markdown",
   "metadata": {
    "pycharm": {
     "name": "#%% md\n"
    }
   },
   "source": [
    "---"
   ]
  },
  {
   "cell_type": "code",
   "execution_count": 8,
   "outputs": [
    {
     "data": {
      "text/html": [
       "<div>\n",
       "<style scoped>\n",
       "    .dataframe tbody tr th:only-of-type {\n",
       "        vertical-align: middle;\n",
       "    }\n",
       "\n",
       "    .dataframe tbody tr th {\n",
       "        vertical-align: top;\n",
       "    }\n",
       "\n",
       "    .dataframe thead th {\n",
       "        text-align: right;\n",
       "    }\n",
       "</style>\n",
       "<table border=\"1\" class=\"dataframe\">\n",
       "  <thead>\n",
       "    <tr style=\"text-align: right;\">\n",
       "      <th></th>\n",
       "      <th>trial_indices</th>\n",
       "      <th>image_ids</th>\n",
       "      <th>prediction</th>\n",
       "      <th>neuron_ids</th>\n",
       "    </tr>\n",
       "  </thead>\n",
       "  <tbody>\n",
       "    <tr>\n",
       "      <th>0</th>\n",
       "      <td>126</td>\n",
       "      <td>2214</td>\n",
       "      <td>[0.39909374713897705, 0.5152013301849365, 0.51...</td>\n",
       "      <td>[1, 2, 3, 4, 5, 6, 7, 8, 9, 10, 11, 13, 14, 15...</td>\n",
       "    </tr>\n",
       "    <tr>\n",
       "      <th>1</th>\n",
       "      <td>297</td>\n",
       "      <td>2214</td>\n",
       "      <td>[0.3848317861557007, 0.5232589840888977, 0.504...</td>\n",
       "      <td>[1, 2, 3, 4, 5, 6, 7, 8, 9, 10, 11, 13, 14, 15...</td>\n",
       "    </tr>\n",
       "    <tr>\n",
       "      <th>2</th>\n",
       "      <td>597</td>\n",
       "      <td>2214</td>\n",
       "      <td>[0.38958680629730225, 0.527167022228241, 0.512...</td>\n",
       "      <td>[1, 2, 3, 4, 5, 6, 7, 8, 9, 10, 11, 13, 14, 15...</td>\n",
       "    </tr>\n",
       "    <tr>\n",
       "      <th>3</th>\n",
       "      <td>852</td>\n",
       "      <td>2214</td>\n",
       "      <td>[0.38263487815856934, 0.5397306084632874, 0.50...</td>\n",
       "      <td>[1, 2, 3, 4, 5, 6, 7, 8, 9, 10, 11, 13, 14, 15...</td>\n",
       "    </tr>\n",
       "    <tr>\n",
       "      <th>4</th>\n",
       "      <td>908</td>\n",
       "      <td>2214</td>\n",
       "      <td>[0.38469237089157104, 0.5387403964996338, 0.50...</td>\n",
       "      <td>[1, 2, 3, 4, 5, 6, 7, 8, 9, 10, 11, 13, 14, 15...</td>\n",
       "    </tr>\n",
       "    <tr>\n",
       "      <th>...</th>\n",
       "      <td>...</td>\n",
       "      <td>...</td>\n",
       "      <td>...</td>\n",
       "      <td>...</td>\n",
       "    </tr>\n",
       "    <tr>\n",
       "      <th>994</th>\n",
       "      <td>2752</td>\n",
       "      <td>3487</td>\n",
       "      <td>[0.0845494270324707, 0.14774799346923828, 0.27...</td>\n",
       "      <td>[1, 2, 3, 4, 5, 6, 7, 8, 9, 10, 11, 13, 14, 15...</td>\n",
       "    </tr>\n",
       "    <tr>\n",
       "      <th>995</th>\n",
       "      <td>3039</td>\n",
       "      <td>3487</td>\n",
       "      <td>[0.08712136745452881, 0.1528913974761963, 0.25...</td>\n",
       "      <td>[1, 2, 3, 4, 5, 6, 7, 8, 9, 10, 11, 13, 14, 15...</td>\n",
       "    </tr>\n",
       "    <tr>\n",
       "      <th>996</th>\n",
       "      <td>4312</td>\n",
       "      <td>3487</td>\n",
       "      <td>[0.08987849950790405, 0.16628813743591309, 0.2...</td>\n",
       "      <td>[1, 2, 3, 4, 5, 6, 7, 8, 9, 10, 11, 13, 14, 15...</td>\n",
       "    </tr>\n",
       "    <tr>\n",
       "      <th>997</th>\n",
       "      <td>4380</td>\n",
       "      <td>3487</td>\n",
       "      <td>[0.08792203664779663, 0.16572076082229614, 0.2...</td>\n",
       "      <td>[1, 2, 3, 4, 5, 6, 7, 8, 9, 10, 11, 13, 14, 15...</td>\n",
       "    </tr>\n",
       "    <tr>\n",
       "      <th>998</th>\n",
       "      <td>4571</td>\n",
       "      <td>3487</td>\n",
       "      <td>[0.0855642557144165, 0.13174808025360107, 0.27...</td>\n",
       "      <td>[1, 2, 3, 4, 5, 6, 7, 8, 9, 10, 11, 13, 14, 15...</td>\n",
       "    </tr>\n",
       "  </tbody>\n",
       "</table>\n",
       "<p>999 rows × 4 columns</p>\n",
       "</div>"
      ],
      "text/plain": [
       "     trial_indices  image_ids  \\\n",
       "0              126       2214   \n",
       "1              297       2214   \n",
       "2              597       2214   \n",
       "3              852       2214   \n",
       "4              908       2214   \n",
       "..             ...        ...   \n",
       "994           2752       3487   \n",
       "995           3039       3487   \n",
       "996           4312       3487   \n",
       "997           4380       3487   \n",
       "998           4571       3487   \n",
       "\n",
       "                                            prediction  \\\n",
       "0    [0.39909374713897705, 0.5152013301849365, 0.51...   \n",
       "1    [0.3848317861557007, 0.5232589840888977, 0.504...   \n",
       "2    [0.38958680629730225, 0.527167022228241, 0.512...   \n",
       "3    [0.38263487815856934, 0.5397306084632874, 0.50...   \n",
       "4    [0.38469237089157104, 0.5387403964996338, 0.50...   \n",
       "..                                                 ...   \n",
       "994  [0.0845494270324707, 0.14774799346923828, 0.27...   \n",
       "995  [0.08712136745452881, 0.1528913974761963, 0.25...   \n",
       "996  [0.08987849950790405, 0.16628813743591309, 0.2...   \n",
       "997  [0.08792203664779663, 0.16572076082229614, 0.2...   \n",
       "998  [0.0855642557144165, 0.13174808025360107, 0.27...   \n",
       "\n",
       "                                            neuron_ids  \n",
       "0    [1, 2, 3, 4, 5, 6, 7, 8, 9, 10, 11, 13, 14, 15...  \n",
       "1    [1, 2, 3, 4, 5, 6, 7, 8, 9, 10, 11, 13, 14, 15...  \n",
       "2    [1, 2, 3, 4, 5, 6, 7, 8, 9, 10, 11, 13, 14, 15...  \n",
       "3    [1, 2, 3, 4, 5, 6, 7, 8, 9, 10, 11, 13, 14, 15...  \n",
       "4    [1, 2, 3, 4, 5, 6, 7, 8, 9, 10, 11, 13, 14, 15...  \n",
       "..                                                 ...  \n",
       "994  [1, 2, 3, 4, 5, 6, 7, 8, 9, 10, 11, 13, 14, 15...  \n",
       "995  [1, 2, 3, 4, 5, 6, 7, 8, 9, 10, 11, 13, 14, 15...  \n",
       "996  [1, 2, 3, 4, 5, 6, 7, 8, 9, 10, 11, 13, 14, 15...  \n",
       "997  [1, 2, 3, 4, 5, 6, 7, 8, 9, 10, 11, 13, 14, 15...  \n",
       "998  [1, 2, 3, 4, 5, 6, 7, 8, 9, 10, 11, 13, 14, 15...  \n",
       "\n",
       "[999 rows x 4 columns]"
      ]
     },
     "execution_count": 8,
     "metadata": {},
     "output_type": "execute_result"
    }
   ],
   "source": [
    "import pandas as pd\n",
    "pd.read_csv('./submission_files/example_submission_file.csv')"
   ],
   "metadata": {
    "collapsed": false,
    "pycharm": {
     "name": "#%%\n"
    }
   }
  },
  {
   "cell_type": "markdown",
   "source": [
    "# The submission process"
   ],
   "metadata": {
    "collapsed": false,
    "pycharm": {
     "name": "#%% md\n"
    }
   }
  },
  {
   "cell_type": "markdown",
   "source": [
    "- now that the .csv file is generated, the participant can make an entry to the competition\n",
    "- all that is left to do is:\n",
    " - register a new user on http://sensorium2022.net/ with a valid email address\n",
    " - upload the two .csv files\n",
    " - the competition score will be calculated automatically and will show up in the live leaderboard within a few seconds\n",
    "\n",
    "- **Note**: Before June 20, our website does not accept submissions.\n",
    "The competition does start officially on June 20. On this date, we're releasing the competition dataset, and submissions will be open."
   ],
   "metadata": {
    "collapsed": false,
    "pycharm": {
     "name": "#%% md\n"
    }
   }
  },
  {
   "cell_type": "markdown",
   "source": [
    "---"
   ],
   "metadata": {
    "collapsed": false,
    "pycharm": {
     "name": "#%% md\n"
    }
   }
  },
  {
   "cell_type": "markdown",
   "source": [
    "---"
   ],
   "metadata": {
    "collapsed": false,
    "pycharm": {
     "name": "#%% md\n"
    }
   }
  },
  {
   "cell_type": "markdown",
   "source": [
    "# How we calculate the competition scores behind the scenes"
   ],
   "metadata": {
    "collapsed": false,
    "pycharm": {
     "name": "#%% md\n"
    }
   }
  },
  {
   "cell_type": "markdown",
   "source": [
    "- we will withhold the ground truth neuronal responses to the test set images in the actual competition\n",
    "- here we show\n",
    " - how we extract the ground truth responses from the demo dataset (where the test set responses are present)\n",
    " - how the metrics of the competition are calculated"
   ],
   "metadata": {
    "collapsed": false,
    "pycharm": {
     "name": "#%% md\n"
    }
   }
  },
  {
   "cell_type": "code",
   "execution_count": 13,
   "outputs": [],
   "source": [
    "from sensorium import evaluate"
   ],
   "metadata": {
    "collapsed": false,
    "pycharm": {
     "name": "#%%\n"
    }
   }
  },
  {
   "cell_type": "code",
   "execution_count": 14,
   "outputs": [],
   "source": [
    "# we load the dataset which contains the held-out \"test\" responses, and save them in the .csv format\n",
    "# for the demo dataset that we provide here, these \"test\" responses are present\n",
    "\n",
    "filename = ['./data/lurz2020/static20457-5-9-preproc0']\n",
    "submission.generate_ground_truth_file(filename=filename,\n",
    "                                      path='./ground_truth_files/ground_truth_file.csv')"
   ],
   "metadata": {
    "collapsed": false,
    "pycharm": {
     "name": "#%%\n"
    }
   }
  },
  {
   "cell_type": "markdown",
   "source": [
    "### SOTA model results"
   ],
   "metadata": {
    "collapsed": false,
    "pycharm": {
     "name": "#%% md\n"
    }
   }
  },
  {
   "cell_type": "code",
   "execution_count": 15,
   "outputs": [],
   "source": [
    "ground_truth_file = './ground_truth_files/ground_truth_file.csv'\n",
    "submission_file = './submission_files/sota_submission_file.csv'"
   ],
   "metadata": {
    "collapsed": false,
    "pycharm": {
     "name": "#%%\n"
    }
   }
  },
  {
   "cell_type": "code",
   "execution_count": 16,
   "outputs": [],
   "source": [
    "out = evaluate(submission_file, ground_truth_file)"
   ],
   "metadata": {
    "collapsed": false,
    "pycharm": {
     "name": "#%%\n"
    }
   }
  },
  {
   "cell_type": "code",
   "execution_count": 17,
   "outputs": [
    {
     "name": "stdout",
     "output_type": "stream",
     "text": [
      "Results for the SOTA model:\n",
      "Correlation (single trial): 0.302\n",
      "Correlation (mean): 0.549\n",
      "FEVE: 0.297\n"
     ]
    }
   ],
   "source": [
    "print(\"Results for the SOTA model:\")\n",
    "for metric, value in out.items():\n",
    "    print(f\"{metric}: {np.round(value, 3)}\")"
   ],
   "metadata": {
    "collapsed": false,
    "pycharm": {
     "name": "#%%\n"
    }
   }
  }
 ],
 "metadata": {
  "kernelspec": {
   "display_name": "Python 3",
   "language": "python",
   "name": "python3"
  },
  "language_info": {
   "codemirror_mode": {
    "name": "ipython",
    "version": 3
   },
   "file_extension": ".py",
   "mimetype": "text/x-python",
   "name": "python",
   "nbconvert_exporter": "python",
   "pygments_lexer": "ipython3",
   "version": "3.8.0"
  }
 },
 "nbformat": 4,
 "nbformat_minor": 4
}