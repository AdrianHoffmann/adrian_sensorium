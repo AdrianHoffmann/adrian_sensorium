{
 "cells": [
  {
   "cell_type": "markdown",
   "metadata": {},
   "source": [
    "## Demo: Upload a dataset on Activeloop"
   ]
  },
  {
   "cell_type": "code",
   "execution_count": 1,
   "metadata": {},
   "outputs": [],
   "source": [
    "# !pip install hub"
   ]
  },
  {
   "cell_type": "code",
   "execution_count": 3,
   "metadata": {},
   "outputs": [],
   "source": [
    "import numpy as np\n",
    "import hub\n",
    "from tqdm import tqdm"
   ]
  },
  {
   "cell_type": "markdown",
   "metadata": {},
   "source": [
    "#### 1. Log in to activeloop from the terminal"
   ]
  },
  {
   "cell_type": "markdown",
   "metadata": {},
   "source": [
    "Do this in the terminal."
   ]
  },
  {
   "cell_type": "markdown",
   "metadata": {},
   "source": [
    "#### 2. Create a dataset"
   ]
  },
  {
   "cell_type": "code",
   "execution_count": 4,
   "metadata": {},
   "outputs": [],
   "source": [
    "path_train = \"hub://mohammadbashiri/npc-mouse1-train\"\n",
    "path_test = \"hub://mohammadbashiri/npc-mouse1-test\""
   ]
  },
  {
   "cell_type": "code",
   "execution_count": 17,
   "metadata": {},
   "outputs": [
    {
     "name": "stdout",
     "output_type": "stream",
     "text": [
      "This dataset can be visualized at https://app.activeloop.ai/mohammadbashiri/npc-mouse1-test.\n"
     ]
    }
   ],
   "source": [
    "# hub.delete(path_train, force=True)\n",
    "# hub.delete(path_test, force=True)"
   ]
  },
  {
   "cell_type": "code",
   "execution_count": 18,
   "metadata": {},
   "outputs": [
    {
     "name": "stdout",
     "output_type": "stream",
     "text": [
      "Your Hub dataset has been successfully created!\n",
      "The dataset is private so make sure you are logged in!\n",
      "This dataset can be visualized at https://app.activeloop.ai/mohammadbashiri/npc-mouse1-test.\n"
     ]
    }
   ],
   "source": [
    "trainset = hub.empty(path_train)\n",
    "testset = hub.empty(path_test)"
   ]
  },
  {
   "cell_type": "code",
   "execution_count": 19,
   "metadata": {},
   "outputs": [],
   "source": [
    "n_samples_train = 200\n",
    "n_samples_test = 100\n",
    "n_neurons = 50"
   ]
  },
  {
   "cell_type": "markdown",
   "metadata": {},
   "source": [
    "#### 3. Add inputs"
   ]
  },
  {
   "cell_type": "markdown",
   "metadata": {},
   "source": [
    "##### a) Train"
   ]
  },
  {
   "cell_type": "code",
   "execution_count": 9,
   "metadata": {},
   "outputs": [],
   "source": [
    "image_ids_train = np.array([[i] * 10 for i in range(20)]).flatten()\n",
    "trial_indices_train = np.arange(n_samples_train)"
   ]
  },
  {
   "cell_type": "code",
   "execution_count": 10,
   "metadata": {},
   "outputs": [
    {
     "data": {
      "text/plain": [
       "Tensor(key='trial_indices')"
      ]
     },
     "execution_count": 10,
     "metadata": {},
     "output_type": "execute_result"
    }
   ],
   "source": [
    "trainset.create_tensor(\"inputs\", htype=\"image\", sample_compression=\"jpg\")\n",
    "trainset.create_tensor(\"targets\")\n",
    "trainset.create_tensor(\"image_ids\")\n",
    "trainset.create_tensor(\"trial_indices\")"
   ]
  },
  {
   "cell_type": "code",
   "execution_count": 12,
   "metadata": {},
   "outputs": [
    {
     "name": "stderr",
     "output_type": "stream",
     "text": [
      "100%|██████████| 200/200 [00:01<00:00, 193.61it/s]\n"
     ]
    }
   ],
   "source": [
    "with trainset:\n",
    "    for sample_ind in tqdm(range(n_samples_train)):\n",
    "        random_image = np.random.randint(0, 256, (36, 64, 3)).astype(np.uint8)\n",
    "        random_target = np.random.rand(n_neurons)\n",
    "        \n",
    "        trainset.inputs.append(random_image)\n",
    "        trainset.targets.append(random_target)\n",
    "        trainset.image_ids.append(image_ids_train[sample_ind])\n",
    "        trainset.trial_indices.append(trial_indices_train[sample_ind])"
   ]
  },
  {
   "cell_type": "markdown",
   "metadata": {},
   "source": [
    "##### a) Test (without targets)"
   ]
  },
  {
   "cell_type": "code",
   "execution_count": 20,
   "metadata": {},
   "outputs": [],
   "source": [
    "image_ids_test = np.array([[i] * 10 for i in range(10)]).flatten()\n",
    "trial_indices_test = np.arange(n_samples_test)"
   ]
  },
  {
   "cell_type": "code",
   "execution_count": 21,
   "metadata": {},
   "outputs": [
    {
     "data": {
      "text/plain": [
       "Tensor(key='trial_indices')"
      ]
     },
     "execution_count": 21,
     "metadata": {},
     "output_type": "execute_result"
    }
   ],
   "source": [
    "testset.create_tensor(\"inputs\", htype=\"image\", sample_compression=\"jpg\")\n",
    "testset.create_tensor(\"image_ids\")\n",
    "testset.create_tensor(\"trial_indices\")"
   ]
  },
  {
   "cell_type": "code",
   "execution_count": 22,
   "metadata": {},
   "outputs": [
    {
     "name": "stderr",
     "output_type": "stream",
     "text": [
      "100%|██████████| 100/100 [00:00<00:00, 126.07it/s]\n"
     ]
    }
   ],
   "source": [
    "with testset:\n",
    "    for sample_ind in tqdm(range(n_samples_test)):\n",
    "        random_image = np.random.randint(0, 256, (36, 64, 3)).astype(np.uint8)\n",
    "        \n",
    "        testset.inputs.append(random_image)\n",
    "        testset.image_ids.append(image_ids_test[sample_ind])\n",
    "        testset.trial_indices.append(trial_indices_test[sample_ind])"
   ]
  },
  {
   "cell_type": "markdown",
   "metadata": {},
   "source": [
    "#### 4. Add meta data"
   ]
  },
  {
   "cell_type": "code",
   "execution_count": 23,
   "metadata": {},
   "outputs": [],
   "source": [
    "trainset.info['neuron_ids'] = np.arange(n_neurons).tolist()\n",
    "testset.info['neuron_ids'] = np.arange(n_neurons).tolist()"
   ]
  },
  {
   "cell_type": "markdown",
   "metadata": {},
   "source": [
    "---"
   ]
  },
  {
   "cell_type": "markdown",
   "metadata": {},
   "source": [
    "## Let's now load the dataset and see if everything worked"
   ]
  },
  {
   "cell_type": "code",
   "execution_count": 2,
   "metadata": {},
   "outputs": [
    {
     "name": "stdout",
     "output_type": "stream",
     "text": [
      "hub://mohammadbashiri/npc-mouse1-train loaded successfully.\n",
      "This dataset can be visualized at https://app.activeloop.ai/mohammadbashiri/npc-mouse1-train.\n",
      "hub://mohammadbashiri/npc-mouse1-test loaded successfully.\n",
      "This dataset can be visualized at https://app.activeloop.ai/mohammadbashiri/npc-mouse1-test.\n"
     ]
    }
   ],
   "source": [
    "trainset = hub.load(\"hub://mohammadbashiri/npc-mouse1-train\")\n",
    "testset = hub.load(\"hub://mohammadbashiri/npc-mouse1-test\")\n",
    "\n",
    "trainloader = trainset.pytorch(batch_size=16, shuffle=True)\n",
    "testloader = testset.pytorch(batch_size=16, shuffle=False)"
   ]
  },
  {
   "cell_type": "code",
   "execution_count": 3,
   "metadata": {},
   "outputs": [
    {
     "data": {
      "text/plain": [
       "{'inputs': Tensor(key='inputs'),\n",
       " 'targets': Tensor(key='targets'),\n",
       " 'image_ids': Tensor(key='image_ids'),\n",
       " 'trial_indices': Tensor(key='trial_indices')}"
      ]
     },
     "execution_count": 3,
     "metadata": {},
     "output_type": "execute_result"
    }
   ],
   "source": [
    "trainset.tensors"
   ]
  },
  {
   "cell_type": "code",
   "execution_count": 4,
   "metadata": {},
   "outputs": [
    {
     "data": {
      "text/plain": [
       "{'inputs': Tensor(key='inputs'),\n",
       " 'image_ids': Tensor(key='image_ids'),\n",
       " 'trial_indices': Tensor(key='trial_indices')}"
      ]
     },
     "execution_count": 4,
     "metadata": {},
     "output_type": "execute_result"
    }
   ],
   "source": [
    "testset.tensors"
   ]
  },
  {
   "cell_type": "code",
   "execution_count": 5,
   "metadata": {},
   "outputs": [],
   "source": [
    "b_train = next(iter(trainloader))\n",
    "b_test = next(iter(testloader))"
   ]
  },
  {
   "cell_type": "code",
   "execution_count": 6,
   "metadata": {},
   "outputs": [
    {
     "data": {
      "text/plain": [
       "(4,\n",
       " 3,\n",
       " odict_keys(['inputs', 'targets', 'image_ids', 'trial_indices']),\n",
       " odict_keys(['inputs', 'image_ids', 'trial_indices']))"
      ]
     },
     "execution_count": 6,
     "metadata": {},
     "output_type": "execute_result"
    }
   ],
   "source": [
    "len(b_train), len(b_test), b_train.keys(), b_test.keys()"
   ]
  },
  {
   "cell_type": "code",
   "execution_count": 7,
   "metadata": {},
   "outputs": [
    {
     "data": {
      "text/plain": [
       "{'neuron_ids': [0, 1, 2, 3, 4, 5, 6, 7, 8, 9, 10, 11, 12, 13, 14, 15, 16, 17, 18, 19, 20, 21, 22, 23, 24, 25, 26, 27, 28, 29, 30, 31, 32, 33, 34, 35, 36, 37, 38, 39, 40, 41, 42, 43, 44, 45, 46, 47, 48, 49]}"
      ]
     },
     "execution_count": 7,
     "metadata": {},
     "output_type": "execute_result"
    }
   ],
   "source": [
    "trainset.info"
   ]
  }
 ],
 "metadata": {
  "kernelspec": {
   "display_name": "Python 3",
   "language": "python",
   "name": "python3"
  },
  "language_info": {
   "codemirror_mode": {
    "name": "ipython",
    "version": 3
   },
   "file_extension": ".py",
   "mimetype": "text/x-python",
   "name": "python",
   "nbconvert_exporter": "python",
   "pygments_lexer": "ipython3",
   "version": "3.8.0"
  }
 },
 "nbformat": 4,
 "nbformat_minor": 4
}
