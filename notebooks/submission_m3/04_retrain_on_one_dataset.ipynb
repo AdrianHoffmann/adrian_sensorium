{
 "cells": [
  {
   "cell_type": "markdown",
   "id": "27fabc05-1f5d-4604-b0db-c030ba46e27d",
   "metadata": {},
   "source": [
    "# Retrain only on competition dataset"
   ]
  },
  {
   "cell_type": "markdown",
   "id": "ff4c151e-270c-4fc0-933f-726c97e8bc25",
   "metadata": {},
   "source": [
    "### Imports"
   ]
  },
  {
   "cell_type": "code",
   "execution_count": 1,
   "id": "23e25cf0-d27c-4144-89b1-d25308c29b9d",
   "metadata": {},
   "outputs": [
    {
     "name": "stdout",
     "output_type": "stream",
     "text": [
      "Working directory: /scratch/snx3000/bp000429/submission/adrian_sensorium\n"
     ]
    }
   ],
   "source": [
    "import os\n",
    "if 'notebooks' in os.getcwd(): os.chdir('../..')  # change to main directory\n",
    "print('Working directory:', os.getcwd() )"
   ]
  },
  {
   "cell_type": "code",
   "execution_count": 2,
   "id": "96dbd154-816e-4d94-a1a4-eaba6f201631",
   "metadata": {},
   "outputs": [],
   "source": [
    "import torch\n",
    "import numpy as np\n",
    "import pandas as pd\n",
    "\n",
    "import matplotlib.pyplot as plt\n",
    "import seaborn as sns\n",
    "\n",
    "import warnings\n",
    "warnings.filterwarnings('ignore')\n",
    "\n",
    "from nnfabrik.builder import get_data, get_model, get_trainer\n",
    "\n",
    "from sensorium.utility import submission\n",
    "from sensorium.utility.training import read_config, print_t, set_seed\n",
    "from sensorium.utility import prediction"
   ]
  },
  {
   "cell_type": "code",
   "execution_count": 3,
   "id": "d9ba7e4d-f599-4603-8e71-ed5e8a38b85a",
   "metadata": {},
   "outputs": [
    {
     "name": "stdout",
     "output_type": "stream",
     "text": [
      "ordereddict([('data_sets', ['notebooks/data/static27204-5-13-GrayImageNet-94c6ff995dac583098847cfecd43e7b6.zip']), ('dataset_fn', 'sensorium.datasets.static_loaders'), ('dataset_config', ordereddict([('normalize', True), ('include_behavior', True), ('include_eye_position', True), ('batch_size', 128), ('scale', 0.25), ('preload_from_merged_data', True), ('include_trial_id', True), ('include_rank_id', True), ('include_history', True), ('include_behav_state', True), ('adjusted_normalization', True)])), ('model_fn', 'sensorium.models.modulated_stacked_core_full_gauss_readout'), ('model_seed', 3452), ('model_config', ordereddict([('pad_input', False), ('stack', -1), ('layers', 4), ('input_kern', 9), ('gamma_input', 9.8), ('gamma_readout', 0.48), ('hidden_kern', 10), ('hidden_channels', 64), ('depth_separable', True), ('grid_mean_predictor', ordereddict([('type', 'cortex'), ('input_dimensions', 2), ('hidden_layers', 4), ('hidden_features', 20), ('nonlinearity', 'ReLU'), ('final_tanh', True)])), ('init_sigma', 0.14), ('init_mu_range', 0.8), ('gauss_type', 'full'), ('shifter', True), ('with_modulator', True), ('modulator_type', 'HistoryStateGain'), ('modulator_params', ordereddict([('include_gain', True), ('gain_kernel_std', 30), ('diff_reg', 100), ('include_history', True), ('nr_history', 5), ('behav_state', True), ('nr_behav_state', 10), ('per_neuron_gain_adjust', True), ('gain_adjust_alpha', 0.3), ('alpha_behav', 0.3), ('alpha_hist', 0.3)]))])), ('use_pretrained_core', True), ('pretrained_model_file', 'no_file'), ('trainer_fn', 'sensorium.training.standard_trainer'), ('trainer_config', ordereddict([('max_iter', 200), ('verbose', True), ('lr_decay_steps', 4), ('avg_loss', False), ('lr_init', 0.009), ('detach_core', True), ('track_training', True), ('disable_tqdm', True)])), ('verbose', 3), ('save_csv', True), ('save_predictions_npy', True)])\n"
     ]
    }
   ],
   "source": [
    "config_file = 'notebooks/submission_m3/config_oneModel_m3.yaml'\n",
    "config = read_config( config_file )\n",
    "print(config)"
   ]
  },
  {
   "cell_type": "markdown",
   "id": "392d424d-db27-47b2-b0a8-9aae76130b00",
   "metadata": {},
   "source": [
    "### Prepare dataloader"
   ]
  },
  {
   "cell_type": "code",
   "execution_count": 4,
   "id": "d9250126-92ef-495f-8058-badbab283bf7",
   "metadata": {},
   "outputs": [],
   "source": [
    "set_seed( config['model_seed'] )  # seed all random generators\n",
    "\n",
    "filenames = config['data_sets']\n",
    "# filenames like ['notebooks/data/static27204-5-13-GrayImageNet-94c6ff995dac583098847cfecd43e7b6.zip', ]\n",
    "    \n",
    "dataset_fn = config['dataset_fn']  # 'sensorium.datasets.static_loaders'\n",
    "dataset_config = {'paths': filenames,\n",
    "                  **config['dataset_config'],\n",
    "                 }\n",
    "\n",
    "dataloaders = get_data(dataset_fn, dataset_config)"
   ]
  },
  {
   "cell_type": "markdown",
   "id": "22da5690-bfc4-427d-bb55-d9553179bba2",
   "metadata": {},
   "source": [
    "### Instantiate model"
   ]
  },
  {
   "cell_type": "code",
   "execution_count": 5,
   "id": "567b32d8-633d-44b9-b949-3ae6bc7bc56c",
   "metadata": {},
   "outputs": [
    {
     "data": {
      "text/plain": [
       "ModulatedFiringRateEncoder(\n",
       "  (core): Stacked2dCore(\n",
       "    (_input_weights_regularizer): LaplaceL2norm(\n",
       "      (laplace): Laplace()\n",
       "    )\n",
       "    (features): Sequential(\n",
       "      (layer0): Sequential(\n",
       "        (conv): Conv2d(4, 64, kernel_size=(9, 9), stride=(1, 1), bias=False)\n",
       "        (norm): BatchNorm2d(64, eps=1e-05, momentum=0.9, affine=True, track_running_stats=True)\n",
       "        (nonlin): AdaptiveELU()\n",
       "      )\n",
       "      (layer1): Sequential(\n",
       "        (ds_conv): DepthSeparableConv2d(\n",
       "          (in_depth_conv): Conv2d(64, 64, kernel_size=(1, 1), stride=(1, 1), bias=False)\n",
       "          (spatial_conv): Conv2d(64, 64, kernel_size=(10, 10), stride=(1, 1), padding=(5, 5), groups=64, bias=False)\n",
       "          (out_depth_conv): Conv2d(64, 64, kernel_size=(1, 1), stride=(1, 1), bias=False)\n",
       "        )\n",
       "        (norm): BatchNorm2d(64, eps=1e-05, momentum=0.9, affine=True, track_running_stats=True)\n",
       "        (nonlin): AdaptiveELU()\n",
       "      )\n",
       "      (layer2): Sequential(\n",
       "        (ds_conv): DepthSeparableConv2d(\n",
       "          (in_depth_conv): Conv2d(64, 64, kernel_size=(1, 1), stride=(1, 1), bias=False)\n",
       "          (spatial_conv): Conv2d(64, 64, kernel_size=(10, 10), stride=(1, 1), padding=(5, 5), groups=64, bias=False)\n",
       "          (out_depth_conv): Conv2d(64, 64, kernel_size=(1, 1), stride=(1, 1), bias=False)\n",
       "        )\n",
       "        (norm): BatchNorm2d(64, eps=1e-05, momentum=0.9, affine=True, track_running_stats=True)\n",
       "        (nonlin): AdaptiveELU()\n",
       "      )\n",
       "      (layer3): Sequential(\n",
       "        (ds_conv): DepthSeparableConv2d(\n",
       "          (in_depth_conv): Conv2d(64, 64, kernel_size=(1, 1), stride=(1, 1), bias=False)\n",
       "          (spatial_conv): Conv2d(64, 64, kernel_size=(10, 10), stride=(1, 1), padding=(5, 5), groups=64, bias=False)\n",
       "          (out_depth_conv): Conv2d(64, 64, kernel_size=(1, 1), stride=(1, 1), bias=False)\n",
       "        )\n",
       "        (norm): BatchNorm2d(64, eps=1e-05, momentum=0.9, affine=True, track_running_stats=True)\n",
       "        (nonlin): AdaptiveELU()\n",
       "      )\n",
       "    )\n",
       "  ) [Stacked2dCore regularizers: gamma_hidden = 0|gamma_input = 9.8|skip = 0]\n",
       "  \n",
       "  (readout): MultipleFullGaussian2d(\n",
       "    (27204-5-13): full FullGaussian2d (64 x 31 x 59 -> 7538) with bias, with predicted grid  -> Sequential(\n",
       "      (0): Linear(in_features=2, out_features=20, bias=True)\n",
       "      (1): ReLU()\n",
       "      (2): Linear(in_features=20, out_features=20, bias=True)\n",
       "      (3): ReLU()\n",
       "      (4): Linear(in_features=20, out_features=20, bias=True)\n",
       "      (5): ReLU()\n",
       "      (6): Linear(in_features=20, out_features=20, bias=True)\n",
       "      (7): ReLU()\n",
       "      (8): Linear(in_features=20, out_features=2, bias=True)\n",
       "      (9): Tanh()\n",
       "    )\n",
       "    \n",
       "  )\n",
       "  (shifter): MLPShifter(\n",
       "    (27204-5-13): MLP(\n",
       "      (mlp): Sequential(\n",
       "        (0): Linear(in_features=2, out_features=5, bias=True)\n",
       "        (1): Tanh()\n",
       "        (2): Linear(in_features=5, out_features=5, bias=True)\n",
       "        (3): Tanh()\n",
       "        (4): Linear(in_features=5, out_features=2, bias=True)\n",
       "        (5): Tanh()\n",
       "      )\n",
       "    ) [MLP regularizers: ]\n",
       "    \n",
       "  )\n",
       "  (modulator): ModuleDict(\n",
       "    (27204-5-13): HistoryStateGainModulator(\n",
       "      (state_encoder): Linear(in_features=10, out_features=7538, bias=True)\n",
       "    )\n",
       "  )\n",
       ")"
      ]
     },
     "execution_count": 5,
     "metadata": {},
     "output_type": "execute_result"
    }
   ],
   "source": [
    "# Instantiate model\n",
    "model_fn = config['model_fn']     # e.g. 'sensorium.models.modulated_stacked_core_full_gauss_readout'\n",
    "model_config = config['model_config']\n",
    "\n",
    "model = get_model(model_fn=model_fn,\n",
    "                  model_config=model_config,\n",
    "                  dataloaders=dataloaders,\n",
    "                  seed=config['model_seed'],\n",
    "                 )\n",
    "model"
   ]
  },
  {
   "cell_type": "code",
   "execution_count": 6,
   "id": "96ac0a97-d498-4b62-8dbe-4f28c3203098",
   "metadata": {},
   "outputs": [
    {
     "data": {
      "text/plain": [
       "_IncompatibleKeys(missing_keys=['readout.27204-5-13.sigma', 'readout.27204-5-13._features', 'readout.27204-5-13.bias', 'readout.27204-5-13.source_grid', 'readout.27204-5-13.mu_transform.0.weight', 'readout.27204-5-13.mu_transform.0.bias', 'readout.27204-5-13.mu_transform.2.weight', 'readout.27204-5-13.mu_transform.2.bias', 'readout.27204-5-13.mu_transform.4.weight', 'readout.27204-5-13.mu_transform.4.bias', 'readout.27204-5-13.mu_transform.6.weight', 'readout.27204-5-13.mu_transform.6.bias', 'readout.27204-5-13.mu_transform.8.weight', 'readout.27204-5-13.mu_transform.8.bias', 'shifter.27204-5-13.mlp.0.weight', 'shifter.27204-5-13.mlp.0.bias', 'shifter.27204-5-13.mlp.2.weight', 'shifter.27204-5-13.mlp.2.bias', 'shifter.27204-5-13.mlp.4.weight', 'shifter.27204-5-13.mlp.4.bias', 'modulator.27204-5-13.own_gain', 'modulator.27204-5-13.gain_coupling', 'modulator.27204-5-13.coupling_offset', 'modulator.27204-5-13.history_weights', 'modulator.27204-5-13.history_bias', 'modulator.27204-5-13.state_encoder.weight', 'modulator.27204-5-13.state_encoder.bias'], unexpected_keys=[])"
      ]
     },
     "execution_count": 6,
     "metadata": {},
     "output_type": "execute_result"
    }
   ],
   "source": [
    "save_file = 'notebooks/submission_m3/results/model_v3.pth'\n",
    "pretrained_dict = torch.load(save_file)\n",
    "\n",
    "# filter out only values of core\n",
    "core_only = {k:v for k, v in pretrained_dict.items() if 'core.' in k}\n",
    "\n",
    "# set pretrained core values\n",
    "ret = model.load_state_dict(core_only, strict=False)\n",
    "ret"
   ]
  },
  {
   "cell_type": "code",
   "execution_count": 7,
   "id": "38f15e6b-af66-4195-a259-797c232ccda3",
   "metadata": {},
   "outputs": [],
   "source": [
    "# Trainer\n",
    "trainer_fn = config['trainer_fn']   # \"sensorium.training.standard_trainer\"\n",
    "trainer_config = config['trainer_config']\n",
    "\n",
    "trainer = get_trainer(trainer_fn=trainer_fn, \n",
    "                     trainer_config=trainer_config)"
   ]
  },
  {
   "cell_type": "markdown",
   "id": "a3b5dc48-7fdc-4f70-9634-cfa2dad186f5",
   "metadata": {},
   "source": [
    "### Train model"
   ]
  },
  {
   "cell_type": "code",
   "execution_count": 8,
   "id": "11041f91-4489-4963-b498-b29c1da6adba",
   "metadata": {},
   "outputs": [
    {
     "name": "stdout",
     "output_type": "stream",
     "text": [
      "2022-10-12 20:19:30.926701: Start of model training\n",
      "=======================================\n",
      "correlation 0.00808165\n",
      "poisson_loss 4613276.0\n",
      "=======================================\n",
      "correlation 0.23523669\n",
      "poisson_loss 2491149.0\n",
      "=======================================\n",
      "correlation 0.341758\n",
      "poisson_loss 2275904.8\n",
      "=======================================\n",
      "correlation 0.38537893\n",
      "poisson_loss 2190505.5\n",
      "=======================================\n",
      "correlation 0.40428048\n",
      "poisson_loss 2154535.0\n",
      "=======================================\n",
      "correlation 0.41647708\n",
      "poisson_loss 2129727.5\n",
      "=======================================\n",
      "correlation 0.42261142\n",
      "poisson_loss 2119666.8\n",
      "=======================================\n",
      "correlation 0.42597806\n",
      "poisson_loss 2113006.2\n",
      "=======================================\n",
      "correlation 0.4302361\n",
      "poisson_loss 2106623.0\n",
      "=======================================\n",
      "correlation 0.4327055\n",
      "poisson_loss 2100928.0\n",
      "=======================================\n",
      "correlation 0.43428135\n",
      "poisson_loss 2101731.0\n",
      "=======================================\n",
      "correlation 0.43525565\n",
      "poisson_loss 2099643.8\n",
      "=======================================\n",
      "correlation 0.4355723\n",
      "poisson_loss 2099393.0\n",
      "=======================================\n",
      "correlation 0.43692672\n",
      "poisson_loss 2097413.0\n",
      "=======================================\n",
      "correlation 0.43711153\n",
      "poisson_loss 2098214.5\n",
      "=======================================\n",
      "correlation 0.439137\n",
      "poisson_loss 2094615.0\n",
      "=======================================\n",
      "correlation 0.43968484\n",
      "poisson_loss 2092834.1\n",
      "=======================================\n",
      "correlation 0.43655047\n",
      "poisson_loss 2101646.5\n",
      "=======================================\n",
      "correlation 0.4379925\n",
      "poisson_loss 2098620.0\n",
      "=======================================\n",
      "correlation 0.4407688\n",
      "poisson_loss 2092525.8\n",
      "=======================================\n",
      "correlation 0.43964487\n",
      "poisson_loss 2095800.2\n",
      "=======================================\n",
      "correlation 0.44081485\n",
      "poisson_loss 2092135.0\n",
      "=======================================\n",
      "correlation 0.44142413\n",
      "poisson_loss 2093629.5\n",
      "=======================================\n",
      "correlation 0.4414262\n",
      "poisson_loss 2091496.1\n",
      "=======================================\n",
      "correlation 0.44147563\n",
      "poisson_loss 2093005.2\n",
      "=======================================\n",
      "correlation 0.4414444\n",
      "poisson_loss 2093048.0\n",
      "=======================================\n",
      "correlation 0.43820184\n",
      "poisson_loss 2100894.5\n",
      "=======================================\n",
      "correlation 0.44140068\n",
      "poisson_loss 2095185.2\n",
      "=======================================\n",
      "correlation 0.43941846\n",
      "poisson_loss 2098789.2\n",
      "=======================================\n",
      "correlation 0.44188178\n",
      "poisson_loss 2093028.0\n",
      "=======================================\n",
      "correlation 0.44191694\n",
      "poisson_loss 2091705.9\n",
      "=======================================\n",
      "correlation 0.4407415\n",
      "poisson_loss 2095110.4\n",
      "=======================================\n",
      "correlation 0.4421377\n",
      "poisson_loss 2092493.8\n",
      "=======================================\n",
      "correlation 0.44221509\n",
      "poisson_loss 2092358.0\n",
      "=======================================\n",
      "correlation 0.44225812\n",
      "poisson_loss 2093510.9\n",
      "=======================================\n",
      "correlation 0.44091997\n",
      "poisson_loss 2094131.2\n",
      "=======================================\n",
      "correlation 0.44177905\n",
      "poisson_loss 2094167.8\n",
      "=======================================\n",
      "correlation 0.44178352\n",
      "poisson_loss 2093425.8\n",
      "=======================================\n",
      "correlation 0.43988135\n",
      "poisson_loss 2098690.0\n",
      "=======================================\n",
      "correlation 0.4424469\n",
      "poisson_loss 2093200.6\n",
      "Epoch    40: reducing learning rate of group 0 to 2.7000e-03.\n",
      "=======================================\n",
      "correlation 0.44134697\n",
      "poisson_loss 2094382.2\n",
      "=======================================\n",
      "correlation 0.4488683\n",
      "poisson_loss 2074257.9\n",
      "=======================================\n",
      "correlation 0.4490139\n",
      "poisson_loss 2073230.6\n",
      "=======================================\n",
      "correlation 0.44931847\n",
      "poisson_loss 2073215.8\n",
      "=======================================\n",
      "correlation 0.4494191\n",
      "poisson_loss 2073414.1\n",
      "=======================================\n",
      "correlation 0.44936973\n",
      "poisson_loss 2073801.8\n",
      "=======================================\n",
      "correlation 0.4492624\n",
      "poisson_loss 2073297.4\n",
      "=======================================\n",
      "correlation 0.44980362\n",
      "poisson_loss 2073249.2\n",
      "=======================================\n",
      "correlation 0.4495375\n",
      "poisson_loss 2073438.0\n",
      "=======================================\n",
      "correlation 0.44948417\n",
      "poisson_loss 2072491.4\n",
      "=======================================\n",
      "correlation 0.44967037\n",
      "poisson_loss 2073819.2\n",
      "=======================================\n",
      "correlation 0.44970486\n",
      "poisson_loss 2073445.9\n",
      "=======================================\n",
      "correlation 0.44968992\n",
      "poisson_loss 2073250.0\n",
      "Epoch    53: reducing learning rate of group 0 to 8.1000e-04.\n",
      "=======================================\n",
      "correlation 0.4497784\n",
      "poisson_loss 2072979.1\n",
      "=======================================\n",
      "correlation 0.4505388\n",
      "poisson_loss 2070347.8\n",
      "=======================================\n",
      "correlation 0.45114377\n",
      "poisson_loss 2069235.0\n",
      "=======================================\n",
      "correlation 0.45117614\n",
      "poisson_loss 2069098.9\n",
      "=======================================\n",
      "correlation 0.45126244\n",
      "poisson_loss 2068960.0\n",
      "=======================================\n",
      "correlation 0.45133534\n",
      "poisson_loss 2068900.2\n",
      "=======================================\n",
      "correlation 0.45139003\n",
      "poisson_loss 2068729.2\n",
      "=======================================\n",
      "correlation 0.451113\n",
      "poisson_loss 2069301.9\n",
      "=======================================\n",
      "correlation 0.45110795\n",
      "poisson_loss 2069391.5\n",
      "2022-10-12 20:33:03.250467: Model training finished\n"
     ]
    }
   ],
   "source": [
    "print_t('Start of model training')\n",
    "validation_score, trainer_output, state_dict = trainer(model, dataloaders, seed=42)\n",
    "print_t('Model training finished')\n",
    "\n",
    "save_file = 'notebooks/submission_m3/results/model_v3_retrained.pth'\n",
    "torch.save(model.state_dict(), save_file )"
   ]
  },
  {
   "cell_type": "code",
   "execution_count": null,
   "id": "9ba0f67b-119c-46f7-98f0-5c1032bcd83a",
   "metadata": {},
   "outputs": [],
   "source": []
  },
  {
   "cell_type": "markdown",
   "id": "09f5cbbe-9788-4a00-bc36-9d0e30c86830",
   "metadata": {},
   "source": [
    "### Save predictions as .npy"
   ]
  },
  {
   "cell_type": "code",
   "execution_count": 9,
   "id": "45366fa7-5c02-46be-8a24-d24f25edcc9c",
   "metadata": {},
   "outputs": [
    {
     "name": "stderr",
     "output_type": "stream",
     "text": [
      "Iterating datasets: 100%|██████████| 1/1 [00:14<00:00, 14.67s/it]\n"
     ]
    }
   ],
   "source": [
    "if config['save_predictions_npy']:\n",
    "    # calculate predictions per dataloader\n",
    "    results = prediction.all_predictions_with_trial(model, dataloaders)\n",
    "\n",
    "    # merge predictions, sort in time and add behavioral variables\n",
    "    merged = prediction.merge_predictions(results)\n",
    "    sorted_res = prediction.sort_predictions_by_time(merged)\n",
    "    prediction.inplace_add_behavior_to_sorted_predictions(sorted_res)\n",
    "    \n",
    "    npy_file = 'notebooks/submission_m3/results/prediction_model_v3_retrained.npy'\n",
    "    np.save( npy_file, sorted_res)\n",
    "    "
   ]
  },
  {
   "cell_type": "code",
   "execution_count": null,
   "id": "6d7a77ef-b30e-47f8-9124-bcf7a0ea96ba",
   "metadata": {},
   "outputs": [],
   "source": []
  }
 ],
 "metadata": {
  "kernelspec": {
   "display_name": "CSCS Python",
   "language": "python",
   "name": "cscs"
  },
  "language_info": {
   "codemirror_mode": {
    "name": "ipython",
    "version": 3
   },
   "file_extension": ".py",
   "mimetype": "text/x-python",
   "name": "python",
   "nbconvert_exporter": "python",
   "pygments_lexer": "ipython3",
   "version": "3.9.4"
  }
 },
 "nbformat": 4,
 "nbformat_minor": 5
}
