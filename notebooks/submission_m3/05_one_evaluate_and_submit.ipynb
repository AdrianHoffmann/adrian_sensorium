{
 "cells": [
  {
   "cell_type": "markdown",
   "id": "ec0beb96-4ace-4adf-b5cd-9a2002dbfa1d",
   "metadata": {},
   "source": [
    "# Evaluate and submit predictions"
   ]
  },
  {
   "cell_type": "markdown",
   "id": "4d66bf72-3fab-4a95-9fe1-d5bba618fcfa",
   "metadata": {},
   "source": [
    "### Imports"
   ]
  },
  {
   "cell_type": "code",
   "execution_count": 1,
   "id": "be2abeb2-f6a3-46f0-87b8-dd66c53dbcbc",
   "metadata": {},
   "outputs": [
    {
     "name": "stdout",
     "output_type": "stream",
     "text": [
      "Working directory: /scratch/snx3000/bp000429/submission/adrian_sensorium\n"
     ]
    }
   ],
   "source": [
    "import os\n",
    "if 'notebooks' in os.getcwd(): os.chdir('../..')  # change to main directory\n",
    "print('Working directory:', os.getcwd() )"
   ]
  },
  {
   "cell_type": "code",
   "execution_count": 2,
   "id": "162e01f2-fe39-4122-94e1-3865d267554d",
   "metadata": {},
   "outputs": [],
   "source": [
    "import torch\n",
    "import numpy as np\n",
    "import pandas as pd\n",
    "\n",
    "import matplotlib.pyplot as plt\n",
    "import seaborn as sns\n",
    "\n",
    "import warnings\n",
    "warnings.filterwarnings('ignore')\n",
    "\n",
    "from nnfabrik.builder import get_data, get_model, get_trainer\n",
    "\n",
    "from sensorium.utility import submission\n",
    "from sensorium.utility.training import read_config"
   ]
  },
  {
   "cell_type": "markdown",
   "id": "3cc32c20-1f06-46bf-b1b2-08e068687cfe",
   "metadata": {},
   "source": [
    "### Load configuration for model"
   ]
  },
  {
   "cell_type": "code",
   "execution_count": 3,
   "id": "a3757852-5cb5-44ba-9b43-2cd2862276f5",
   "metadata": {},
   "outputs": [
    {
     "name": "stdout",
     "output_type": "stream",
     "text": [
      "ordereddict([('data_sets', ['notebooks/data/static27204-5-13-GrayImageNet-94c6ff995dac583098847cfecd43e7b6.zip']), ('dataset_fn', 'sensorium.datasets.static_loaders'), ('dataset_config', ordereddict([('normalize', True), ('include_behavior', True), ('include_eye_position', True), ('batch_size', 128), ('scale', 0.25), ('preload_from_merged_data', True), ('include_trial_id', True), ('include_rank_id', True), ('include_history', True), ('include_behav_state', True), ('adjusted_normalization', True)])), ('model_fn', 'sensorium.models.modulated_stacked_core_full_gauss_readout'), ('model_seed', 3452), ('model_config', ordereddict([('pad_input', False), ('stack', -1), ('layers', 4), ('input_kern', 9), ('gamma_input', 9.8), ('gamma_readout', 0.48), ('hidden_kern', 10), ('hidden_channels', 64), ('depth_separable', True), ('grid_mean_predictor', ordereddict([('type', 'cortex'), ('input_dimensions', 2), ('hidden_layers', 4), ('hidden_features', 20), ('nonlinearity', 'ReLU'), ('final_tanh', True)])), ('init_sigma', 0.14), ('init_mu_range', 0.8), ('gauss_type', 'full'), ('shifter', True), ('with_modulator', True), ('modulator_type', 'HistoryStateGain'), ('modulator_params', ordereddict([('include_gain', True), ('gain_kernel_std', 30), ('diff_reg', 100), ('include_history', True), ('nr_history', 5), ('behav_state', True), ('nr_behav_state', 10), ('per_neuron_gain_adjust', True), ('gain_adjust_alpha', 0.3), ('alpha_behav', 0.3), ('alpha_hist', 0.3)]))])), ('use_pretrained_core', True), ('pretrained_model_file', 'no_file'), ('trainer_fn', 'sensorium.training.standard_trainer'), ('trainer_config', ordereddict([('max_iter', 200), ('verbose', True), ('lr_decay_steps', 4), ('avg_loss', False), ('lr_init', 0.009), ('detach_core', True), ('track_training', True), ('disable_tqdm', True)])), ('verbose', 3), ('save_csv', True), ('save_predictions_npy', True)])\n"
     ]
    }
   ],
   "source": [
    "config_file = 'notebooks/submission_m3/config_oneModel_m3.yaml'\n",
    "config = read_config( config_file )\n",
    "print(config)"
   ]
  },
  {
   "cell_type": "markdown",
   "id": "b6b7a11e-c5e4-4c07-ae18-22dba9d196f5",
   "metadata": {},
   "source": [
    "### Prepare dataloader"
   ]
  },
  {
   "cell_type": "code",
   "execution_count": 4,
   "id": "9af99364-71a6-468a-8884-342345fcb1b3",
   "metadata": {},
   "outputs": [],
   "source": [
    "if config['data_sets'][0] == 'all':\n",
    "    basepath = \"notebooks/data/\"\n",
    "    filenames = [os.path.join(basepath, file) for file in os.listdir(basepath) if \".zip\" in file ]\n",
    "    filenames = [file for file in filenames if 'static26872-17-20' not in file]\n",
    "else:\n",
    "    filenames = config['data_sets']\n",
    "    # filenames like ['notebooks/data/static21067-10-18-GrayImageNet-94c6ff995dac583098847cfecd43e7b6.zip', ]\n",
    "    \n",
    "dataset_fn = config['dataset_fn']  # 'sensorium.datasets.static_loaders'\n",
    "dataset_config = {'paths': filenames,\n",
    "                  **config['dataset_config'],\n",
    "                 }\n",
    "\n",
    "dataloaders = get_data(dataset_fn, dataset_config)"
   ]
  },
  {
   "cell_type": "markdown",
   "id": "a87fb79f-5fdf-4333-acb9-b071955419ea",
   "metadata": {},
   "source": [
    "### Load saved model"
   ]
  },
  {
   "cell_type": "code",
   "execution_count": 5,
   "id": "b464622e-c21f-4609-90b1-054543852da6",
   "metadata": {},
   "outputs": [],
   "source": [
    "# Instantiate model\n",
    "model_fn = config['model_fn']     # e.g. 'sensorium.models.modulated_stacked_core_full_gauss_readout'\n",
    "model_config = config['model_config']\n",
    "\n",
    "model = get_model(model_fn=model_fn,\n",
    "                  model_config=model_config,\n",
    "                  dataloaders=dataloaders,\n",
    "                  seed=config['model_seed'],\n",
    "                 )\n",
    "\n",
    "# Load trained weights\n",
    "save_file = 'notebooks/submission_m3/results/model_v3_retrained.pth'\n",
    "model.load_state_dict(torch.load(save_file));"
   ]
  },
  {
   "cell_type": "markdown",
   "id": "c6c04594-fbff-4ec6-9a5c-6b76ba1b61da",
   "metadata": {},
   "source": [
    "### Generate submission file"
   ]
  },
  {
   "cell_type": "code",
   "execution_count": 6,
   "id": "2c711ca1-0e3e-4194-b8f0-0d021d8c9bf5",
   "metadata": {},
   "outputs": [
    {
     "name": "stdout",
     "output_type": "stream",
     "text": [
      "Submission file saved for tier: live_test. Saved in: notebooks/submission_m3/results_retrained/submission_file_live_test.csv\n",
      "Submission file saved for tier: final_test. Saved in: notebooks/submission_m3/results_retrained/submission_file_final_test.csv\n"
     ]
    }
   ],
   "source": [
    "dataset_name = '27204-5-13'\n",
    "\n",
    "submission.generate_submission_file(trained_model=model, \n",
    "                                    dataloaders=dataloaders,\n",
    "                                    data_key=dataset_name,\n",
    "                                    path=\"notebooks/submission_m3/results_retrained/\",\n",
    "                                    device=\"cuda\")"
   ]
  },
  {
   "cell_type": "code",
   "execution_count": null,
   "id": "91df469e-4765-43b4-b728-04e5ed1ceca7",
   "metadata": {},
   "outputs": [],
   "source": []
  },
  {
   "cell_type": "code",
   "execution_count": null,
   "id": "45cc3e41-e5b2-4afa-b18b-3db51bbdad3d",
   "metadata": {},
   "outputs": [],
   "source": []
  },
  {
   "cell_type": "markdown",
   "id": "ea437a6b-8d7f-4eb2-9fed-9acadb020d41",
   "metadata": {},
   "source": [
    "### Evaluate model on all datasets"
   ]
  },
  {
   "cell_type": "code",
   "execution_count": 7,
   "id": "6faade7b-4adf-485e-b2ee-ca4ad1303d94",
   "metadata": {},
   "outputs": [],
   "source": [
    "from sensorium.utility import get_correlations, get_signal_correlations, get_fev\n",
    "from sensorium.utility.measure_helpers import get_df_for_scores"
   ]
  },
  {
   "cell_type": "markdown",
   "id": "158ce512-7316-4cb4-80d2-5dde27ae7391",
   "metadata": {},
   "source": [
    "#### Test data"
   ]
  },
  {
   "cell_type": "code",
   "execution_count": 8,
   "id": "0a76b116-87cc-4908-8cce-fa0a636e7f17",
   "metadata": {},
   "outputs": [],
   "source": [
    "single_trial_correlation = get_correlations(model, dataloaders, tier=\"test\", device=\"cuda\", as_dict=True)\n",
    "\n",
    "df_test = get_df_for_scores(session_dict=single_trial_correlation,\n",
    "                                    measure_attribute=\"Single Trial Correlation\"\n",
    "                      )"
   ]
  },
  {
   "cell_type": "code",
   "execution_count": 9,
   "id": "4dbdc8ed-e275-4a80-a781-6a5f54e30167",
   "metadata": {},
   "outputs": [
    {
     "data": {
      "text/html": [
       "<div>\n",
       "<style scoped>\n",
       "    .dataframe tbody tr th:only-of-type {\n",
       "        vertical-align: middle;\n",
       "    }\n",
       "\n",
       "    .dataframe tbody tr th {\n",
       "        vertical-align: top;\n",
       "    }\n",
       "\n",
       "    .dataframe thead tr th {\n",
       "        text-align: left;\n",
       "    }\n",
       "\n",
       "    .dataframe thead tr:last-of-type th {\n",
       "        text-align: right;\n",
       "    }\n",
       "</style>\n",
       "<table border=\"1\" class=\"dataframe\">\n",
       "  <thead>\n",
       "    <tr>\n",
       "      <th></th>\n",
       "      <th colspan=\"8\" halign=\"left\">Single Trial Correlation</th>\n",
       "    </tr>\n",
       "    <tr>\n",
       "      <th></th>\n",
       "      <th>count</th>\n",
       "      <th>mean</th>\n",
       "      <th>std</th>\n",
       "      <th>min</th>\n",
       "      <th>25%</th>\n",
       "      <th>50%</th>\n",
       "      <th>75%</th>\n",
       "      <th>max</th>\n",
       "    </tr>\n",
       "    <tr>\n",
       "      <th>dataset</th>\n",
       "      <th></th>\n",
       "      <th></th>\n",
       "      <th></th>\n",
       "      <th></th>\n",
       "      <th></th>\n",
       "      <th></th>\n",
       "      <th></th>\n",
       "      <th></th>\n",
       "    </tr>\n",
       "  </thead>\n",
       "  <tbody>\n",
       "    <tr>\n",
       "      <th>27204-5-13</th>\n",
       "      <td>7538.0</td>\n",
       "      <td>0.0</td>\n",
       "      <td>0.0</td>\n",
       "      <td>0.0</td>\n",
       "      <td>0.0</td>\n",
       "      <td>0.0</td>\n",
       "      <td>0.0</td>\n",
       "      <td>0.0</td>\n",
       "    </tr>\n",
       "  </tbody>\n",
       "</table>\n",
       "</div>"
      ],
      "text/plain": [
       "           Single Trial Correlation                                   \n",
       "                              count mean  std  min  25%  50%  75%  max\n",
       "dataset                                                               \n",
       "27204-5-13                   7538.0  0.0  0.0  0.0  0.0  0.0  0.0  0.0"
      ]
     },
     "execution_count": 9,
     "metadata": {},
     "output_type": "execute_result"
    }
   ],
   "source": [
    "df_test.groupby('dataset').describe()"
   ]
  },
  {
   "cell_type": "markdown",
   "id": "a3a1c00b-2cb7-49cf-9934-66e755c7858c",
   "metadata": {},
   "source": [
    "#### Validation data"
   ]
  },
  {
   "cell_type": "code",
   "execution_count": 10,
   "id": "c564be32-bd03-49eb-a57b-67958e5d6437",
   "metadata": {},
   "outputs": [],
   "source": [
    "single_trial_correlation = get_correlations(model, dataloaders, tier=\"validation\", device=\"cuda\", as_dict=True)\n",
    "\n",
    "df_val = get_df_for_scores(session_dict=single_trial_correlation,\n",
    "                                    measure_attribute=\"Single Trial Correlation\"\n",
    "                      )"
   ]
  },
  {
   "cell_type": "code",
   "execution_count": 11,
   "id": "4a561db9-5126-4660-a3ac-36c187ad309d",
   "metadata": {},
   "outputs": [
    {
     "data": {
      "text/html": [
       "<div>\n",
       "<style scoped>\n",
       "    .dataframe tbody tr th:only-of-type {\n",
       "        vertical-align: middle;\n",
       "    }\n",
       "\n",
       "    .dataframe tbody tr th {\n",
       "        vertical-align: top;\n",
       "    }\n",
       "\n",
       "    .dataframe thead tr th {\n",
       "        text-align: left;\n",
       "    }\n",
       "\n",
       "    .dataframe thead tr:last-of-type th {\n",
       "        text-align: right;\n",
       "    }\n",
       "</style>\n",
       "<table border=\"1\" class=\"dataframe\">\n",
       "  <thead>\n",
       "    <tr>\n",
       "      <th></th>\n",
       "      <th colspan=\"8\" halign=\"left\">Single Trial Correlation</th>\n",
       "    </tr>\n",
       "    <tr>\n",
       "      <th></th>\n",
       "      <th>count</th>\n",
       "      <th>mean</th>\n",
       "      <th>std</th>\n",
       "      <th>min</th>\n",
       "      <th>25%</th>\n",
       "      <th>50%</th>\n",
       "      <th>75%</th>\n",
       "      <th>max</th>\n",
       "    </tr>\n",
       "    <tr>\n",
       "      <th>dataset</th>\n",
       "      <th></th>\n",
       "      <th></th>\n",
       "      <th></th>\n",
       "      <th></th>\n",
       "      <th></th>\n",
       "      <th></th>\n",
       "      <th></th>\n",
       "      <th></th>\n",
       "    </tr>\n",
       "  </thead>\n",
       "  <tbody>\n",
       "    <tr>\n",
       "      <th>27204-5-13</th>\n",
       "      <td>7538.0</td>\n",
       "      <td>0.451261</td>\n",
       "      <td>0.132818</td>\n",
       "      <td>0.033228</td>\n",
       "      <td>0.356523</td>\n",
       "      <td>0.450566</td>\n",
       "      <td>0.543477</td>\n",
       "      <td>0.850034</td>\n",
       "    </tr>\n",
       "  </tbody>\n",
       "</table>\n",
       "</div>"
      ],
      "text/plain": [
       "           Single Trial Correlation                                          \\\n",
       "                              count      mean       std       min       25%   \n",
       "dataset                                                                       \n",
       "27204-5-13                   7538.0  0.451261  0.132818  0.033228  0.356523   \n",
       "\n",
       "                                          \n",
       "                 50%       75%       max  \n",
       "dataset                                   \n",
       "27204-5-13  0.450566  0.543477  0.850034  "
      ]
     },
     "execution_count": 11,
     "metadata": {},
     "output_type": "execute_result"
    }
   ],
   "source": [
    "df_val.groupby('dataset').describe()"
   ]
  },
  {
   "cell_type": "code",
   "execution_count": null,
   "id": "e5ba1f8f-8daa-4089-a2b8-6656f4216306",
   "metadata": {},
   "outputs": [],
   "source": []
  }
 ],
 "metadata": {
  "kernelspec": {
   "display_name": "CSCS Python",
   "language": "python",
   "name": "cscs"
  },
  "language_info": {
   "codemirror_mode": {
    "name": "ipython",
    "version": 3
   },
   "file_extension": ".py",
   "mimetype": "text/x-python",
   "name": "python",
   "nbconvert_exporter": "python",
   "pygments_lexer": "ipython3",
   "version": "3.9.4"
  }
 },
 "nbformat": 4,
 "nbformat_minor": 5
}
