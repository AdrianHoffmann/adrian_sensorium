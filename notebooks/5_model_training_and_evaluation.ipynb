{
 "cells": [
  {
   "cell_type": "markdown",
   "metadata": {},
   "source": [
    "# How to train and evaluate a model on the publicly available datasets"
   ]
  },
  {
   "cell_type": "markdown",
   "metadata": {},
   "source": [
    "### This notebook will show how to\n",
    "- instantiate dataloader for the demo data\n",
    "- instantiate pytorch model\n",
    "- instantiate a trainer function\n",
    "- train the model\n",
    "- evaluate the model on the test set"
   ]
  },
  {
   "cell_type": "markdown",
   "metadata": {},
   "source": [
    "### Imports"
   ]
  },
  {
   "cell_type": "code",
   "execution_count": 1,
   "metadata": {},
   "outputs": [],
   "source": [
    "import torch\n",
    "import numpy as np\n",
    "import pandas as pd\n",
    "\n",
    "import matplotlib.pyplot as plt\n",
    "import seaborn as sns\n",
    "\n",
    "import warnings\n",
    "warnings.filterwarnings('ignore')\n",
    "\n",
    "from nnfabrik.builder import get_data, get_model, get_trainer"
   ]
  },
  {
   "cell_type": "markdown",
   "metadata": {},
   "source": [
    "### Instantiate DataLoader"
   ]
  },
  {
   "cell_type": "code",
   "execution_count": 2,
   "metadata": {},
   "outputs": [],
   "source": [
    "filenames = ['./data/lurz2020/static20457-5-9-preproc0', ]\n",
    "\n",
    "dataset_fn = 'sensorium.datasets.static_loaders'\n",
    "dataset_config = {'paths': filenames,\n",
    "                 'normalize': True,\n",
    "                 'include_behavior': False,\n",
    "                 'include_eye_position': False,\n",
    "                 'batch_size': 128,\n",
    "                 'scale':1,\n",
    "                 }\n",
    "\n",
    "dataloaders = get_data(dataset_fn, dataset_config)"
   ]
  },
  {
   "cell_type": "markdown",
   "metadata": {},
   "source": [
    "# Instantiate State of the Art Model (SOTA)"
   ]
  },
  {
   "cell_type": "code",
   "execution_count": 3,
   "metadata": {},
   "outputs": [],
   "source": [
    "model_fn = 'sensorium.models.stacked_core_full_gauss_readout'\n",
    "model_config = {'pad_input': False,\n",
    "  'stack': -1,\n",
    "  'layers': 4,\n",
    "  'input_kern': 9,\n",
    "  'gamma_input': 6.3831,\n",
    "  'gamma_readout': 0.0076,\n",
    "  'hidden_dilation': 1,\n",
    "  'hidden_kern': 7,\n",
    "  'hidden_channels': 64,\n",
    "  'depth_separable': True,\n",
    "  'grid_mean_predictor': {'type': 'cortex',\n",
    "   'input_dimensions': 2,\n",
    "   'hidden_layers': 1,\n",
    "   'hidden_features': 30,\n",
    "   'final_tanh': True},\n",
    "  'init_sigma': 0.1,\n",
    "  'init_mu_range': 0.3,\n",
    "  'gauss_type': 'full',\n",
    "  'shifter': False,\n",
    "  'use_avg_reg':False,\n",
    "}\n",
    "\n",
    "model = get_model(model_fn=model_fn,\n",
    "                  model_config=model_config,\n",
    "                  dataloaders=dataloaders,\n",
    "                  seed=42,)"
   ]
  },
  {
   "cell_type": "markdown",
   "metadata": {},
   "source": [
    "## Configure Trainer"
   ]
  },
  {
   "cell_type": "code",
   "execution_count": 4,
   "metadata": {},
   "outputs": [],
   "source": [
    "trainer_fn = \"sensorium.training.standard_trainer\"\n",
    "\n",
    "trainer_config = {'max_iter': 100,\n",
    "                 'verbose': False,\n",
    "                 'lr_decay_steps': 4,\n",
    "                 'avg_loss': False,\n",
    "                 'lr_init': 0.009,\n",
    "                 }\n",
    "\n",
    "trainer = get_trainer(trainer_fn=trainer_fn, \n",
    "                     trainer_config=trainer_config)"
   ]
  },
  {
   "cell_type": "markdown",
   "metadata": {},
   "source": [
    "# Run model training"
   ]
  },
  {
   "cell_type": "code",
   "execution_count": 5,
   "metadata": {},
   "outputs": [
    {
     "name": "stderr",
     "output_type": "stream",
     "text": [
      "Epoch 1: 100%|██████████| 35/35 [00:09<00:00,  3.58it/s]\n",
      "Epoch 2: 100%|██████████| 35/35 [00:05<00:00,  6.19it/s]\n",
      "Epoch 3: 100%|██████████| 35/35 [00:05<00:00,  6.12it/s]\n",
      "Epoch 4: 100%|██████████| 35/35 [00:05<00:00,  6.14it/s]\n",
      "Epoch 5: 100%|██████████| 35/35 [00:05<00:00,  6.14it/s]\n",
      "Epoch 6: 100%|██████████| 35/35 [00:05<00:00,  6.03it/s]\n",
      "Epoch 7: 100%|██████████| 35/35 [00:05<00:00,  5.93it/s]\n",
      "Epoch 8: 100%|██████████| 35/35 [00:05<00:00,  5.92it/s]\n",
      "Epoch 9: 100%|██████████| 35/35 [00:05<00:00,  5.93it/s]\n",
      "Epoch 10: 100%|██████████| 35/35 [00:05<00:00,  5.89it/s]\n",
      "Epoch 11: 100%|██████████| 35/35 [00:05<00:00,  5.93it/s]\n",
      "Epoch 12: 100%|██████████| 35/35 [00:05<00:00,  5.96it/s]\n",
      "Epoch 13: 100%|██████████| 35/35 [00:06<00:00,  5.81it/s]\n",
      "Epoch 14: 100%|██████████| 35/35 [00:06<00:00,  5.77it/s]\n",
      "Epoch 15: 100%|██████████| 35/35 [00:06<00:00,  5.82it/s]\n",
      "Epoch 16: 100%|██████████| 35/35 [00:05<00:00,  5.85it/s]\n",
      "Epoch 17: 100%|██████████| 35/35 [00:05<00:00,  5.94it/s]\n",
      "Epoch 18: 100%|██████████| 35/35 [00:06<00:00,  5.82it/s]\n",
      "Epoch 19: 100%|██████████| 35/35 [00:05<00:00,  5.92it/s]\n",
      "Epoch 20: 100%|██████████| 35/35 [00:05<00:00,  5.93it/s]\n",
      "Epoch 21: 100%|██████████| 35/35 [00:05<00:00,  5.94it/s]\n",
      "Epoch 22: 100%|██████████| 35/35 [00:05<00:00,  5.92it/s]\n",
      "Epoch 23: 100%|██████████| 35/35 [00:05<00:00,  5.90it/s]\n",
      "Epoch 24: 100%|██████████| 35/35 [00:05<00:00,  5.91it/s]\n",
      "Epoch 25: 100%|██████████| 35/35 [00:05<00:00,  5.87it/s]\n",
      "Epoch 26: 100%|██████████| 35/35 [00:05<00:00,  5.89it/s]\n",
      "Epoch 27: 100%|██████████| 35/35 [00:05<00:00,  5.95it/s]\n",
      "Epoch 28: 100%|██████████| 35/35 [00:05<00:00,  5.95it/s]\n",
      "Epoch 29: 100%|██████████| 35/35 [00:05<00:00,  5.95it/s]\n",
      "Epoch 30: 100%|██████████| 35/35 [00:05<00:00,  5.90it/s]\n",
      "Epoch 31: 100%|██████████| 35/35 [00:05<00:00,  5.93it/s]\n",
      "Epoch 32: 100%|██████████| 35/35 [00:06<00:00,  5.79it/s]\n",
      "Epoch 33: 100%|██████████| 35/35 [00:05<00:00,  5.93it/s]\n",
      "Epoch 34: 100%|██████████| 35/35 [00:05<00:00,  5.91it/s]\n",
      "Epoch 35: 100%|██████████| 35/35 [00:05<00:00,  5.91it/s]\n",
      "Epoch 36: 100%|██████████| 35/35 [00:05<00:00,  5.95it/s]\n",
      "Epoch 37: 100%|██████████| 35/35 [00:05<00:00,  5.93it/s]\n",
      "Epoch 38: 100%|██████████| 35/35 [00:05<00:00,  5.96it/s]\n",
      "Epoch 39: 100%|██████████| 35/35 [00:05<00:00,  5.97it/s]\n",
      "Epoch 40: 100%|██████████| 35/35 [00:05<00:00,  6.03it/s]\n",
      "Epoch 41: 100%|██████████| 35/35 [00:05<00:00,  5.95it/s]\n",
      "Epoch 42: 100%|██████████| 35/35 [00:05<00:00,  5.92it/s]\n",
      "Epoch 43: 100%|██████████| 35/35 [00:05<00:00,  6.01it/s]\n",
      "Epoch 44: 100%|██████████| 35/35 [00:05<00:00,  5.89it/s]\n",
      "Epoch 45: 100%|██████████| 35/35 [00:05<00:00,  5.91it/s]\n",
      "Epoch 46: 100%|██████████| 35/35 [00:05<00:00,  5.99it/s]\n",
      "Epoch 47: 100%|██████████| 35/35 [00:05<00:00,  5.96it/s]\n",
      "Epoch 48: 100%|██████████| 35/35 [00:05<00:00,  5.98it/s]\n",
      "Epoch 49: 100%|██████████| 35/35 [00:05<00:00,  5.91it/s]\n",
      "Epoch 50: 100%|██████████| 35/35 [00:05<00:00,  5.93it/s]\n",
      "Epoch 51: 100%|██████████| 35/35 [00:05<00:00,  5.96it/s]\n",
      "Epoch 52: 100%|██████████| 35/35 [00:05<00:00,  5.94it/s]\n",
      "Epoch 53: 100%|██████████| 35/35 [00:05<00:00,  5.97it/s]\n",
      "Epoch 54: 100%|██████████| 35/35 [00:05<00:00,  5.92it/s]\n",
      "Epoch 55: 100%|██████████| 35/35 [00:05<00:00,  5.90it/s]\n",
      "Epoch 56: 100%|██████████| 35/35 [00:05<00:00,  5.94it/s]\n",
      "Epoch 57: 100%|██████████| 35/35 [00:05<00:00,  5.91it/s]\n",
      "Epoch 58: 100%|██████████| 35/35 [00:05<00:00,  5.91it/s]\n",
      "Epoch 59: 100%|██████████| 35/35 [00:05<00:00,  5.93it/s]\n",
      "Epoch 60: 100%|██████████| 35/35 [00:05<00:00,  5.97it/s]\n",
      "Epoch 61: 100%|██████████| 35/35 [00:05<00:00,  5.97it/s]\n",
      "Epoch 62: 100%|██████████| 35/35 [00:05<00:00,  6.00it/s]\n",
      "Epoch 63: 100%|██████████| 35/35 [00:05<00:00,  5.89it/s]\n",
      "Epoch 64: 100%|██████████| 35/35 [00:05<00:00,  5.99it/s]\n",
      "Epoch 65: 100%|██████████| 35/35 [00:05<00:00,  5.98it/s]\n",
      "Epoch 66: 100%|██████████| 35/35 [00:05<00:00,  6.02it/s]\n",
      "Epoch 67: 100%|██████████| 35/35 [00:05<00:00,  5.98it/s]\n"
     ]
    }
   ],
   "source": [
    "validation_score, trainer_output, state_dict = trainer(model, dataloaders, seed=42)"
   ]
  },
  {
   "cell_type": "markdown",
   "metadata": {},
   "source": [
    "# Evaluete the model on test set"
   ]
  },
  {
   "cell_type": "code",
   "execution_count": 6,
   "metadata": {},
   "outputs": [],
   "source": [
    "from sensorium.utility.scores import get_correlations, get_signal_correlations, get_fev"
   ]
  },
  {
   "cell_type": "code",
   "execution_count": 7,
   "metadata": {},
   "outputs": [],
   "source": [
    "correlations = get_correlations(model, dataloaders[\"test\"], device=\"cuda\")\n",
    "signal_correlations = get_signal_correlations(model, dataloaders[\"test\"], device=\"cuda\")\n",
    "fevs = get_fev(model, dataloaders[\"test\"], device=\"cuda\")"
   ]
  },
  {
   "cell_type": "code",
   "execution_count": 8,
   "metadata": {},
   "outputs": [],
   "source": [
    "metrics = {\"Correlation (single trial)\": correlations.mean(), \n",
    "           \"Correlation (mean)\": signal_correlations.mean(), \n",
    "           \"FEVE\": fevs.mean()}"
   ]
  },
  {
   "cell_type": "code",
   "execution_count": 9,
   "metadata": {},
   "outputs": [
    {
     "name": "stdout",
     "output_type": "stream",
     "text": [
      "Results for the model:\n",
      "Correlation (single trial): 0.305\n",
      "Correlation (mean): 0.553\n",
      "FEVE: 0.316\n"
     ]
    }
   ],
   "source": [
    "print(\"Results for the model:\")\n",
    "for metric, value in metrics.items():\n",
    "    print(f\"{metric}: {value:.3f}\")"
   ]
  }
 ],
 "metadata": {
  "kernelspec": {
   "display_name": "Python 3",
   "language": "python",
   "name": "python3"
  },
  "language_info": {
   "codemirror_mode": {
    "name": "ipython",
    "version": 3
   },
   "file_extension": ".py",
   "mimetype": "text/x-python",
   "name": "python",
   "nbconvert_exporter": "python",
   "pygments_lexer": "ipython3",
   "version": "3.8.0"
  }
 },
 "nbformat": 4,
 "nbformat_minor": 4
}
