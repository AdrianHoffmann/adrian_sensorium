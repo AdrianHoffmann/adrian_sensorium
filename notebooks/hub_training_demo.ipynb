{
 "cells": [
  {
   "cell_type": "markdown",
   "metadata": {},
   "source": [
    "### 1. Load the train and test datasets and create the corresponding dataloader"
   ]
  },
  {
   "cell_type": "code",
   "execution_count": 1,
   "metadata": {},
   "outputs": [],
   "source": [
    "import torch\n",
    "from torchvision import transforms\n",
    "\n",
    "import hub"
   ]
  },
  {
   "cell_type": "code",
   "execution_count": 2,
   "metadata": {},
   "outputs": [
    {
     "name": "stdout",
     "output_type": "stream",
     "text": [
      "hub://mohammadbashiri/npc-mouse1-train loaded successfully.\n"
     ]
    },
    {
     "name": "stderr",
     "output_type": "stream",
     "text": [
      "/usr/local/lib/python3.8/dist-packages/hub/core/dataset/dataset.py:548: UserWarning: Checking out dataset in read only mode as another machine has locked this version for writing.\n",
      "  warnings.warn(\n"
     ]
    },
    {
     "name": "stdout",
     "output_type": "stream",
     "text": [
      "This dataset can be visualized at https://app.activeloop.ai/mohammadbashiri/npc-mouse1-train.\n",
      "hub://mohammadbashiri/npc-mouse1-test loaded successfully.\n",
      "This dataset can be visualized at https://app.activeloop.ai/mohammadbashiri/npc-mouse1-test.\n"
     ]
    }
   ],
   "source": [
    "trainset = hub.load(\"hub://mohammadbashiri/npc-mouse1-train\")\n",
    "testset = hub.load(\"hub://mohammadbashiri/npc-mouse1-test\")"
   ]
  },
  {
   "cell_type": "code",
   "execution_count": 3,
   "metadata": {},
   "outputs": [],
   "source": [
    "trainloader = trainset.pytorch(batch_size=16, shuffle=True, transform={'inputs': transforms.ToTensor(), 'targets': None, 'image_ids': None, 'trial_indices': None})\n",
    "testloader = testset.pytorch(batch_size=16, shuffle=False, transform={'inputs': transforms.ToTensor(), 'image_ids': None, 'trial_indices': None})"
   ]
  },
  {
   "cell_type": "code",
   "execution_count": 4,
   "metadata": {},
   "outputs": [],
   "source": [
    "#dataset_id = trainset.info.dataset_id\n",
    "dataset_id = 'animal_0'"
   ]
  },
  {
   "cell_type": "code",
   "execution_count": 5,
   "metadata": {},
   "outputs": [],
   "source": [
    "dataloaders = {\"train\": {dataset_id: trainloader},\n",
    "              \"validation\": {dataset_id: trainloader},\n",
    "              \"test\": {dataset_id: trainloader}}"
   ]
  },
  {
   "cell_type": "code",
   "execution_count": null,
   "metadata": {},
   "outputs": [],
   "source": [
    "from nnfabrik.builder import get_model, get_trainer;"
   ]
  },
  {
   "cell_type": "code",
   "execution_count": 7,
   "metadata": {},
   "outputs": [],
   "source": [
    "model_fn, model_config = ('cascade.models.stacked_core_full_gauss_readout',\n",
    " {'pad_input': False,\n",
    "  'stack': -1,\n",
    "  'layers': 1,\n",
    "  'input_kern': 5,\n",
    "  'hidden_dilation': 1,\n",
    "  'hidden_kern': 3,\n",
    "  'hidden_channels': 64,\n",
    "  'depth_separable': True,\n",
    "  'init_sigma': 0.1,\n",
    "  'init_mu_range': 0.3,\n",
    "  'gauss_type': 'full',\n",
    "  'shifter': True,\n",
    "  'shift_layers': 3})"
   ]
  },
  {
   "cell_type": "code",
   "execution_count": 8,
   "metadata": {},
   "outputs": [
    {
     "name": "stderr",
     "output_type": "stream",
     "text": [
      "/src/neuralpredictors/neuralpredictors/layers/readouts/base.py:62: UserWarning: Use of 'gamma_readout' is deprecated. Please consider using the readout's feature-regularization parameter instead\n",
      "  warnings.warn(\n",
      "/src/neuralpredictors/neuralpredictors/layers/readouts/base.py:79: UserWarning: Readout is NOT initialized with mean activity but with 0!\n",
      "  warnings.warn(\"Readout is NOT initialized with mean activity but with 0!\")\n"
     ]
    }
   ],
   "source": [
    "model = get_model(model_fn, model_config, dataloaders, seed=1)"
   ]
  },
  {
   "cell_type": "code",
   "execution_count": 9,
   "metadata": {},
   "outputs": [],
   "source": [
    "trainer_fn, trainer_config = ('cascade.training.standard_trainer',\n",
    " {'max_iter': 2,\n",
    "  'verbose': False,\n",
    "  'lr_decay_steps': 4,\n",
    "  'avg_loss': False,\n",
    "  'lr_init': 0.009})"
   ]
  },
  {
   "cell_type": "code",
   "execution_count": 10,
   "metadata": {},
   "outputs": [],
   "source": [
    "trainer = get_trainer(trainer_fn, trainer_config)"
   ]
  },
  {
   "cell_type": "code",
   "execution_count": 11,
   "metadata": {},
   "outputs": [
    {
     "name": "stderr",
     "output_type": "stream",
     "text": [
      "Epoch 1: 100%|██████████| 13/13 [00:04<00:00,  3.13it/s]\n"
     ]
    },
    {
     "name": "stdout",
     "output_type": "stream",
     "text": [
      "[001|00/05] ---> 0.03848068905962665\n"
     ]
    },
    {
     "name": "stderr",
     "output_type": "stream",
     "text": [
      "Epoch 2: 100%|██████████| 13/13 [00:04<00:00,  3.11it/s]\n"
     ]
    },
    {
     "name": "stdout",
     "output_type": "stream",
     "text": [
      "[002|01/05] -/-> 0.03326271399990587\n",
      "Restoring best model! 0.033263 ---> 0.038481\n"
     ]
    }
   ],
   "source": [
    "score, output, state_dict = trainer(model, dataloaders, seed=42)"
   ]
  },
  {
   "cell_type": "code",
   "execution_count": null,
   "metadata": {},
   "outputs": [],
   "source": []
  },
  {
   "cell_type": "code",
   "execution_count": null,
   "metadata": {},
   "outputs": [],
   "source": []
  }
 ],
 "metadata": {
  "kernelspec": {
   "display_name": "Python 3",
   "language": "python",
   "name": "python3"
  },
  "language_info": {
   "codemirror_mode": {
    "name": "ipython",
    "version": 3
   },
   "file_extension": ".py",
   "mimetype": "text/x-python",
   "name": "python",
   "nbconvert_exporter": "python",
   "pygments_lexer": "ipython3",
   "version": "3.8.0"
  }
 },
 "nbformat": 4,
 "nbformat_minor": 4
}
