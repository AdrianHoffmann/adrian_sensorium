{
 "cells": [
  {
   "cell_type": "markdown",
   "metadata": {},
   "source": [
    "# Model Training with nnfabrik"
   ]
  },
  {
   "cell_type": "code",
   "execution_count": 2,
   "metadata": {},
   "outputs": [
    {
     "name": "stdout",
     "output_type": "stream",
     "text": [
      "The autoreload extension is already loaded. To reload it, use:\n",
      "  %reload_ext autoreload\n"
     ]
    }
   ],
   "source": [
    "%load_ext autoreload\n",
    "%autoreload 2\n",
    "\n",
    "import torch\n",
    "import numpy as np\n",
    "import pandas as pd\n",
    "import matplotlib.pyplot as plt\n",
    "import seaborn as sns\n",
    "import nnfabrik\n",
    "from nnfabrik.builder import get_data, get_model, get_trainer\n",
    "import cascade\n",
    "\n",
    "\n",
    "import datajoint as dj\n",
    "dj.config[\"database.host\"] = '18.198.155.36'\n",
    "\n",
    "dj.config[\"enable_python_native_blobs\"] = True\n",
    "dj.config['nnfabrik.schema_name'] = \"nnfabrik_neural_prediction_challenge\"\n",
    "\n",
    "schema = dj.schema(\"nnfabrik_neural_prediction_challenge\")\n",
    "\n",
    "from nnfabrik.main import *"
   ]
  },
  {
   "cell_type": "markdown",
   "metadata": {},
   "source": [
    "# Initial Addition of Tables for the Schema"
   ]
  },
  {
   "cell_type": "code",
   "execution_count": 10,
   "metadata": {},
   "outputs": [],
   "source": [
    "Fabrikant().insert1(dict(fabrikant_name='kwilleke',\n",
    "                         email=\"konstantin.willeke@gmail.com\",\n",
    "                         affiliation='sinzlab',\n",
    "                         dj_username=\"kwilleke\"))"
   ]
  },
  {
   "cell_type": "code",
   "execution_count": 11,
   "metadata": {},
   "outputs": [
    {
     "data": {
      "text/html": [
       "\n",
       "        \n",
       "        <style type=\"text/css\">\n",
       "            .Relation{\n",
       "                border-collapse:collapse;\n",
       "            }\n",
       "            .Relation th{\n",
       "                background: #A0A0A0; color: #ffffff; padding:4px; border:#f0e0e0 1px solid;\n",
       "                font-weight: normal; font-family: monospace; font-size: 100%;\n",
       "            }\n",
       "            .Relation td{\n",
       "                padding:4px; border:#f0e0e0 1px solid; font-size:100%;\n",
       "            }\n",
       "            .Relation tr:nth-child(odd){\n",
       "                background: #ffffff;\n",
       "            }\n",
       "            .Relation tr:nth-child(even){\n",
       "                background: #f3f1ff;\n",
       "            }\n",
       "            /* Tooltip container */\n",
       "            .djtooltip {\n",
       "            }\n",
       "            /* Tooltip text */\n",
       "            .djtooltip .djtooltiptext {\n",
       "                visibility: hidden;\n",
       "                width: 120px;\n",
       "                background-color: black;\n",
       "                color: #fff;\n",
       "                text-align: center;\n",
       "                padding: 5px 0;\n",
       "                border-radius: 6px;\n",
       "                /* Position the tooltip text - see examples below! */\n",
       "                position: absolute;\n",
       "                z-index: 1;\n",
       "            }\n",
       "            #primary {\n",
       "                font-weight: bold;\n",
       "                color: black;\n",
       "            }\n",
       "\n",
       "            #nonprimary {\n",
       "                font-weight: normal;\n",
       "                color: white;\n",
       "            }\n",
       "\n",
       "            /* Show the tooltip text when you mouse over the tooltip container */\n",
       "            .djtooltip:hover .djtooltiptext {\n",
       "                visibility: visible;\n",
       "            }\n",
       "        </style>\n",
       "        \n",
       "        <b></b>\n",
       "            <div style=\"max-height:1000px;max-width:1500px;overflow:auto;\">\n",
       "            <table border=\"1\" class=\"Relation\">\n",
       "                <thead> <tr style=\"text-align: right;\"> <th> <div class=\"djtooltip\">\n",
       "                                <p id=\"primary\">seed</p>\n",
       "                                <span class=\"djtooltiptext\">Random seed that is passed to the model- and dataset-builder</span>\n",
       "                            </div> </th> </tr> </thead>\n",
       "                <tbody> <tr> <td>1000</td> </tr> </tbody>\n",
       "            </table>\n",
       "            \n",
       "            <p>Total: 1</p></div>\n",
       "            "
      ],
      "text/plain": [
       "*seed   \n",
       "+------+\n",
       "1000    \n",
       " (Total: 1)"
      ]
     },
     "execution_count": 11,
     "metadata": {},
     "output_type": "execute_result"
    }
   ],
   "source": [
    "Seed().insert([{'seed':1000}])\n",
    "Seed()"
   ]
  },
  {
   "cell_type": "markdown",
   "metadata": {},
   "source": [
    "# Add Dataset"
   ]
  },
  {
   "cell_type": "code",
   "execution_count": 4,
   "metadata": {},
   "outputs": [
    {
     "name": "stdout",
     "output_type": "stream",
     "text": [
      "/data/mouse/toliaslab/static/static26645-2-18-GrayImageNet-94c6ff995dac583098847cfecd43e7b6 exists already. Not unpacking /data/mouse/toliaslab/static/static26645-2-18-GrayImageNet-94c6ff995dac583098847cfecd43e7b6.zip\n",
      "/data/mouse/toliaslab/static/static26644-14-17-GrayImageNet-94c6ff995dac583098847cfecd43e7b6 exists already. Not unpacking /data/mouse/toliaslab/static/static26644-14-17-GrayImageNet-94c6ff995dac583098847cfecd43e7b6.zip\n"
     ]
    }
   ],
   "source": [
    "# the cascade mouse dataloader takes the files from the Preprocessed mouse table and stores them on the server under /data/mouse/toliaslab/static/. like the other datasets\n",
    "filenames = ['static26645-2-18-GrayImageNet-94c6ff995dac583098847cfecd43e7b6.zip', 'static26644-14-17-GrayImageNet-94c6ff995dac583098847cfecd43e7b6.zip']\n",
    "\n",
    "dataset_fn = 'cascade.datasets.static_loaders'\n",
    "dataset_config = {'paths': filenames,\n",
    "                 'normalize': True,\n",
    "                 'include_behavior': False,\n",
    "                 'include_eye_position': True,\n",
    "                 'batch_size': 128,\n",
    "                 'exclude': None,\n",
    "                 'file_tree': True,\n",
    "                 'scale': 0.5\n",
    "                 }\n",
    "\n",
    "dataloaders = get_data(dataset_fn, dataset_config)"
   ]
  },
  {
   "cell_type": "code",
   "execution_count": 5,
   "metadata": {},
   "outputs": [
    {
     "data": {
      "text/plain": [
       "{'dataset_fn': 'cascade.datasets.static_loaders',\n",
       " 'dataset_hash': '9483f97db6cca8f6c9c8c917eae046eb'}"
      ]
     },
     "execution_count": 5,
     "metadata": {},
     "output_type": "execute_result"
    }
   ],
   "source": [
    "Dataset().add_entry(dataset_fn, dataset_config, dataset_comment=\"Both Test Scans, 72x128px, w/o behavior\")"
   ]
  },
  {
   "cell_type": "code",
   "execution_count": 6,
   "metadata": {},
   "outputs": [],
   "source": [
    "b = next(iter(dataloaders[\"train\"][\"26644-14-17\"]))"
   ]
  },
  {
   "cell_type": "code",
   "execution_count": 7,
   "metadata": {},
   "outputs": [
    {
     "data": {
      "text/plain": [
       "torch.Size([128, 1, 72, 128])"
      ]
     },
     "execution_count": 7,
     "metadata": {},
     "output_type": "execute_result"
    }
   ],
   "source": [
    "b.images.shape"
   ]
  },
  {
   "cell_type": "markdown",
   "metadata": {},
   "source": [
    "# Add Model"
   ]
  },
  {
   "cell_type": "code",
   "execution_count": 8,
   "metadata": {},
   "outputs": [
    {
     "name": "stderr",
     "output_type": "stream",
     "text": [
      "/notebooks/ml-utils/neuralpredictors/layers/readouts/base.py:62: UserWarning: Use of 'gamma_readout' is deprecated. Please consider using the readout's feature-regularization parameter instead\n",
      "  warnings.warn(\n",
      "/notebooks/ml-utils/neuralpredictors/layers/readouts/base.py:79: UserWarning: Readout is NOT initialized with mean activity but with 0!\n",
      "  warnings.warn(\"Readout is NOT initialized with mean activity but with 0!\")\n"
     ]
    }
   ],
   "source": [
    "model_fn = 'cascade.models.stacked_core_full_gauss_readout'\n",
    "model_config = {'pad_input': False,\n",
    "               'stack': -1,\n",
    "               'layers': 4,\n",
    "               'input_kern': 9,\n",
    "               'gamma_input': 6.3831,\n",
    "               'gamma_readout': 0.0076,\n",
    "               'hidden_dilation': 1,\n",
    "               'hidden_kern': 7,\n",
    "               'hidden_channels': 64,\n",
    "               'depth_separable': True,\n",
    "               'init_sigma': 0.1,\n",
    "               'init_mu_range': 0.3,\n",
    "               'gauss_type': 'full',\n",
    "               'shifter': True,\n",
    "               'shift_layers': 3,\n",
    "               'depth_separable': True,\n",
    "               }\n",
    "\n",
    "model = get_model(model_fn=model_fn,\n",
    "                  model_config=model_config,\n",
    "                  dataloaders=dataloaders,\n",
    "                  seed=1,)"
   ]
  },
  {
   "cell_type": "code",
   "execution_count": 9,
   "metadata": {},
   "outputs": [
    {
     "data": {
      "text/plain": [
       "{'model_fn': 'cascade.models.stacked_core_full_gauss_readout',\n",
       " 'model_hash': 'd2664a1ba94dcd1d911c1ac6907934ec'}"
      ]
     },
     "execution_count": 9,
     "metadata": {},
     "output_type": "execute_result"
    }
   ],
   "source": [
    "Model().add_entry(model_fn, model_config, model_comment=\"color mei default model\")"
   ]
  },
  {
   "cell_type": "markdown",
   "metadata": {},
   "source": [
    "# Add Trainer"
   ]
  },
  {
   "cell_type": "code",
   "execution_count": 10,
   "metadata": {},
   "outputs": [],
   "source": [
    "trainer_fn = \"cascade.training.standard_trainer\"\n",
    "\n",
    "trainer_config = {'max_iter': 2,\n",
    "                 'verbose': False,\n",
    "                 'lr_decay_steps': 4,\n",
    "                 'avg_loss': False,\n",
    "                 'lr_init': 0.009,\n",
    "                 }\n",
    "\n",
    "trainer = get_trainer(trainer_fn=trainer_fn, \n",
    "                     trainer_config=trainer_config)"
   ]
  },
  {
   "cell_type": "code",
   "execution_count": 11,
   "metadata": {},
   "outputs": [
    {
     "data": {
      "text/plain": [
       "{'trainer_fn': 'cascade.training.standard_trainer',\n",
       " 'trainer_hash': '534a2b5c34a223df3479adadd9f326ac'}"
      ]
     },
     "execution_count": 11,
     "metadata": {},
     "output_type": "execute_result"
    }
   ],
   "source": [
    "Trainer().add_entry(trainer_fn, trainer_config, trainer_comment=\"color mei default trainer\")"
   ]
  },
  {
   "cell_type": "code",
   "execution_count": 12,
   "metadata": {},
   "outputs": [],
   "source": [
    "from nnvision.tables.from_nnfabrik import TrainedModel"
   ]
  },
  {
   "cell_type": "code",
   "execution_count": null,
   "metadata": {},
   "outputs": [
    {
     "name": "stderr",
     "output_type": "stream",
     "text": [
      "  0%|          | 0/1 [00:00<?, ?it/s]"
     ]
    },
    {
     "name": "stdout",
     "output_type": "stream",
     "text": [
      "/data/mouse/toliaslab/static/static26645-2-18-GrayImageNet-94c6ff995dac583098847cfecd43e7b6 exists already. Not unpacking /data/mouse/toliaslab/static/static26645-2-18-GrayImageNet-94c6ff995dac583098847cfecd43e7b6.zip\n",
      "/data/mouse/toliaslab/static/static26644-14-17-GrayImageNet-94c6ff995dac583098847cfecd43e7b6 exists already. Not unpacking /data/mouse/toliaslab/static/static26644-14-17-GrayImageNet-94c6ff995dac583098847cfecd43e7b6.zip\n"
     ]
    },
    {
     "name": "stderr",
     "output_type": "stream",
     "text": [
      "/notebooks/ml-utils/neuralpredictors/layers/readouts/base.py:62: UserWarning: Use of 'gamma_readout' is deprecated. Please consider using the readout's feature-regularization parameter instead\n",
      "  warnings.warn(\n",
      "/notebooks/ml-utils/neuralpredictors/layers/readouts/base.py:79: UserWarning: Readout is NOT initialized with mean activity but with 0!\n",
      "  warnings.warn(\"Readout is NOT initialized with mean activity but with 0!\")\n",
      "\n",
      "Epoch 1:   0%|          | 0/72 [00:00<?, ?it/s]\u001b[A\n",
      "Epoch 1:   1%|▏         | 1/72 [00:01<01:29,  1.26s/it]\u001b[A\n",
      "Epoch 1:   3%|▎         | 2/72 [00:02<01:30,  1.30s/it]\u001b[A\n",
      "Epoch 1:   4%|▍         | 3/72 [00:04<01:33,  1.35s/it]\u001b[A\n",
      "Epoch 1:   6%|▌         | 4/72 [00:05<01:33,  1.38s/it]\u001b[A\n",
      "Epoch 1:   7%|▋         | 5/72 [00:07<01:34,  1.41s/it]\u001b[A\n",
      "Epoch 1:   8%|▊         | 6/72 [00:08<01:34,  1.43s/it]\u001b[A\n",
      "Epoch 1:  10%|▉         | 7/72 [00:09<01:33,  1.44s/it]\u001b[A\n",
      "Epoch 1:  11%|█         | 8/72 [00:11<01:33,  1.45s/it]\u001b[A\n",
      "Epoch 1:  12%|█▎        | 9/72 [00:12<01:31,  1.46s/it]\u001b[A\n",
      "Epoch 1:  14%|█▍        | 10/72 [00:14<01:30,  1.47s/it]\u001b[A\n",
      "Epoch 1:  15%|█▌        | 11/72 [00:15<01:28,  1.46s/it]\u001b[A\n",
      "Epoch 1:  17%|█▋        | 12/72 [00:17<01:28,  1.47s/it]\u001b[A\n",
      "Epoch 1:  18%|█▊        | 13/72 [00:18<01:27,  1.48s/it]\u001b[A\n",
      "Epoch 1:  19%|█▉        | 14/72 [00:20<01:25,  1.47s/it]\u001b[A\n",
      "Epoch 1:  21%|██        | 15/72 [00:21<01:24,  1.48s/it]\u001b[A\n",
      "Epoch 1:  22%|██▏       | 16/72 [00:23<01:22,  1.48s/it]\u001b[A\n",
      "Epoch 1:  24%|██▎       | 17/72 [00:24<01:20,  1.47s/it]\u001b[A\n",
      "Epoch 1:  25%|██▌       | 18/72 [00:26<01:19,  1.47s/it]\u001b[A\n",
      "Epoch 1:  26%|██▋       | 19/72 [00:27<01:17,  1.47s/it]\u001b[A\n",
      "Epoch 1:  28%|██▊       | 20/72 [00:29<01:16,  1.47s/it]\u001b[A\n",
      "Epoch 1:  29%|██▉       | 21/72 [00:30<01:14,  1.47s/it]\u001b[A\n",
      "Epoch 1:  31%|███       | 22/72 [00:32<01:13,  1.48s/it]\u001b[A\n",
      "Epoch 1:  32%|███▏      | 23/72 [00:33<01:12,  1.47s/it]\u001b[A\n",
      "Epoch 1:  33%|███▎      | 24/72 [00:34<01:10,  1.46s/it]\u001b[A\n",
      "Epoch 1:  35%|███▍      | 25/72 [00:36<01:08,  1.46s/it]\u001b[A\n",
      "Epoch 1:  36%|███▌      | 26/72 [00:37<01:08,  1.48s/it]\u001b[A\n",
      "Epoch 1:  38%|███▊      | 27/72 [00:39<01:05,  1.46s/it]\u001b[A\n",
      "Epoch 1:  39%|███▉      | 28/72 [00:40<01:05,  1.48s/it]\u001b[A\n",
      "Epoch 1:  40%|████      | 29/72 [00:42<01:03,  1.47s/it]\u001b[A\n",
      "Epoch 1:  42%|████▏     | 30/72 [00:43<01:02,  1.48s/it]\u001b[A\n",
      "Epoch 1:  43%|████▎     | 31/72 [00:45<01:00,  1.48s/it]\u001b[A\n",
      "Epoch 1:  44%|████▍     | 32/72 [00:46<00:59,  1.49s/it]\u001b[A\n",
      "Epoch 1:  46%|████▌     | 33/72 [00:48<00:57,  1.49s/it]\u001b[A\n",
      "Epoch 1:  47%|████▋     | 34/72 [00:49<00:56,  1.48s/it]\u001b[A\n",
      "Epoch 1:  49%|████▊     | 35/72 [00:51<00:54,  1.48s/it]\u001b[A\n",
      "Epoch 1:  50%|█████     | 36/72 [00:52<00:53,  1.49s/it]\u001b[A\n",
      "Epoch 1:  51%|█████▏    | 37/72 [00:54<00:51,  1.47s/it]\u001b[A\n",
      "Epoch 1:  53%|█████▎    | 38/72 [00:55<00:50,  1.48s/it]\u001b[A\n",
      "Epoch 1:  54%|█████▍    | 39/72 [00:57<00:48,  1.48s/it]\u001b[A\n",
      "Epoch 1:  56%|█████▌    | 40/72 [00:58<00:47,  1.48s/it]\u001b[A\n",
      "Epoch 1:  57%|█████▋    | 41/72 [01:00<00:45,  1.47s/it]\u001b[A\n",
      "Epoch 1:  58%|█████▊    | 42/72 [01:01<00:44,  1.48s/it]\u001b[A\n",
      "Epoch 1:  60%|█████▉    | 43/72 [01:03<00:42,  1.48s/it]\u001b[A\n",
      "Epoch 1:  61%|██████    | 44/72 [01:04<00:41,  1.47s/it]\u001b[A\n",
      "Epoch 1:  62%|██████▎   | 45/72 [01:06<00:39,  1.48s/it]\u001b[A\n",
      "Epoch 1:  64%|██████▍   | 46/72 [01:07<00:38,  1.48s/it]\u001b[A\n",
      "Epoch 1:  65%|██████▌   | 47/72 [01:08<00:36,  1.47s/it]\u001b[A\n",
      "Epoch 1:  67%|██████▋   | 48/72 [01:10<00:35,  1.47s/it]\u001b[A\n",
      "Epoch 1:  68%|██████▊   | 49/72 [01:11<00:33,  1.47s/it]\u001b[A\n",
      "Epoch 1:  69%|██████▉   | 50/72 [01:13<00:32,  1.47s/it]\u001b[A\n",
      "Epoch 1:  71%|███████   | 51/72 [01:14<00:30,  1.47s/it]\u001b[A\n",
      "Epoch 1:  72%|███████▏  | 52/72 [01:16<00:29,  1.47s/it]\u001b[A\n",
      "Epoch 1:  74%|███████▎  | 53/72 [01:17<00:28,  1.48s/it]\u001b[A\n",
      "Epoch 1:  75%|███████▌  | 54/72 [01:19<00:26,  1.48s/it]\u001b[A\n",
      "Epoch 1:  76%|███████▋  | 55/72 [01:20<00:25,  1.48s/it]\u001b[A\n",
      "Epoch 1:  78%|███████▊  | 56/72 [01:22<00:23,  1.49s/it]\u001b[A\n",
      "Epoch 1:  79%|███████▉  | 57/72 [01:23<00:22,  1.48s/it]\u001b[A\n",
      "Epoch 1:  81%|████████  | 58/72 [01:25<00:20,  1.49s/it]\u001b[A\n",
      "Epoch 1:  82%|████████▏ | 59/72 [01:26<00:19,  1.48s/it]\u001b[A\n",
      "Epoch 1:  83%|████████▎ | 60/72 [01:28<00:17,  1.48s/it]\u001b[A\n",
      "Epoch 1:  85%|████████▍ | 61/72 [01:29<00:16,  1.48s/it]\u001b[A\n",
      "Epoch 1:  86%|████████▌ | 62/72 [01:31<00:14,  1.49s/it]\u001b[A\n",
      "Epoch 1:  88%|████████▊ | 63/72 [01:32<00:13,  1.48s/it]\u001b[A\n",
      "Epoch 1:  89%|████████▉ | 64/72 [01:34<00:11,  1.48s/it]\u001b[A\n",
      "Epoch 1:  90%|█████████ | 65/72 [01:35<00:10,  1.48s/it]\u001b[A\n",
      "Epoch 1:  92%|█████████▏| 66/72 [01:37<00:08,  1.49s/it]\u001b[A\n",
      "Epoch 1:  93%|█████████▎| 67/72 [01:38<00:07,  1.46s/it]\u001b[A\n",
      "Epoch 1:  94%|█████████▍| 68/72 [01:40<00:05,  1.47s/it]\u001b[A\n",
      "Epoch 1:  96%|█████████▌| 69/72 [01:41<00:04,  1.47s/it]\u001b[A\n",
      "Epoch 1:  97%|█████████▋| 70/72 [01:42<00:02,  1.45s/it]\u001b[A\n",
      "Epoch 1:  99%|█████████▊| 71/72 [01:43<00:01,  1.16s/it]\u001b[A\n",
      "Epoch 1: 100%|██████████| 72/72 [01:44<00:00,  1.45s/it]\u001b[A\n"
     ]
    },
    {
     "name": "stdout",
     "output_type": "stream",
     "text": [
      "[001|00/05] ---> 0.05924167484045029\n"
     ]
    },
    {
     "name": "stderr",
     "output_type": "stream",
     "text": [
      "\n",
      "Epoch 2:   0%|          | 0/72 [00:00<?, ?it/s]\u001b[A\n",
      "Epoch 2:   1%|▏         | 1/72 [00:00<00:57,  1.24it/s]\u001b[A\n",
      "Epoch 2:   3%|▎         | 2/72 [00:01<01:04,  1.08it/s]\u001b[A\n",
      "Epoch 2:   4%|▍         | 3/72 [00:03<01:08,  1.01it/s]\u001b[A\n",
      "Epoch 2:   6%|▌         | 4/72 [00:04<01:11,  1.05s/it]\u001b[A\n",
      "Epoch 2:   7%|▋         | 5/72 [00:05<01:11,  1.07s/it]\u001b[A\n",
      "Epoch 2:   8%|▊         | 6/72 [00:06<01:12,  1.10s/it]\u001b[A\n",
      "Epoch 2:  10%|▉         | 7/72 [00:07<01:12,  1.12s/it]\u001b[A\n",
      "Epoch 2:  11%|█         | 8/72 [00:08<01:12,  1.13s/it]\u001b[A\n",
      "Epoch 2:  12%|█▎        | 9/72 [00:10<01:11,  1.13s/it]\u001b[A\n",
      "Epoch 2:  14%|█▍        | 10/72 [00:11<01:10,  1.14s/it]\u001b[A\n",
      "Epoch 2:  15%|█▌        | 11/72 [00:12<01:09,  1.14s/it]\u001b[A\n",
      "Epoch 2:  17%|█▋        | 12/72 [00:13<01:09,  1.15s/it]\u001b[A\n",
      "Epoch 2:  18%|█▊        | 13/72 [00:14<01:08,  1.16s/it]\u001b[A\n",
      "Epoch 2:  19%|█▉        | 14/72 [00:15<01:06,  1.14s/it]\u001b[A\n",
      "Epoch 2:  21%|██        | 15/72 [00:16<01:05,  1.15s/it]\u001b[A\n",
      "Epoch 2:  22%|██▏       | 16/72 [00:18<01:04,  1.16s/it]\u001b[A\n",
      "Epoch 2:  24%|██▎       | 17/72 [00:19<01:03,  1.16s/it]\u001b[A\n",
      "Epoch 2:  25%|██▌       | 18/72 [00:20<01:02,  1.15s/it]\u001b[A\n",
      "Epoch 2:  26%|██▋       | 19/72 [00:21<01:01,  1.15s/it]\u001b[A\n",
      "Epoch 2:  28%|██▊       | 20/72 [00:22<01:00,  1.16s/it]\u001b[A\n",
      "Epoch 2:  29%|██▉       | 21/72 [00:23<00:59,  1.16s/it]\u001b[A\n",
      "Epoch 2:  31%|███       | 22/72 [00:25<00:58,  1.16s/it]\u001b[A\n",
      "Epoch 2:  32%|███▏      | 23/72 [00:26<00:56,  1.14s/it]\u001b[A\n",
      "Epoch 2:  33%|███▎      | 24/72 [00:27<00:55,  1.15s/it]\u001b[A\n",
      "Epoch 2:  35%|███▍      | 25/72 [00:28<00:54,  1.15s/it]\u001b[A\n",
      "Epoch 2:  36%|███▌      | 26/72 [00:29<00:53,  1.16s/it]\u001b[A\n",
      "Epoch 2:  38%|███▊      | 27/72 [00:30<00:51,  1.14s/it]\u001b[A\n",
      "Epoch 2:  39%|███▉      | 28/72 [00:32<00:50,  1.15s/it]\u001b[A\n",
      "Epoch 2:  40%|████      | 29/72 [00:33<00:49,  1.15s/it]\u001b[A\n",
      "Epoch 2:  42%|████▏     | 30/72 [00:34<00:48,  1.16s/it]\u001b[A\n",
      "Epoch 2:  43%|████▎     | 31/72 [00:35<00:47,  1.16s/it]\u001b[A"
     ]
    }
   ],
   "source": [
    "TrainedModel().populate(display_progress=True)"
   ]
  },
  {
   "cell_type": "code",
   "execution_count": null,
   "metadata": {},
   "outputs": [],
   "source": [
    "dataloaders, model = TrainedModel().load_model()"
   ]
  },
  {
   "cell_type": "code",
   "execution_count": null,
   "metadata": {},
   "outputs": [],
   "source": []
  }
 ],
 "metadata": {
  "kernelspec": {
   "display_name": "Python 3",
   "language": "python",
   "name": "python3"
  },
  "language_info": {
   "codemirror_mode": {
    "name": "ipython",
    "version": 3
   },
   "file_extension": ".py",
   "mimetype": "text/x-python",
   "name": "python",
   "nbconvert_exporter": "python",
   "pygments_lexer": "ipython3",
   "version": "3.8.0"
  }
 },
 "nbformat": 4,
 "nbformat_minor": 4
}
