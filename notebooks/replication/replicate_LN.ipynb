{
 "cells": [
  {
   "cell_type": "markdown",
   "metadata": {},
   "source": [
    "### Imports"
   ]
  },
  {
   "cell_type": "code",
   "execution_count": 1,
   "metadata": {},
   "outputs": [],
   "source": [
    "import os\n",
    "import torch\n",
    "import numpy as np\n",
    "import pandas as pd\n",
    "\n",
    "import matplotlib.pyplot as plt\n",
    "import seaborn as sns\n",
    "\n",
    "import warnings\n",
    "warnings.filterwarnings('ignore')\n",
    "\n",
    "from nnfabrik.builder import get_data, get_model, get_trainer"
   ]
  },
  {
   "cell_type": "markdown",
   "metadata": {},
   "source": [
    "### Instantiate DataLoader"
   ]
  },
  {
   "cell_type": "code",
   "execution_count": 2,
   "metadata": {},
   "outputs": [],
   "source": [
    "dataset_fn = 'sensorium.datasets.static_loaders'\n",
    "\n",
    "dataset_name = '26872-17-20'\n",
    "\n",
    "filenames = ['./data/static26872-17-20-GrayImageNet-94c6ff995dac583098847cfecd43e7b6_original.zip',]\n",
    "dataset_config = {'paths': filenames,\n",
    "                 'normalize': True,\n",
    "                 'include_behavior': False,\n",
    "                 'include_eye_position': False,\n",
    "                 'batch_size': 128,\n",
    "                 'scale':.25,\n",
    "                 }\n",
    "dataloaders_original = get_data(dataset_fn, dataset_config)\n",
    "\n",
    "filenames = ['./data/static26872-17-20-GrayImageNet-94c6ff995dac583098847cfecd43e7b6_hashed.zip',]\n",
    "dataset_config = {'paths': filenames,\n",
    "                 'normalize': True,\n",
    "                 'include_behavior': False,\n",
    "                 'include_eye_position': False,\n",
    "                 'batch_size': 128,\n",
    "                 'scale':.25,\n",
    "                 }\n",
    "\n",
    "dataloaders_hashed = get_data(dataset_fn, dataset_config)"
   ]
  },
  {
   "cell_type": "code",
   "execution_count": 3,
   "metadata": {},
   "outputs": [
    {
     "data": {
      "text/plain": [
       "OrderedDict([('train',\n",
       "              OrderedDict([('26872-17-20',\n",
       "                            <torch.utils.data.dataloader.DataLoader at 0x7f439fcd2070>)])),\n",
       "             ('validation',\n",
       "              OrderedDict([('26872-17-20',\n",
       "                            <torch.utils.data.dataloader.DataLoader at 0x7f439fcd2d30>)])),\n",
       "             ('test',\n",
       "              OrderedDict([('26872-17-20',\n",
       "                            <torch.utils.data.dataloader.DataLoader at 0x7f439fcd2ca0>)])),\n",
       "             ('final_test',\n",
       "              OrderedDict([('26872-17-20',\n",
       "                            <torch.utils.data.dataloader.DataLoader at 0x7f439fcd2cd0>)]))])"
      ]
     },
     "execution_count": 3,
     "metadata": {},
     "output_type": "execute_result"
    }
   ],
   "source": [
    "dataloaders_original"
   ]
  },
  {
   "cell_type": "code",
   "execution_count": 4,
   "metadata": {},
   "outputs": [
    {
     "data": {
      "text/plain": [
       "OrderedDict([('train',\n",
       "              OrderedDict([('26872-17-20',\n",
       "                            <torch.utils.data.dataloader.DataLoader at 0x7f439fcd2910>)])),\n",
       "             ('validation',\n",
       "              OrderedDict([('26872-17-20',\n",
       "                            <torch.utils.data.dataloader.DataLoader at 0x7f439fcda3d0>)])),\n",
       "             ('test',\n",
       "              OrderedDict([('26872-17-20',\n",
       "                            <torch.utils.data.dataloader.DataLoader at 0x7f439fcda310>)])),\n",
       "             ('final_test',\n",
       "              OrderedDict([('26872-17-20',\n",
       "                            <torch.utils.data.dataloader.DataLoader at 0x7f439fcda670>)]))])"
      ]
     },
     "execution_count": 4,
     "metadata": {},
     "output_type": "execute_result"
    }
   ],
   "source": [
    "dataloaders_hashed"
   ]
  },
  {
   "cell_type": "code",
   "execution_count": 5,
   "metadata": {},
   "outputs": [
    {
     "data": {
      "text/plain": [
       "array(['2dffbc474aa176b6dc957938c15d0c8b',\n",
       "       '31c23973a376c90940f5f5ff2118b5d2',\n",
       "       'd02e9bdc27a894e882fa0c9055c99722', ...,\n",
       "       'f33ba15effa5c10e873bf3842afb46a6',\n",
       "       '7f24d240521d99071c93af3917215ef7',\n",
       "       '3ce3bd7d63a2c9c81983cc8e9bd02ae5'], dtype='<U32')"
      ]
     },
     "execution_count": 5,
     "metadata": {},
     "output_type": "execute_result"
    }
   ],
   "source": [
    "dataloaders_hashed[\"final_test\"][dataset_name].dataset.trial_info.trial_idx"
   ]
  },
  {
   "cell_type": "code",
   "execution_count": 6,
   "metadata": {},
   "outputs": [
    {
     "data": {
      "text/plain": [
       "array([1449, 6999, 5563, ..., 1012,  551, 4400])"
      ]
     },
     "execution_count": 6,
     "metadata": {},
     "output_type": "execute_result"
    }
   ],
   "source": [
    "dataloaders_original[\"final_test\"][dataset_name].dataset.trial_info.trial_idx"
   ]
  },
  {
   "cell_type": "markdown",
   "metadata": {},
   "source": [
    "## Instantiate State of the Art Model (SOTA)"
   ]
  },
  {
   "cell_type": "code",
   "execution_count": 16,
   "metadata": {},
   "outputs": [],
   "source": [
    "# this will remove all nonlinearities from the CNN, and creates essentially a ln model: linear core + readout, with a subsequent non-linearity\n",
    "\n",
    "model_fn = 'sensorium.models.stacked_core_full_gauss_readout'\n",
    "model_config = {'pad_input': False,\n",
    "              'stack': -1,\n",
    "              'layers': 3,\n",
    "              'input_kern': 9,\n",
    "              'gamma_input': 6.3831,\n",
    "              'gamma_readout': 0.0076,\n",
    "              'hidden_dilation': 1,\n",
    "              'hidden_kern': 7,\n",
    "              'hidden_channels': 64,\n",
    "              'grid_mean_predictor': {'type': 'cortex',\n",
    "              'input_dimensions': 2,\n",
    "              'hidden_layers': 1,\n",
    "              'hidden_features': 30,\n",
    "              'final_tanh': True},\n",
    "              'depth_separable': True,\n",
    "              'init_sigma': 0.1,\n",
    "              'init_mu_range': 0.3,\n",
    "              'gauss_type': 'full',\n",
    "              'linear': True\n",
    "               }\n",
    "model = get_model(model_fn=model_fn,\n",
    "                  model_config=model_config,\n",
    "                  dataloaders=dataloaders_hashed,\n",
    "                  seed=42,)"
   ]
  },
  {
   "cell_type": "code",
   "execution_count": 21,
   "metadata": {},
   "outputs": [],
   "source": [
    "model.load_state_dict(torch.load(\"./checkpoints/sensorium_ln_model.pth\"));\n",
    "model.eval();"
   ]
  },
  {
   "cell_type": "markdown",
   "metadata": {},
   "source": [
    "---"
   ]
  },
  {
   "cell_type": "markdown",
   "metadata": {},
   "source": [
    "# A) Does hash mess up the scores?"
   ]
  },
  {
   "cell_type": "markdown",
   "metadata": {},
   "source": [
    "## Generate submission file and get the score"
   ]
  },
  {
   "cell_type": "code",
   "execution_count": 22,
   "metadata": {},
   "outputs": [],
   "source": [
    "from sensorium import evaluate\n",
    "# import the API from the competition repo\n",
    "from sensorium.utility import submission"
   ]
  },
  {
   "cell_type": "markdown",
   "metadata": {},
   "source": [
    "### 1. original file"
   ]
  },
  {
   "cell_type": "code",
   "execution_count": 23,
   "metadata": {},
   "outputs": [],
   "source": [
    "ground_truth_filename = ['./data/static26872-17-20-GrayImageNet-94c6ff995dac583098847cfecd43e7b6_original']\n",
    "ground_truth_file = './sensorium_sota/'\n",
    "submission.generate_ground_truth_file(filename=ground_truth_filename,\n",
    "                                      path=ground_truth_file)"
   ]
  },
  {
   "cell_type": "code",
   "execution_count": 24,
   "metadata": {},
   "outputs": [
    {
     "name": "stdout",
     "output_type": "stream",
     "text": [
      "Submission file saved for tier: test. Saved in: ./sensorium_sota/submission_file_test.csv\n",
      "Submission file saved for tier: final_test. Saved in: ./sensorium_sota/submission_file_final_test.csv\n"
     ]
    }
   ],
   "source": [
    "# generate the submission file\n",
    "submission.generate_submission_file(trained_model=model, \n",
    "                                    dataloaders=dataloaders_original,\n",
    "                                    data_key=dataset_name,\n",
    "                                    path=\"./sensorium_sota/\",\n",
    "                                    device=\"cuda\")"
   ]
  },
  {
   "cell_type": "code",
   "execution_count": 25,
   "metadata": {},
   "outputs": [],
   "source": [
    "ground_truth_file = './sensorium_sota/ground_truth_file_final_test.csv'\n",
    "submission_file = './sensorium_sota/submission_file_final_test.csv'"
   ]
  },
  {
   "cell_type": "code",
   "execution_count": 26,
   "metadata": {},
   "outputs": [],
   "source": [
    "import pandas as pd\n",
    "df_original = pd.read_csv(submission_file)"
   ]
  },
  {
   "cell_type": "code",
   "execution_count": 27,
   "metadata": {},
   "outputs": [],
   "source": [
    "out = evaluate(submission_file, ground_truth_file)"
   ]
  },
  {
   "cell_type": "code",
   "execution_count": 28,
   "metadata": {},
   "outputs": [
    {
     "name": "stdout",
     "output_type": "stream",
     "text": [
      "Results for the SOTA model:\n",
      "Single Trial Correlation: 0.207\n",
      "Average Correlation: 0.377\n",
      "FEVE: 0.125\n"
     ]
    }
   ],
   "source": [
    "print(\"Results for the SOTA model:\")\n",
    "for metric, value in out.items():\n",
    "    print(f\"{metric}: {np.round(value, 3)}\")"
   ]
  },
  {
   "cell_type": "markdown",
   "metadata": {},
   "source": [
    "### 2. Hashed file"
   ]
  },
  {
   "cell_type": "code",
   "execution_count": 29,
   "metadata": {},
   "outputs": [],
   "source": [
    "ground_truth_filename = ['./data/static26872-17-20-GrayImageNet-94c6ff995dac583098847cfecd43e7b6_hashed']\n",
    "ground_truth_file = './sensorium_sota/'\n",
    "submission.generate_ground_truth_file(filename=ground_truth_filename,\n",
    "                                      path=ground_truth_file)"
   ]
  },
  {
   "cell_type": "code",
   "execution_count": 30,
   "metadata": {},
   "outputs": [
    {
     "name": "stdout",
     "output_type": "stream",
     "text": [
      "Submission file saved for tier: test. Saved in: ./sensorium_sota/submission_file_test.csv\n",
      "Submission file saved for tier: final_test. Saved in: ./sensorium_sota/submission_file_final_test.csv\n"
     ]
    }
   ],
   "source": [
    "submission.generate_submission_file(trained_model=model, \n",
    "                                    dataloaders=dataloaders_hashed,\n",
    "                                    data_key=dataset_name,\n",
    "                                    path=\"./sensorium_sota/\",\n",
    "                                    device=\"cuda\")"
   ]
  },
  {
   "cell_type": "markdown",
   "metadata": {},
   "source": [
    "#### a) with the generated GT file"
   ]
  },
  {
   "cell_type": "code",
   "execution_count": 31,
   "metadata": {},
   "outputs": [],
   "source": [
    "ground_truth_file = './sensorium_sota/ground_truth_file_final_test.csv'\n",
    "submission_file = './sensorium_sota/submission_file_final_test.csv'"
   ]
  },
  {
   "cell_type": "code",
   "execution_count": 32,
   "metadata": {},
   "outputs": [],
   "source": [
    "import pandas as pd\n",
    "df_hashed = pd.read_csv(submission_file)"
   ]
  },
  {
   "cell_type": "code",
   "execution_count": 33,
   "metadata": {},
   "outputs": [],
   "source": [
    "out = evaluate(submission_file, ground_truth_file)"
   ]
  },
  {
   "cell_type": "code",
   "execution_count": 34,
   "metadata": {},
   "outputs": [
    {
     "name": "stdout",
     "output_type": "stream",
     "text": [
      "Results for the SOTA model:\n",
      "Single Trial Correlation: 0.207\n",
      "Average Correlation: 0.377\n",
      "FEVE: 0.125\n"
     ]
    }
   ],
   "source": [
    "print(\"Results for the SOTA model:\")\n",
    "for metric, value in out.items():\n",
    "    print(f\"{metric}: {np.round(value, 3)}\")"
   ]
  },
  {
   "cell_type": "markdown",
   "metadata": {},
   "source": [
    "#### a) with Konsti's GT file"
   ]
  },
  {
   "cell_type": "code",
   "execution_count": 35,
   "metadata": {},
   "outputs": [],
   "source": [
    "ground_truth_file = \"./sensorium_sota/sensorium_ground_truth_file_final_test.csv\"\n",
    "submission_file = './sensorium_sota/submission_file_final_test.csv'"
   ]
  },
  {
   "cell_type": "code",
   "execution_count": 36,
   "metadata": {},
   "outputs": [],
   "source": [
    "import pandas as pd\n",
    "df_hashed = pd.read_csv(submission_file)"
   ]
  },
  {
   "cell_type": "code",
   "execution_count": 37,
   "metadata": {},
   "outputs": [],
   "source": [
    "out = evaluate(submission_file, ground_truth_file)"
   ]
  },
  {
   "cell_type": "code",
   "execution_count": 38,
   "metadata": {},
   "outputs": [
    {
     "name": "stdout",
     "output_type": "stream",
     "text": [
      "Results for the SOTA model:\n",
      "Single Trial Correlation: 0.207\n",
      "Average Correlation: 0.377\n",
      "FEVE: 0.125\n"
     ]
    }
   ],
   "source": [
    "print(\"Results for the SOTA model:\")\n",
    "for metric, value in out.items():\n",
    "    print(f\"{metric}: {np.round(value, 3)}\")"
   ]
  },
  {
   "cell_type": "markdown",
   "metadata": {},
   "source": [
    "---"
   ]
  },
  {
   "cell_type": "markdown",
   "metadata": {},
   "source": [
    "# B) Are the metrics consistent when computed with CSV files vs using the scoring functions?"
   ]
  },
  {
   "cell_type": "code",
   "execution_count": 39,
   "metadata": {},
   "outputs": [],
   "source": [
    "from sensorium.utility import get_correlations, get_signal_correlations, get_fev"
   ]
  },
  {
   "cell_type": "code",
   "execution_count": 40,
   "metadata": {
    "pycharm": {
     "name": "#%%\n"
    }
   },
   "outputs": [],
   "source": [
    "correlations = get_correlations(model, dataloaders_original[\"final_test\"], device=\"cuda\")\n",
    "signal_correlations = get_signal_correlations(model, dataloaders_original, device=\"cuda\", tier=\"final_test\")\n",
    "fevs = get_fev(model, dataloaders_original, device=\"cuda\", tier=\"final_test\")"
   ]
  },
  {
   "cell_type": "code",
   "execution_count": 41,
   "metadata": {
    "pycharm": {
     "name": "#%%\n"
    }
   },
   "outputs": [],
   "source": [
    "metrics = {\"Correlation (single trial)\": correlations.mean(), \n",
    "           \"Correlation (mean)\": signal_correlations.mean(), \n",
    "           \"FEVE\": fevs.mean()}"
   ]
  },
  {
   "cell_type": "code",
   "execution_count": 42,
   "metadata": {
    "pycharm": {
     "name": "#%%\n"
    }
   },
   "outputs": [
    {
     "name": "stdout",
     "output_type": "stream",
     "text": [
      "Results for the model:\n",
      "Correlation (single trial): 0.207\n",
      "Correlation (mean): 0.377\n",
      "FEVE: 0.124\n"
     ]
    }
   ],
   "source": [
    "print(\"Results for the model:\")\n",
    "for metric, value in metrics.items():\n",
    "    print(f\"{metric}: {value:.3f}\")"
   ]
  },
  {
   "cell_type": "code",
   "execution_count": null,
   "metadata": {},
   "outputs": [],
   "source": []
  }
 ],
 "metadata": {
  "kernelspec": {
   "display_name": "Python 3",
   "language": "python",
   "name": "python3"
  },
  "language_info": {
   "codemirror_mode": {
    "name": "ipython",
    "version": 3
   },
   "file_extension": ".py",
   "mimetype": "text/x-python",
   "name": "python",
   "nbconvert_exporter": "python",
   "pygments_lexer": "ipython3",
   "version": "3.8.0"
  }
 },
 "nbformat": 4,
 "nbformat_minor": 4
}
