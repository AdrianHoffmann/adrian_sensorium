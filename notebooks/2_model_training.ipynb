{
 "cells": [
  {
   "cell_type": "markdown",
   "metadata": {},
   "source": [
    "# How to train the Baseline Models"
   ]
  },
  {
   "cell_type": "markdown",
   "metadata": {},
   "source": [
    "### This notebook will show how to\n",
    "- instantiate dataloader for the demo data\n",
    "- instantiate pytorch model\n",
    "- instantiate a trainer function\n",
    "- train two baselines on the demo data\n",
    "- save the model weights (the model weights can already be found in '/notebooks/precomputed_checkpoints/')"
   ]
  },
  {
   "cell_type": "markdown",
   "metadata": {},
   "source": [
    "### Imports"
   ]
  },
  {
   "cell_type": "code",
   "execution_count": 2,
   "metadata": {},
   "outputs": [],
   "source": [
    "import torch\n",
    "import numpy as np\n",
    "import pandas as pd\n",
    "\n",
    "import matplotlib.pyplot as plt\n",
    "import seaborn as sns\n",
    "\n",
    "from nnfabrik.builder import get_data, get_model, get_trainer"
   ]
  },
  {
   "cell_type": "markdown",
   "metadata": {},
   "source": [
    "### Instantiate DataLoader"
   ]
  },
  {
   "cell_type": "code",
   "execution_count": 3,
   "metadata": {},
   "outputs": [
    {
     "name": "stdout",
     "output_type": "stream",
     "text": [
      "dataport not available, will only be able to load data locally\n"
     ]
    }
   ],
   "source": [
    "filenames = ['./data/lurz2020/static20457-5-9-preproc0', ]\n",
    "\n",
    "dataset_fn = 'sensorium.datasets.static_loaders'\n",
    "dataset_config = {'paths': filenames,\n",
    "                 'normalize': True,\n",
    "                 'include_behavior': False,\n",
    "                 'include_eye_position': True,\n",
    "                 'batch_size': 128,\n",
    "                 'exclude': None,\n",
    "                 'file_tree': True,\n",
    "                 'scale': 1,\n",
    "                 }\n",
    "\n",
    "dataloaders = get_data(dataset_fn, dataset_config)"
   ]
  },
  {
   "cell_type": "markdown",
   "metadata": {},
   "source": [
    "# Instantiate State of the Art Model (SOTA)"
   ]
  },
  {
   "cell_type": "code",
   "execution_count": 4,
   "metadata": {},
   "outputs": [
    {
     "name": "stderr",
     "output_type": "stream",
     "text": [
      "/src/neuralpredictors/neuralpredictors/layers/readouts/base.py:72: UserWarning: Use of 'gamma_readout' is deprecated. Please consider using the readout's feature-regularization parameter instead\n",
      "  warnings.warn(\n",
      "/src/neuralpredictors/neuralpredictors/layers/readouts/base.py:88: UserWarning: Readout is NOT initialized with mean activity but with 0!\n",
      "  warnings.warn(\"Readout is NOT initialized with mean activity but with 0!\")\n"
     ]
    }
   ],
   "source": [
    "model_fn = 'sensorium.models.stacked_core_full_gauss_readout'\n",
    "model_config = {'pad_input': False,\n",
    "              'stack': -1,\n",
    "              'layers': 4,\n",
    "              'input_kern': 9,\n",
    "              'gamma_input': 6.3831,\n",
    "              'gamma_readout': 0.0076,\n",
    "              'hidden_dilation': 1,\n",
    "              'hidden_kern': 7,\n",
    "              'hidden_channels': 64,\n",
    "              'depth_separable': True,\n",
    "              'init_sigma': 0.1,\n",
    "              'init_mu_range': 0.3,\n",
    "              'gauss_type': 'full',\n",
    "               }\n",
    "\n",
    "model = get_model(model_fn=model_fn,\n",
    "                  model_config=model_config,\n",
    "                  dataloaders=dataloaders,\n",
    "                  seed=42,)"
   ]
  },
  {
   "cell_type": "markdown",
   "metadata": {},
   "source": [
    "## Configure Trainer"
   ]
  },
  {
   "cell_type": "code",
   "execution_count": 5,
   "metadata": {},
   "outputs": [],
   "source": [
    "trainer_fn = \"sensorium.training.standard_trainer\"\n",
    "\n",
    "trainer_config = {'max_iter': 100,\n",
    "                 'verbose': False,\n",
    "                 'lr_decay_steps': 4,\n",
    "                 'avg_loss': False,\n",
    "                 'lr_init': 0.009,\n",
    "                 }\n",
    "\n",
    "trainer = get_trainer(trainer_fn=trainer_fn, \n",
    "                     trainer_config=trainer_config)"
   ]
  },
  {
   "cell_type": "markdown",
   "metadata": {},
   "source": [
    "# Run model training"
   ]
  },
  {
   "cell_type": "code",
   "execution_count": 6,
   "metadata": {},
   "outputs": [
    {
     "name": "stderr",
     "output_type": "stream",
     "text": [
      "Epoch 1: 100%|██████████| 35/35 [00:16<00:00,  2.16it/s]\n",
      "Epoch 2: 100%|██████████| 35/35 [00:08<00:00,  4.02it/s]\n",
      "Epoch 3: 100%|██████████| 35/35 [00:08<00:00,  4.08it/s]\n",
      "Epoch 4: 100%|██████████| 35/35 [00:08<00:00,  4.07it/s]\n",
      "Epoch 5: 100%|██████████| 35/35 [00:08<00:00,  4.13it/s]\n",
      "Epoch 6: 100%|██████████| 35/35 [00:08<00:00,  4.07it/s]\n",
      "Epoch 7: 100%|██████████| 35/35 [00:08<00:00,  4.13it/s]\n",
      "Epoch 8: 100%|██████████| 35/35 [00:08<00:00,  4.11it/s]\n",
      "Epoch 9: 100%|██████████| 35/35 [00:08<00:00,  4.12it/s]\n",
      "Epoch 10: 100%|██████████| 35/35 [00:08<00:00,  4.04it/s]\n",
      "Epoch 11: 100%|██████████| 35/35 [00:08<00:00,  4.04it/s]\n",
      "Epoch 12: 100%|██████████| 35/35 [00:08<00:00,  4.11it/s]\n",
      "Epoch 13: 100%|██████████| 35/35 [00:08<00:00,  4.10it/s]\n",
      "Epoch 14: 100%|██████████| 35/35 [00:08<00:00,  4.16it/s]\n",
      "Epoch 15: 100%|██████████| 35/35 [00:08<00:00,  4.12it/s]\n",
      "Epoch 16: 100%|██████████| 35/35 [00:08<00:00,  4.13it/s]\n",
      "Epoch 17: 100%|██████████| 35/35 [00:08<00:00,  4.12it/s]\n",
      "Epoch 18: 100%|██████████| 35/35 [00:08<00:00,  4.12it/s]\n",
      "Epoch 19: 100%|██████████| 35/35 [00:08<00:00,  4.11it/s]\n",
      "Epoch 20: 100%|██████████| 35/35 [00:08<00:00,  4.12it/s]\n",
      "Epoch 21: 100%|██████████| 35/35 [00:08<00:00,  4.08it/s]\n",
      "Epoch 22: 100%|██████████| 35/35 [00:08<00:00,  4.07it/s]\n",
      "Epoch 23: 100%|██████████| 35/35 [00:08<00:00,  4.12it/s]\n",
      "Epoch 24: 100%|██████████| 35/35 [00:08<00:00,  4.12it/s]\n",
      "Epoch 25: 100%|██████████| 35/35 [00:08<00:00,  4.11it/s]\n",
      "Epoch 26: 100%|██████████| 35/35 [00:08<00:00,  4.07it/s]\n",
      "Epoch 27: 100%|██████████| 35/35 [00:08<00:00,  4.09it/s]\n",
      "Epoch 28: 100%|██████████| 35/35 [00:08<00:00,  4.15it/s]\n",
      "Epoch 29: 100%|██████████| 35/35 [00:08<00:00,  4.12it/s]\n",
      "Epoch 30: 100%|██████████| 35/35 [00:08<00:00,  4.16it/s]\n",
      "Epoch 31: 100%|██████████| 35/35 [00:06<00:00,  5.04it/s]\n",
      "Epoch 32: 100%|██████████| 35/35 [00:06<00:00,  5.51it/s]\n",
      "Epoch 33: 100%|██████████| 35/35 [00:06<00:00,  5.42it/s]\n",
      "Epoch 34: 100%|██████████| 35/35 [00:06<00:00,  5.54it/s]\n",
      "Epoch 35: 100%|██████████| 35/35 [00:07<00:00,  4.52it/s]\n",
      "Epoch 36: 100%|██████████| 35/35 [00:08<00:00,  4.11it/s]\n",
      "Epoch 37: 100%|██████████| 35/35 [00:08<00:00,  4.12it/s]\n",
      "Epoch 38: 100%|██████████| 35/35 [00:08<00:00,  4.13it/s]\n",
      "Epoch 39: 100%|██████████| 35/35 [00:08<00:00,  4.17it/s]\n",
      "Epoch 40: 100%|██████████| 35/35 [00:08<00:00,  4.12it/s]\n",
      "Epoch 41: 100%|██████████| 35/35 [00:08<00:00,  4.13it/s]\n",
      "Epoch 42: 100%|██████████| 35/35 [00:08<00:00,  4.16it/s]\n",
      "Epoch 43: 100%|██████████| 35/35 [00:08<00:00,  4.13it/s]\n",
      "Epoch 44: 100%|██████████| 35/35 [00:08<00:00,  4.15it/s]\n",
      "Epoch 45: 100%|██████████| 35/35 [00:08<00:00,  4.14it/s]\n",
      "Epoch 46: 100%|██████████| 35/35 [00:08<00:00,  4.16it/s]\n",
      "Epoch 47: 100%|██████████| 35/35 [00:08<00:00,  4.13it/s]\n",
      "Epoch 48: 100%|██████████| 35/35 [00:08<00:00,  4.15it/s]\n",
      "Epoch 49: 100%|██████████| 35/35 [00:08<00:00,  4.15it/s]\n",
      "Epoch 50: 100%|██████████| 35/35 [00:08<00:00,  4.17it/s]\n",
      "Epoch 51: 100%|██████████| 35/35 [00:08<00:00,  4.19it/s]\n",
      "Epoch 52: 100%|██████████| 35/35 [00:08<00:00,  4.14it/s]\n",
      "Epoch 53: 100%|██████████| 35/35 [00:08<00:00,  4.14it/s]\n",
      "Epoch 54: 100%|██████████| 35/35 [00:08<00:00,  4.14it/s]\n",
      "Epoch 55: 100%|██████████| 35/35 [00:08<00:00,  4.12it/s]\n",
      "Epoch 56: 100%|██████████| 35/35 [00:08<00:00,  4.10it/s]\n",
      "Epoch 57: 100%|██████████| 35/35 [00:08<00:00,  4.10it/s]\n",
      "Epoch 58: 100%|██████████| 35/35 [00:08<00:00,  4.10it/s]\n",
      "Epoch 59: 100%|██████████| 35/35 [00:08<00:00,  4.12it/s]\n",
      "Epoch 60: 100%|██████████| 35/35 [00:08<00:00,  4.13it/s]\n",
      "Epoch 61: 100%|██████████| 35/35 [00:08<00:00,  4.12it/s]\n",
      "Epoch 62: 100%|██████████| 35/35 [00:08<00:00,  4.12it/s]\n",
      "Epoch 63: 100%|██████████| 35/35 [00:08<00:00,  4.11it/s]\n",
      "Epoch 64: 100%|██████████| 35/35 [00:08<00:00,  4.16it/s]\n",
      "Epoch 65: 100%|██████████| 35/35 [00:08<00:00,  4.15it/s]\n",
      "Epoch 66: 100%|██████████| 35/35 [00:08<00:00,  4.14it/s]\n",
      "Epoch 67: 100%|██████████| 35/35 [00:08<00:00,  4.11it/s]\n",
      "Epoch 68: 100%|██████████| 35/35 [00:06<00:00,  5.34it/s]\n",
      "Epoch 69: 100%|██████████| 35/35 [00:06<00:00,  5.48it/s]\n",
      "Epoch 70: 100%|██████████| 35/35 [00:06<00:00,  5.49it/s]\n",
      "Epoch 71: 100%|██████████| 35/35 [00:06<00:00,  5.69it/s]\n"
     ]
    }
   ],
   "source": [
    "validation_score, trainer_output, state_dict = trainer(model, dataloaders, seed=42)"
   ]
  },
  {
   "cell_type": "markdown",
   "metadata": {},
   "source": [
    "## Save model checkpoints"
   ]
  },
  {
   "cell_type": "code",
   "execution_count": 7,
   "metadata": {},
   "outputs": [],
   "source": [
    "torch.save(model.state_dict(), './checkpoints/sota_model.pth')"
   ]
  },
  {
   "cell_type": "markdown",
   "metadata": {},
   "source": [
    "---"
   ]
  },
  {
   "cell_type": "markdown",
   "metadata": {},
   "source": [
    "# Train Simple LN model"
   ]
  },
  {
   "cell_type": "code",
   "execution_count": 8,
   "metadata": {},
   "outputs": [],
   "source": [
    "# this will remove all nonlinearities from the CNN, and computes a 3 layer LN-model\n",
    "\n",
    "model_fn = 'sensorium.models.stacked_core_full_gauss_readout'\n",
    "model_config = {'pad_input': False,\n",
    "              'stack': -1,\n",
    "              'layers': 3,\n",
    "              'input_kern': 9,\n",
    "              'gamma_input': 6.3831,\n",
    "              'gamma_readout': 0.0076,\n",
    "              'hidden_dilation': 1,\n",
    "              'hidden_kern': 7,\n",
    "              'hidden_channels': 64,\n",
    "              'depth_separable': True,\n",
    "              'init_sigma': 0.1,\n",
    "              'init_mu_range': 0.3,\n",
    "              'gauss_type': 'full',\n",
    "              'linear': True\n",
    "               }\n",
    "ln_model = get_model(model_fn=model_fn,\n",
    "                  model_config=model_config,\n",
    "                  dataloaders=dataloaders,\n",
    "                  seed=42,)"
   ]
  },
  {
   "cell_type": "code",
   "execution_count": 9,
   "metadata": {},
   "outputs": [
    {
     "name": "stderr",
     "output_type": "stream",
     "text": [
      "Epoch 1: 100%|██████████| 35/35 [00:07<00:00,  4.39it/s]\n",
      "Epoch 2: 100%|██████████| 35/35 [00:08<00:00,  4.33it/s]\n",
      "Epoch 3: 100%|██████████| 35/35 [00:08<00:00,  4.37it/s]\n",
      "Epoch 4: 100%|██████████| 35/35 [00:08<00:00,  4.33it/s]\n",
      "Epoch 5: 100%|██████████| 35/35 [00:08<00:00,  4.31it/s]\n",
      "Epoch 6: 100%|██████████| 35/35 [00:08<00:00,  4.34it/s]\n",
      "Epoch 7: 100%|██████████| 35/35 [00:08<00:00,  4.36it/s]\n",
      "Epoch 8: 100%|██████████| 35/35 [00:08<00:00,  4.34it/s]\n",
      "Epoch 9: 100%|██████████| 35/35 [00:08<00:00,  4.33it/s]\n",
      "Epoch 10: 100%|██████████| 35/35 [00:08<00:00,  4.37it/s]\n",
      "Epoch 11: 100%|██████████| 35/35 [00:08<00:00,  4.37it/s]\n",
      "Epoch 12: 100%|██████████| 35/35 [00:08<00:00,  4.36it/s]\n",
      "Epoch 13: 100%|██████████| 35/35 [00:07<00:00,  4.43it/s]\n",
      "Epoch 14: 100%|██████████| 35/35 [00:08<00:00,  4.31it/s]\n",
      "Epoch 15: 100%|██████████| 35/35 [00:07<00:00,  4.38it/s]\n",
      "Epoch 16: 100%|██████████| 35/35 [00:08<00:00,  4.37it/s]\n",
      "Epoch 17: 100%|██████████| 35/35 [00:08<00:00,  4.29it/s]\n",
      "Epoch 18: 100%|██████████| 35/35 [00:08<00:00,  4.34it/s]\n",
      "Epoch 19: 100%|██████████| 35/35 [00:07<00:00,  4.39it/s]\n",
      "Epoch 20: 100%|██████████| 35/35 [00:07<00:00,  4.42it/s]\n",
      "Epoch 21: 100%|██████████| 35/35 [00:08<00:00,  4.36it/s]\n",
      "Epoch 22: 100%|██████████| 35/35 [00:08<00:00,  4.37it/s]\n",
      "Epoch 23: 100%|██████████| 35/35 [00:07<00:00,  4.39it/s]\n",
      "Epoch 24: 100%|██████████| 35/35 [00:07<00:00,  4.40it/s]\n",
      "Epoch 25: 100%|██████████| 35/35 [00:08<00:00,  4.37it/s]\n",
      "Epoch 26: 100%|██████████| 35/35 [00:07<00:00,  4.38it/s]\n",
      "Epoch 27: 100%|██████████| 35/35 [00:07<00:00,  4.42it/s]\n",
      "Epoch 28: 100%|██████████| 35/35 [00:08<00:00,  4.37it/s]\n",
      "Epoch 29: 100%|██████████| 35/35 [00:07<00:00,  4.39it/s]\n",
      "Epoch 30: 100%|██████████| 35/35 [00:07<00:00,  4.38it/s]\n",
      "Epoch 31: 100%|██████████| 35/35 [00:08<00:00,  4.35it/s]\n",
      "Epoch 32: 100%|██████████| 35/35 [00:08<00:00,  4.34it/s]\n",
      "Epoch 33: 100%|██████████| 35/35 [00:07<00:00,  4.38it/s]\n",
      "Epoch 34: 100%|██████████| 35/35 [00:07<00:00,  4.40it/s]\n",
      "Epoch 35: 100%|██████████| 35/35 [00:06<00:00,  5.15it/s]\n",
      "Epoch 36: 100%|██████████| 35/35 [00:06<00:00,  5.79it/s]\n",
      "Epoch 37: 100%|██████████| 35/35 [00:06<00:00,  5.76it/s]\n",
      "Epoch 38: 100%|██████████| 35/35 [00:06<00:00,  5.78it/s]\n",
      "Epoch 39: 100%|██████████| 35/35 [00:06<00:00,  5.36it/s]\n",
      "Epoch 40: 100%|██████████| 35/35 [00:08<00:00,  4.36it/s]\n",
      "Epoch 41: 100%|██████████| 35/35 [00:08<00:00,  4.31it/s]\n",
      "Epoch 42: 100%|██████████| 35/35 [00:08<00:00,  4.27it/s]\n",
      "Epoch 43: 100%|██████████| 35/35 [00:08<00:00,  4.36it/s]\n",
      "Epoch 44: 100%|██████████| 35/35 [00:08<00:00,  4.35it/s]\n",
      "Epoch 45: 100%|██████████| 35/35 [00:08<00:00,  4.15it/s]\n",
      "Epoch 46: 100%|██████████| 35/35 [00:08<00:00,  4.36it/s]\n",
      "Epoch 47: 100%|██████████| 35/35 [00:08<00:00,  4.37it/s]\n",
      "Epoch 48: 100%|██████████| 35/35 [00:08<00:00,  4.22it/s]\n",
      "Epoch 49: 100%|██████████| 35/35 [00:08<00:00,  4.17it/s]\n",
      "Epoch 50: 100%|██████████| 35/35 [00:08<00:00,  4.28it/s]\n",
      "Epoch 51: 100%|██████████| 35/35 [00:08<00:00,  4.32it/s]\n",
      "Epoch 52: 100%|██████████| 35/35 [00:07<00:00,  4.38it/s]\n",
      "Epoch 53: 100%|██████████| 35/35 [00:08<00:00,  4.36it/s]\n",
      "Epoch 54: 100%|██████████| 35/35 [00:08<00:00,  4.37it/s]\n",
      "Epoch 55: 100%|██████████| 35/35 [00:07<00:00,  4.39it/s]\n",
      "Epoch 56: 100%|██████████| 35/35 [00:08<00:00,  4.21it/s]\n",
      "Epoch 57: 100%|██████████| 35/35 [00:07<00:00,  4.39it/s]\n",
      "Epoch 58: 100%|██████████| 35/35 [00:08<00:00,  4.36it/s]\n",
      "Epoch 59: 100%|██████████| 35/35 [00:07<00:00,  4.39it/s]\n",
      "Epoch 60: 100%|██████████| 35/35 [00:08<00:00,  4.35it/s]\n",
      "Epoch 61: 100%|██████████| 35/35 [00:08<00:00,  4.37it/s]\n",
      "Epoch 62: 100%|██████████| 35/35 [00:08<00:00,  4.36it/s]\n",
      "Epoch 63: 100%|██████████| 35/35 [00:08<00:00,  4.26it/s]\n",
      "Epoch 64: 100%|██████████| 35/35 [00:07<00:00,  4.39it/s]\n",
      "Epoch 65: 100%|██████████| 35/35 [00:08<00:00,  4.27it/s]\n",
      "Epoch 66: 100%|██████████| 35/35 [00:08<00:00,  4.37it/s]\n",
      "Epoch 67: 100%|██████████| 35/35 [00:08<00:00,  4.33it/s]\n",
      "Epoch 68: 100%|██████████| 35/35 [00:08<00:00,  4.35it/s]\n",
      "Epoch 69: 100%|██████████| 35/35 [00:08<00:00,  4.33it/s]\n",
      "Epoch 70: 100%|██████████| 35/35 [00:07<00:00,  4.38it/s]\n",
      "Epoch 71: 100%|██████████| 35/35 [00:07<00:00,  4.39it/s]\n"
     ]
    }
   ],
   "source": [
    "validation_score, trainer_output, state_dict = trainer(ln_model, dataloaders, seed=42)"
   ]
  },
  {
   "cell_type": "code",
   "execution_count": 10,
   "metadata": {},
   "outputs": [],
   "source": [
    "torch.save(ln_model.state_dict(), './checkpoints/ln_model.pth')"
   ]
  },
  {
   "cell_type": "markdown",
   "metadata": {},
   "source": [
    "---"
   ]
  }
 ],
 "metadata": {
  "kernelspec": {
   "display_name": "Python 3",
   "language": "python",
   "name": "python3"
  },
  "language_info": {
   "codemirror_mode": {
    "name": "ipython",
    "version": 3
   },
   "file_extension": ".py",
   "mimetype": "text/x-python",
   "name": "python",
   "nbconvert_exporter": "python",
   "pygments_lexer": "ipython3",
   "version": "3.8.0"
  }
 },
 "nbformat": 4,
 "nbformat_minor": 4
}
