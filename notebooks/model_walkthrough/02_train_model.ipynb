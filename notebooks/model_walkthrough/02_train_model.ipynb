{
 "cells": [
  {
   "cell_type": "markdown",
   "id": "d0a62a4f-c73f-4dbc-919a-0a971cda89e5",
   "metadata": {},
   "source": [
    "# Train models"
   ]
  },
  {
   "cell_type": "markdown",
   "id": "89a2d59b-af12-4c07-b14f-a89423668edd",
   "metadata": {},
   "source": [
    "To speed up training, the models were trained in parallel on the CSCS Piz Daint infrastructure by calling :\n",
    "\n",
    "cd adrian_sensorium/scripts\n",
    "\n",
    "bash start_jobs.sh jobs_ensemble.txt\n",
    "\n",
    "This script starts 5 machines to run the adrian_sensorium/scripts/train_model.py script with the 5 configuration files in the folder adrian_sensorium/saved_models/config_m4_ens*.yaml\n",
    "\n",
    "To reproduce this fitting, one can also execute the following code (not tested):"
   ]
  },
  {
   "cell_type": "code",
   "execution_count": null,
   "id": "07d8b76b-fdea-4860-a517-d573d17f6a57",
   "metadata": {},
   "outputs": [],
   "source": [
    "import os\n",
    "if 'notebooks' in os.getcwd(): os.chdir('../..')  # change to main directory\n",
    "print('Working directory:', os.getcwd() )"
   ]
  },
  {
   "cell_type": "code",
   "execution_count": null,
   "id": "ee3c2c87-a69a-443e-a6e2-017a435da51c",
   "metadata": {},
   "outputs": [],
   "source": [
    "!python scripts/train_model.py -m config_m4_ens0\n",
    "!python scripts/train_model.py -m config_m4_ens1\n",
    "!python scripts/train_model.py -m config_m4_ens2\n",
    "!python scripts/train_model.py -m config_m4_ens3\n",
    "!python scripts/train_model.py -m config_m4_ens4"
   ]
  },
  {
   "cell_type": "code",
   "execution_count": null,
   "id": "a41fe140-062a-4ae1-8989-d8b9fe5a19ae",
   "metadata": {},
   "outputs": [],
   "source": []
  },
  {
   "cell_type": "code",
   "execution_count": null,
   "id": "b556f0c2-6d89-454d-a7d3-bddfd2d796a9",
   "metadata": {},
   "outputs": [],
   "source": []
  },
  {
   "cell_type": "code",
   "execution_count": null,
   "id": "814ed51e-b97c-4c3b-84fa-3fe616ad2ae5",
   "metadata": {},
   "outputs": [],
   "source": []
  },
  {
   "cell_type": "markdown",
   "id": "6e0829bc-77d8-40b5-9cb9-b82b492296ba",
   "metadata": {},
   "source": [
    "## Train model in notebook\n",
    "Alternatively, the model can also be trained in a notebook with the following code"
   ]
  },
  {
   "cell_type": "markdown",
   "id": "55be4f1a-c068-4e6a-b987-35462989abf6",
   "metadata": {},
   "source": [
    "### Imports"
   ]
  },
  {
   "cell_type": "code",
   "execution_count": null,
   "id": "48c5dd93-cf41-422d-8e4f-e862412b781e",
   "metadata": {},
   "outputs": [],
   "source": [
    "import os\n",
    "if 'notebooks' in os.getcwd(): os.chdir('../..')  # change to main directory\n",
    "print('Working directory:', os.getcwd() )"
   ]
  },
  {
   "cell_type": "code",
   "execution_count": null,
   "id": "df8e158c-8987-4b38-81ad-8884638417dc",
   "metadata": {},
   "outputs": [],
   "source": [
    "import torch\n",
    "import numpy as np\n",
    "import pandas as pd\n",
    "\n",
    "import matplotlib.pyplot as plt\n",
    "import seaborn as sns\n",
    "\n",
    "import warnings\n",
    "warnings.filterwarnings('ignore')\n",
    "\n",
    "from nnfabrik.builder import get_data, get_model, get_trainer\n",
    "\n",
    "from sensorium.utility.training import read_config, print_t, set_seed\n",
    "from sensorium.utility import prediction"
   ]
  },
  {
   "cell_type": "markdown",
   "id": "56853a32-4754-4871-b3d1-85a243f3bd92",
   "metadata": {},
   "source": [
    "### Load configuration for model"
   ]
  },
  {
   "cell_type": "code",
   "execution_count": null,
   "id": "06776c8b-ecab-4a34-be23-63d2bd3a2314",
   "metadata": {},
   "outputs": [],
   "source": [
    "config_file = 'saved_models/02_jobs/only_history.yaml'\n",
    "config = read_config( config_file )\n",
    "print(config)"
   ]
  },
  {
   "cell_type": "markdown",
   "id": "f1e47a5d-d25b-42eb-90a8-e1bea0f4b148",
   "metadata": {},
   "source": [
    "### Prepare dataloader"
   ]
  },
  {
   "cell_type": "code",
   "execution_count": null,
   "id": "4c3d1024-29aa-469f-9c63-cbcbb9b5eefe",
   "metadata": {},
   "outputs": [],
   "source": [
    "set_seed( config['model_seed'] )  # seed all random generators\n",
    "\n",
    "if config['data_sets'][0] == 'all':\n",
    "    basepath = \"notebooks/data/\"\n",
    "    filenames = [os.path.join(basepath, file) for file in os.listdir(basepath) if \".zip\" in file ]\n",
    "    filenames = [file for file in filenames if 'static26872-17-20' not in file]\n",
    "else:\n",
    "    filenames = config['data_sets']\n",
    "    # filenames like ['notebooks/data/static21067-10-18-GrayImageNet-94c6ff995dac583098847cfecd43e7b6.zip', ]\n",
    "    \n",
    "dataset_fn = config['dataset_fn']  # 'sensorium.datasets.static_loaders'\n",
    "dataset_config = {'paths': filenames,\n",
    "                  **config['dataset_config'],\n",
    "                 }\n",
    "\n",
    "dataloaders = get_data(dataset_fn, dataset_config)"
   ]
  },
  {
   "cell_type": "markdown",
   "id": "320f5e44-eda7-47bf-9cff-aa3ad4fecae0",
   "metadata": {},
   "source": [
    "### Instantiate model and trainer"
   ]
  },
  {
   "cell_type": "code",
   "execution_count": null,
   "id": "ce9b3b78-20ee-4bb5-bc16-20e94500859c",
   "metadata": {},
   "outputs": [],
   "source": [
    "# Instantiate model\n",
    "model_fn = config['model_fn']     # e.g. 'sensorium.models.modulated_stacked_core_full_gauss_readout'\n",
    "model_config = config['model_config']\n",
    "\n",
    "model = get_model(model_fn=model_fn,\n",
    "                  model_config=model_config,\n",
    "                  dataloaders=dataloaders,\n",
    "                  seed=config['model_seed'],\n",
    "                 )\n",
    "\n",
    "# Trainer\n",
    "trainer_fn = config['trainer_fn']   # \"sensorium.training.standard_trainer\"\n",
    "trainer_config = config['trainer_config']\n",
    "\n",
    "trainer = get_trainer(trainer_fn=trainer_fn, \n",
    "                     trainer_config=trainer_config)"
   ]
  },
  {
   "cell_type": "code",
   "execution_count": null,
   "id": "92b9e3b3-e2cf-440a-802f-55c286bbdb79",
   "metadata": {},
   "outputs": [],
   "source": [
    "model.modulator is None"
   ]
  },
  {
   "cell_type": "markdown",
   "id": "faf7b79e-6106-4352-b207-e6972d71e8ff",
   "metadata": {
    "tags": []
   },
   "source": [
    "### Train model"
   ]
  },
  {
   "cell_type": "code",
   "execution_count": null,
   "id": "8c4e2df1-7c69-4dd6-8cc7-145ae05d8afa",
   "metadata": {},
   "outputs": [],
   "source": [
    "print_t('Start of model training')\n",
    "validation_score, trainer_output, state_dict = trainer(model,\n",
    "                                                       dataloaders,\n",
    "                                                       seed=42)\n",
    "print_t('Model training finished')\n",
    "\n",
    "save_file = 'notebooks/model_walkthrough/results/trained_model.pth'\n",
    "torch.save(model.state_dict(), save_file )"
   ]
  },
  {
   "cell_type": "markdown",
   "id": "dc4a9e4f-1412-471b-8ca5-7a5cf9a5b692",
   "metadata": {},
   "source": [
    "### Save all predictions as .npy"
   ]
  },
  {
   "cell_type": "code",
   "execution_count": null,
   "id": "cd9a19f5-f9b8-4f76-b34f-ce2686d2d032",
   "metadata": {},
   "outputs": [],
   "source": [
    "if config['save_predictions_npy']:\n",
    "    # calculate predictions per dataloader\n",
    "    results = prediction.all_predictions_with_trial(model, dataloaders)\n",
    "\n",
    "    # merge predictions, sort in time and add behavioral variables\n",
    "    merged = prediction.merge_predictions(results)\n",
    "    sorted_res = prediction.sort_predictions_by_time(merged)\n",
    "    prediction.inplace_add_behavior_to_sorted_predictions(sorted_res)\n",
    "    \n",
    "    npy_file = 'notebooks/model_walkthrough/results/prediction_trained_model.npy'\n",
    "    np.save( npy_file, sorted_res)"
   ]
  }
 ],
 "metadata": {
  "kernelspec": {
   "display_name": "CSCS Python",
   "language": "python",
   "name": "cscs"
  },
  "language_info": {
   "codemirror_mode": {
    "name": "ipython",
    "version": 3
   },
   "file_extension": ".py",
   "mimetype": "text/x-python",
   "name": "python",
   "nbconvert_exporter": "python",
   "pygments_lexer": "ipython3",
   "version": "3.9.4"
  }
 },
 "nbformat": 4,
 "nbformat_minor": 5
}
