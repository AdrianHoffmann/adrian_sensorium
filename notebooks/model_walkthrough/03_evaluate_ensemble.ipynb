{
 "cells": [
  {
   "cell_type": "markdown",
   "id": "ec0beb96-4ace-4adf-b5cd-9a2002dbfa1d",
   "metadata": {},
   "source": [
    "# Run ensemble model and save predictions"
   ]
  },
  {
   "cell_type": "markdown",
   "id": "4d66bf72-3fab-4a95-9fe1-d5bba618fcfa",
   "metadata": {},
   "source": [
    "### Imports"
   ]
  },
  {
   "cell_type": "code",
   "execution_count": 1,
   "id": "be2abeb2-f6a3-46f0-87b8-dd66c53dbcbc",
   "metadata": {},
   "outputs": [
    {
     "name": "stdout",
     "output_type": "stream",
     "text": [
      "Working directory: /scratch/snx3000/bp000429/neurips_presentation/adrian_sensorium\n"
     ]
    }
   ],
   "source": [
    "import os\n",
    "if 'notebooks' in os.getcwd(): os.chdir('../..')  # change to main directory\n",
    "print('Working directory:', os.getcwd() )"
   ]
  },
  {
   "cell_type": "code",
   "execution_count": 2,
   "id": "162e01f2-fe39-4122-94e1-3865d267554d",
   "metadata": {},
   "outputs": [],
   "source": [
    "import torch\n",
    "import numpy as np\n",
    "import pandas as pd\n",
    "\n",
    "import matplotlib.pyplot as plt\n",
    "import seaborn as sns\n",
    "\n",
    "import warnings\n",
    "warnings.filterwarnings('ignore')\n",
    "\n",
    "from nnfabrik.builder import get_data, get_model, get_trainer\n",
    "\n",
    "from sensorium.utility import submission\n",
    "from sensorium.utility.training import read_config"
   ]
  },
  {
   "cell_type": "markdown",
   "id": "3cc32c20-1f06-46bf-b1b2-08e068687cfe",
   "metadata": {},
   "source": [
    "### Load configuration for model"
   ]
  },
  {
   "cell_type": "code",
   "execution_count": 3,
   "id": "a3757852-5cb5-44ba-9b43-2cd2862276f5",
   "metadata": {},
   "outputs": [
    {
     "name": "stdout",
     "output_type": "stream",
     "text": [
      "ordereddict([('data_sets', ['all']), ('dataset_fn', 'sensorium.datasets.static_loaders'), ('dataset_config', ordereddict([('normalize', True), ('include_behavior', True), ('include_eye_position', True), ('batch_size', 128), ('scale', 0.25), ('preload_from_merged_data', True), ('include_trial_id', True), ('include_rank_id', False), ('include_history', False), ('include_behav_state', False), ('adjusted_normalization', False), ('use_ensemble_tier', True), ('ensemble_nr', 0)])), ('model_fn', 'sensorium.models.modulated_stacked_core_full_gauss_readout'), ('model_seed', 40), ('model_config', ordereddict([('pad_input', False), ('stack', -1), ('layers', 4), ('input_kern', 9), ('gamma_input', 6.3831), ('gamma_readout', 0.0076), ('hidden_kern', 7), ('hidden_channels', 64), ('depth_separable', True), ('grid_mean_predictor', ordereddict([('type', 'cortex'), ('input_dimensions', 2), ('hidden_layers', 1), ('hidden_features', 30), ('nonlinearity', 'ELU'), ('final_tanh', True)])), ('init_sigma', 0.1), ('init_mu_range', 0.3), ('gauss_type', 'full'), ('shifter', True), ('with_modulator', False), ('modulator_type', 'HistoryStateGain'), ('modulator_params', ordereddict([('include_gain', False), ('gain_kernel_std', 30), ('diff_reg', 100), ('include_history', False), ('nr_history', 5), ('behav_state', False), ('nr_behav_state', 10), ('per_neuron_gain_adjust', False), ('gain_adjust_alpha', 0.3), ('alpha_behav', 0.3), ('alpha_hist', 0.3)]))])), ('use_pretrained_core', False), ('pretrained_model_file', 'no_file'), ('trainer_fn', 'sensorium.training.standard_trainer'), ('trainer_config', ordereddict([('max_iter', 200), ('verbose', True), ('lr_decay_steps', 4), ('avg_loss', False), ('lr_init', 0.009), ('track_training', True), ('disable_tqdm', True)])), ('verbose', 3), ('save_csv', True), ('save_predictions_npy', True)])\n"
     ]
    }
   ],
   "source": [
    "# Loading config only for ensemble 0, because all 5 models have the same config (except\n",
    "# for the seed and dataloader train/validation split)\n",
    "\n",
    "config_file = 'saved_models/only_ensemble_0/config.yaml'\n",
    "# config_file = 'saved_models/config_m4_ens0/config.yaml'\n",
    "\n",
    "config = read_config( config_file )\n",
    "print(config)"
   ]
  },
  {
   "cell_type": "markdown",
   "id": "b6b7a11e-c5e4-4c07-ae18-22dba9d196f5",
   "metadata": {},
   "source": [
    "### Prepare dataloader"
   ]
  },
  {
   "cell_type": "code",
   "execution_count": 4,
   "id": "9af99364-71a6-468a-8884-342345fcb1b3",
   "metadata": {},
   "outputs": [],
   "source": [
    "# Use only one dataloader, since test and final_test are the same for all ensembles\n",
    "basepath = \"notebooks/data/\"\n",
    "filenames = [os.path.join(basepath, file) for file in os.listdir(basepath) if \".zip\" in file ]\n",
    "filenames = [file for file in filenames if 'static26872-17-20' not in file]\n",
    "\n",
    "dataset_fn = config['dataset_fn']  # 'sensorium.datasets.static_loaders'\n",
    "dataset_config = {'paths': filenames,\n",
    "                  **config['dataset_config'],\n",
    "                 }\n",
    "\n",
    "dataloaders = get_data(dataset_fn, dataset_config)"
   ]
  },
  {
   "cell_type": "markdown",
   "id": "a87fb79f-5fdf-4333-acb9-b071955419ea",
   "metadata": {},
   "source": [
    "### Load trained models"
   ]
  },
  {
   "cell_type": "code",
   "execution_count": 5,
   "id": "b464622e-c21f-4609-90b1-054543852da6",
   "metadata": {},
   "outputs": [],
   "source": [
    "# Instantiate all five models\n",
    "model_list = list()\n",
    "\n",
    "for i in range(5):\n",
    "    # all models have the same parameters\n",
    "    model_fn = config['model_fn']     # e.g. 'sensorium.models.modulated_stacked_core_full_gauss_readout'\n",
    "    model_config = config['model_config']\n",
    "\n",
    "    model = get_model(model_fn=model_fn,\n",
    "                      model_config=model_config,\n",
    "                      dataloaders=dataloaders,\n",
    "                      seed=config['model_seed'],\n",
    "                     )\n",
    "\n",
    "    # Load trained weights from specific ensemble\n",
    "    save_file = 'saved_models/only_ensemble_{}/saved_model_v1.pth'.format(i)\n",
    "    # save_file = 'saved_models/config_m4_ens{}/saved_model_v1.pth'.format(i)\n",
    "    \n",
    "    model.load_state_dict(torch.load(save_file))\n",
    "    model_list.append( model )"
   ]
  },
  {
   "cell_type": "markdown",
   "id": "7a5cefb6-6193-4db0-8e9f-eb51f1972e4e",
   "metadata": {},
   "source": [
    "### Combine them into one ensemble model"
   ]
  },
  {
   "cell_type": "code",
   "execution_count": 6,
   "id": "ea98fcb7-9602-4203-b618-7d15b651da72",
   "metadata": {},
   "outputs": [],
   "source": [
    "from sensorium.models.ensemble import EnsemblePrediction"
   ]
  },
  {
   "cell_type": "code",
   "execution_count": 7,
   "id": "52612d67-b126-491e-8b18-fd4b89b2526c",
   "metadata": {},
   "outputs": [],
   "source": [
    "ensemble = EnsemblePrediction(model_list, mode='mean')"
   ]
  },
  {
   "cell_type": "code",
   "execution_count": null,
   "id": "0deb0df7-0f23-49f2-9104-7fc3f48eb255",
   "metadata": {},
   "outputs": [],
   "source": []
  },
  {
   "cell_type": "markdown",
   "id": "419091ac-719f-4b25-b8b4-466ad8afc693",
   "metadata": {},
   "source": [
    "### Predict responses for all timepoints"
   ]
  },
  {
   "cell_type": "code",
   "execution_count": 8,
   "id": "094110b9-6008-4c81-8e64-61d68e980b05",
   "metadata": {},
   "outputs": [],
   "source": [
    "model_name = 'only_ensemble_merged'\n",
    "# model_name = 'config_m4_merged'"
   ]
  },
  {
   "cell_type": "code",
   "execution_count": 9,
   "id": "8278f0bf-e7c7-4777-8f8b-908752f0ed65",
   "metadata": {},
   "outputs": [
    {
     "name": "stderr",
     "output_type": "stream",
     "text": [
      "Iterating datasets: 100%|██████████| 6/6 [01:46<00:00, 17.75s/it]\n"
     ]
    }
   ],
   "source": [
    "from sensorium.utility import prediction\n",
    "\n",
    "# calculate predictions per dataloader\n",
    "results = prediction.all_predictions_with_trial(ensemble, dataloaders)\n",
    "\n",
    "# merge predictions, sort in time and add behavioral variables\n",
    "merged = prediction.merge_predictions(results)\n",
    "sorted_res = prediction.sort_predictions_by_time(merged)\n",
    "prediction.inplace_add_behavior_to_sorted_predictions(sorted_res)\n",
    "\n",
    "save_folder = os.path.join('saved_models', model_name)\n",
    "if not os.path.exists(save_folder):\n",
    "    os.mkdir(save_folder)\n",
    "\n",
    "npy_file = os.path.join(save_folder, model_name + '.npy')\n",
    "np.save( npy_file, sorted_res)"
   ]
  },
  {
   "cell_type": "code",
   "execution_count": 10,
   "id": "f94d9be1-20c3-4691-906d-ab7586ce3513",
   "metadata": {},
   "outputs": [],
   "source": [
    "# save correlation values as csv files separately for easier comparisons\n",
    "\n",
    "\n",
    "# calculate correlations on splits\n",
    "dataframe_entries = list()\n",
    "trial_trans = { 0:'Train', 1:'Val', 2:'Test', 3:'Final Test'}\n",
    "keys = list( sorted_res.keys() )\n",
    "\n",
    "for key in keys:\n",
    "    # calculate correlations\n",
    "    ses_data = sorted_res[key]\n",
    "    nr_neurons = ses_data['output'].shape[1]\n",
    "    trial_type = ses_data['trial_type']\n",
    "\n",
    "    for i in range(nr_neurons):\n",
    "        true = ses_data['target'][:,i]\n",
    "        pred = ses_data['output'][:,i]\n",
    "\n",
    "        for split in range(3):\n",
    "            cor = np.corrcoef( true[ trial_type==split ], pred[ trial_type==split ])[1,0]\n",
    "            if np.isnan(cor):\n",
    "                cor=0\n",
    "\n",
    "            dataframe_entries.append(\n",
    "                        dict(model=model_name, key=key, neuron=i,\n",
    "                             split=trial_trans[split], cor=cor)\n",
    "                        )\n",
    "\n",
    "df = pd.DataFrame( dataframe_entries )\n",
    "\n",
    "# save DataFrame as csv\n",
    "path = os.path.join( 'saved_models', '00_csv_results', model_name+'.csv' )\n",
    "df.to_csv(path)"
   ]
  },
  {
   "cell_type": "code",
   "execution_count": null,
   "id": "bc0c020e-f35f-4d72-93b9-ddb9b3ef7c9d",
   "metadata": {},
   "outputs": [],
   "source": []
  },
  {
   "cell_type": "markdown",
   "id": "c6c04594-fbff-4ec6-9a5c-6b76ba1b61da",
   "metadata": {},
   "source": [
    "### For competiton: Generate submission file"
   ]
  },
  {
   "cell_type": "code",
   "execution_count": 8,
   "id": "2c711ca1-0e3e-4194-b8f0-0d021d8c9bf5",
   "metadata": {},
   "outputs": [
    {
     "name": "stdout",
     "output_type": "stream",
     "text": [
      "Submission file saved for tier: live_test. Saved in: notebooks/submission_m4/results/submission_file_live_test.csv\n",
      "Submission file saved for tier: final_test. Saved in: notebooks/submission_m4/results/submission_file_final_test.csv\n"
     ]
    }
   ],
   "source": [
    "dataset_name = '27204-5-13'\n",
    "\n",
    "submission.generate_submission_file(trained_model=ensemble, \n",
    "                                    dataloaders=dataloaders,\n",
    "                                    data_key=dataset_name,\n",
    "                                    path=\"notebooks/submission_m4/results/\",\n",
    "                                    device=\"cuda\")"
   ]
  },
  {
   "cell_type": "code",
   "execution_count": null,
   "id": "91df469e-4765-43b4-b728-04e5ed1ceca7",
   "metadata": {},
   "outputs": [],
   "source": []
  }
 ],
 "metadata": {
  "kernelspec": {
   "display_name": "CSCS Python",
   "language": "python",
   "name": "cscs"
  },
  "language_info": {
   "codemirror_mode": {
    "name": "ipython",
    "version": 3
   },
   "file_extension": ".py",
   "mimetype": "text/x-python",
   "name": "python",
   "nbconvert_exporter": "python",
   "pygments_lexer": "ipython3",
   "version": "3.9.4"
  }
 },
 "nbformat": 4,
 "nbformat_minor": 5
}
