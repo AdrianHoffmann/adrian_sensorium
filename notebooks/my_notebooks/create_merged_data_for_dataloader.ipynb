{
 "cells": [
  {
   "cell_type": "markdown",
   "id": "85c7c674-921b-4386-85e3-159f4e54b8f1",
   "metadata": {},
   "source": [
    "# Create merged data for dataloader"
   ]
  },
  {
   "cell_type": "markdown",
   "id": "d1053850-e537-4bfc-aabb-2e293330c903",
   "metadata": {},
   "source": [
    "Loading data from individual files is quite slow on the CSCS Piz Daint. Therefore the dataloader was adapted to load in one file containing all trials.\n",
    "\n",
    "This notebook reads in the individual trial files and saves one larger file which contains all trials. The data is saved in the folder merged_data with the file name corresponding to the variable\n",
    "\n",
    "Adrian 2022-09-25"
   ]
  },
  {
   "cell_type": "code",
   "execution_count": 1,
   "id": "aeb368d8-1068-46aa-839b-085c3b383359",
   "metadata": {},
   "outputs": [
    {
     "name": "stdout",
     "output_type": "stream",
     "text": [
      "Working directory: /scratch/snx3000/bp000429/adrian_sensorium\n"
     ]
    }
   ],
   "source": [
    "import os\n",
    "if 'notebooks' in os.getcwd(): os.chdir('../..')  # change to main directory\n",
    "print('Working directory:', os.getcwd() )"
   ]
  },
  {
   "cell_type": "code",
   "execution_count": 2,
   "id": "af43fe9b-caf6-44a3-b796-37d3a0c57266",
   "metadata": {},
   "outputs": [],
   "source": [
    "import numpy as np\n",
    "import matplotlib.pyplot as plt\n",
    "%matplotlib inline\n",
    "\n",
    "import glob\n",
    "from tqdm import tqdm\n",
    "import datetime"
   ]
  },
  {
   "cell_type": "code",
   "execution_count": 3,
   "id": "694aa29d-df18-444d-9367-80423216f9f4",
   "metadata": {},
   "outputs": [
    {
     "data": {
      "text/plain": [
       "['notebooks/data/static21067-10-18-GrayImageNet-94c6ff995dac583098847cfecd43e7b6/',\n",
       " 'notebooks/data/static22846-10-16-GrayImageNet-94c6ff995dac583098847cfecd43e7b6/',\n",
       " 'notebooks/data/static23343-5-17-GrayImageNet-94c6ff995dac583098847cfecd43e7b6/',\n",
       " 'notebooks/data/static23656-14-22-GrayImageNet-94c6ff995dac583098847cfecd43e7b6/',\n",
       " 'notebooks/data/static23964-4-22-GrayImageNet-94c6ff995dac583098847cfecd43e7b6/',\n",
       " 'notebooks/data/static27204-5-13-GrayImageNet-94c6ff995dac583098847cfecd43e7b6/']"
      ]
     },
     "execution_count": 3,
     "metadata": {},
     "output_type": "execute_result"
    }
   ],
   "source": [
    "folders = sorted( glob.glob( \"notebooks/data/static*/\") )\n",
    "folders"
   ]
  },
  {
   "cell_type": "code",
   "execution_count": 4,
   "id": "d96f5243-1435-4a1d-a583-ae8f0325d5a7",
   "metadata": {},
   "outputs": [
    {
     "name": "stdout",
     "output_type": "stream",
     "text": [
      "Working on folder: notebooks/data/static21067-10-18-GrayImageNet-94c6ff995dac583098847cfecd43e7b6/\n"
     ]
    },
    {
     "name": "stderr",
     "output_type": "stream",
     "text": [
      "behavior: 100%|██████████| 5994/5994 [00:51<00:00, 117.36it/s]\n",
      "pupil_center: 100%|██████████| 5994/5994 [01:08<00:00, 87.57it/s] \n",
      "images: 100%|██████████| 5994/5994 [02:26<00:00, 40.91it/s]\n",
      "responses: 100%|██████████| 5994/5994 [02:09<00:00, 46.14it/s]\n"
     ]
    },
    {
     "name": "stdout",
     "output_type": "stream",
     "text": [
      "Working on folder: notebooks/data/static22846-10-16-GrayImageNet-94c6ff995dac583098847cfecd43e7b6/\n"
     ]
    },
    {
     "name": "stderr",
     "output_type": "stream",
     "text": [
      "behavior: 100%|██████████| 5997/5997 [01:04<00:00, 92.99it/s] \n",
      "pupil_center: 100%|██████████| 5997/5997 [01:00<00:00, 98.55it/s] \n",
      "images: 100%|██████████| 5997/5997 [02:30<00:00, 39.89it/s]\n",
      "responses: 100%|██████████| 5997/5997 [01:55<00:00, 51.77it/s]\n"
     ]
    },
    {
     "name": "stdout",
     "output_type": "stream",
     "text": [
      "Working on folder: notebooks/data/static23343-5-17-GrayImageNet-94c6ff995dac583098847cfecd43e7b6/\n"
     ]
    },
    {
     "name": "stderr",
     "output_type": "stream",
     "text": [
      "behavior: 100%|██████████| 5951/5951 [01:04<00:00, 92.53it/s] \n",
      "pupil_center: 100%|██████████| 5951/5951 [01:09<00:00, 85.59it/s] \n",
      "images: 100%|██████████| 5951/5951 [02:23<00:00, 41.56it/s]\n",
      "responses: 100%|██████████| 5951/5951 [01:59<00:00, 49.70it/s]\n"
     ]
    },
    {
     "name": "stdout",
     "output_type": "stream",
     "text": [
      "Working on folder: notebooks/data/static23656-14-22-GrayImageNet-94c6ff995dac583098847cfecd43e7b6/\n"
     ]
    },
    {
     "name": "stderr",
     "output_type": "stream",
     "text": [
      "behavior: 100%|██████████| 5966/5966 [01:02<00:00, 94.94it/s] \n",
      "pupil_center: 100%|██████████| 5966/5966 [00:53<00:00, 111.80it/s]\n",
      "images: 100%|██████████| 5966/5966 [02:06<00:00, 46.98it/s]\n",
      "responses: 100%|██████████| 5966/5966 [01:46<00:00, 55.85it/s]\n"
     ]
    },
    {
     "name": "stdout",
     "output_type": "stream",
     "text": [
      "Working on folder: notebooks/data/static23964-4-22-GrayImageNet-94c6ff995dac583098847cfecd43e7b6/\n"
     ]
    },
    {
     "name": "stderr",
     "output_type": "stream",
     "text": [
      "behavior: 100%|██████████| 5983/5983 [00:52<00:00, 113.44it/s]\n",
      "pupil_center: 100%|██████████| 5983/5983 [01:07<00:00, 88.26it/s] \n",
      "images: 100%|██████████| 5983/5983 [02:01<00:00, 49.35it/s]\n",
      "responses: 100%|██████████| 5983/5983 [01:41<00:00, 58.88it/s] \n"
     ]
    },
    {
     "name": "stdout",
     "output_type": "stream",
     "text": [
      "Working on folder: notebooks/data/static27204-5-13-GrayImageNet-94c6ff995dac583098847cfecd43e7b6/\n"
     ]
    },
    {
     "name": "stderr",
     "output_type": "stream",
     "text": [
      "behavior: 100%|██████████| 6959/6959 [01:03<00:00, 109.67it/s]\n",
      "pupil_center: 100%|██████████| 6959/6959 [01:02<00:00, 111.34it/s]\n",
      "images: 100%|██████████| 6959/6959 [02:14<00:00, 51.73it/s]\n",
      "responses: 100%|██████████| 6959/6959 [01:52<00:00, 61.97it/s]\n"
     ]
    }
   ],
   "source": [
    "for folder in folders:\n",
    "    print('Working on folder: {}'.format(folder), flush=True)\n",
    "    \n",
    "    # find the different data folders with individual files per trial\n",
    "    subfolders = glob.glob( os.path.join( folder, 'data', '*'))\n",
    "    subnames = [os.path.basename(f) for f in subfolders]\n",
    "    subnames   # e.g. ['behavior', 'pupil_center', 'images', 'responses']\n",
    "    \n",
    "    # create new directory if it does not exist\n",
    "    save_folder = os.path.join( folder, 'merged_data' )\n",
    "    if not os.path.exists( save_folder ):\n",
    "        os.makedirs(save_folder)\n",
    "    \n",
    "    # iterate through all folders, load individual files and save as one large matrix\n",
    "    for subname in subnames:\n",
    "        data_folder = os.path.join( folder, 'data', subname )\n",
    "        nr_files = len( glob.glob( os.path.join( data_folder, '*' )))\n",
    "\n",
    "        data = list()\n",
    "        for nr in tqdm( range( nr_files ), desc=subname):\n",
    "            data.append( np.load( os.path.join( data_folder, '{}.npy'.format(nr) )))\n",
    "        \n",
    "        data_mat = np.array( data )    # (nr_trials, *) e.g. (5983, 3) for behavior\n",
    "        np.save( os.path.join( save_folder, '{}.npy'.format(subname) ), data_mat)\n"
   ]
  }
 ],
 "metadata": {
  "kernelspec": {
   "display_name": "CSCS Python",
   "language": "python",
   "name": "cscs"
  },
  "language_info": {
   "codemirror_mode": {
    "name": "ipython",
    "version": 3
   },
   "file_extension": ".py",
   "mimetype": "text/x-python",
   "name": "python",
   "nbconvert_exporter": "python",
   "pygments_lexer": "ipython3",
   "version": "3.9.4"
  }
 },
 "nbformat": 4,
 "nbformat_minor": 5
}
