{
 "cells": [
  {
   "cell_type": "markdown",
   "metadata": {
    "pycharm": {
     "name": "#%% md\n"
    }
   },
   "source": [
    "# Introduction to the Neuronal Data"
   ]
  },
  {
   "cell_type": "markdown",
   "source": [
    "### This notebook will show these items:\n",
    "- how to load the data into PyTorch DataLoaders\n",
    "- what is contained in the data\n",
    " - images\n",
    " - neuronal responses\n",
    " - behavioral variables\n",
    " - anatomical coordinates of each neuron"
   ],
   "metadata": {
    "collapsed": false,
    "pycharm": {
     "name": "#%% md\n"
    }
   }
  },
  {
   "cell_type": "code",
   "execution_count": null,
   "outputs": [],
   "source": [
    "import torch\n",
    "import nnfabrik\n",
    "from nnfabrik.builder import get_data, get_model, get_trainer\n",
    "import sensorium\n",
    "\n",
    "import numpy as np\n",
    "import pandas as pd\n",
    "import seaborn as sns\n",
    "import matplotlib.pyplot as plt\n",
    "\n",
    "from lipstick import GifMaker\n",
    "from mpl_toolkits import mplot3d\n",
    "%matplotlib inline"
   ],
   "metadata": {
    "collapsed": false,
    "pycharm": {
     "name": "#%%\n"
    }
   }
  },
  {
   "cell_type": "markdown",
   "source": [
    "# Instantiate PyTorch DataLoader"
   ],
   "metadata": {
    "collapsed": false,
    "pycharm": {
     "name": "#%% md\n"
    }
   }
  },
  {
   "cell_type": "code",
   "execution_count": null,
   "outputs": [],
   "source": [
    "filenames = ['../data/static23964-4-22-GrayImageNet-94c6ff995dac583098847cfecd43e7b6.zip', ]\n",
    "\n",
    "dataset_fn = 'sensorium.datasets.static_loaders'\n",
    "dataset_config = {'paths': filenames,\n",
    "                 'normalize': True,\n",
    "                 'include_behavior': True,\n",
    "                 'include_eye_position': True,\n",
    "                 'batch_size': 128,\n",
    "                 'exclude': None,\n",
    "                 'file_tree': True,\n",
    "                 'scale': 1,\n",
    "                 'add_behavior_as_channels': False,\n",
    "                 }\n",
    "\n",
    "dataloaders = get_data(dataset_fn, dataset_config)"
   ],
   "metadata": {
    "collapsed": false,
    "pycharm": {
     "name": "#%%\n"
    }
   }
  },
  {
   "cell_type": "markdown",
   "source": [
    "# Show Dataloader"
   ],
   "metadata": {
    "collapsed": false,
    "pycharm": {
     "name": "#%% md\n"
    }
   }
  },
  {
   "cell_type": "markdown",
   "source": [
    "The neuronal data is supplied as a PyTorch DataLoader, already split into the training and validation images. The test set is also available, containing 100 images with 10 repeats each. The two recordings provided for both competition tracks will also have a \"test\" tier, but they will not contain the ground truth neuronal responses."
   ],
   "metadata": {
    "collapsed": false,
    "pycharm": {
     "name": "#%% md\n"
    }
   }
  },
  {
   "cell_type": "code",
   "execution_count": null,
   "outputs": [],
   "source": [
    "dataloaders"
   ],
   "metadata": {
    "collapsed": false,
    "pycharm": {
     "name": "#%%\n"
    }
   }
  },
  {
   "cell_type": "markdown",
   "source": [
    "# Show Content of a batch"
   ],
   "metadata": {
    "collapsed": false,
    "pycharm": {
     "name": "#%% md\n"
    }
   }
  },
  {
   "cell_type": "code",
   "execution_count": null,
   "outputs": [],
   "source": [
    "tier = 'train'\n",
    "dataset_name = '23964-4-22'\n",
    "\n",
    "for batch in dataloaders[tier][dataset_name]:\n",
    "    pass"
   ],
   "metadata": {
    "collapsed": false,
    "pycharm": {
     "name": "#%%\n"
    }
   }
  },
  {
   "cell_type": "code",
   "execution_count": null,
   "outputs": [],
   "source": [
    "# each batch is a NameTuple, containing the images, neuronal responses, and the behavioral variables\n",
    "print(batch._fields)"
   ],
   "metadata": {
    "collapsed": false,
    "pycharm": {
     "name": "#%%\n"
    }
   }
  },
  {
   "cell_type": "code",
   "execution_count": null,
   "outputs": [],
   "source": [
    "# Inspecting the content of a batch\n",
    "for i, field in enumerate(batch._fields):\n",
    "    print(f\"{field}, {batch[i].shape}\")\n",
    "\n",
    "# what will get printed:\n",
    "# images: N images, channels, height, width\n",
    "# responses: N images, N neurons\n",
    "# behavior: N images, N=3 behaviors (pupil size, instantaneous change of pupil size, locomotion speed)\n",
    "# pupil_center: N images, N=2 eye position traces: horizontal and vertical eye position"
   ],
   "metadata": {
    "collapsed": false,
    "pycharm": {
     "name": "#%%\n"
    }
   }
  },
  {
   "cell_type": "markdown",
   "source": [
    "# Get all Images, Responses, and Behaviors"
   ],
   "metadata": {
    "collapsed": false,
    "pycharm": {
     "name": "#%% md\n"
    }
   }
  },
  {
   "cell_type": "code",
   "execution_count": null,
   "outputs": [],
   "source": [
    "images, responses = [], []\n",
    "behaviors, eye_positions = [], []\n",
    "\n",
    "for batch in dataloaders[tier][dataset_name]:\n",
    "    images.append(batch.images.cpu().data.numpy())\n",
    "    responses.append(batch.responses.squeeze().cpu().data.numpy())\n",
    "    behaviors.append(batch.behavior.squeeze().cpu().numpy())\n",
    "    eye_positions.append(batch.pupil_center.squeeze().cpu().numpy())\n",
    "    \n",
    "images = np.vstack(images)\n",
    "responses = np.vstack(responses)\n",
    "all_behaviors = np.hstack([np.vstack(behaviors), np.vstack(eye_positions), ])\n",
    "\n",
    "print('The \\\"{}\\\" set of dataset \\\"{}\\\" contains the responses of {} neurons to {} images'.format(tier, dataset_name, responses.shape[1], responses.shape[0]))"
   ],
   "metadata": {
    "collapsed": false,
    "pycharm": {
     "name": "#%%\n"
    }
   }
  },
  {
   "cell_type": "markdown",
   "source": [
    "# Recreate Plots from Fig. 2 of the White Paper"
   ],
   "metadata": {
    "collapsed": false,
    "pycharm": {
     "name": "#%% md\n"
    }
   }
  },
  {
   "cell_type": "markdown",
   "source": [
    "### Raster Plot"
   ],
   "metadata": {
    "collapsed": false,
    "pycharm": {
     "name": "#%% md\n"
    }
   }
  },
  {
   "cell_type": "code",
   "execution_count": null,
   "outputs": [],
   "source": [
    "fig,  ax = plt.subplots(1,1, figsize=(10,10))\n",
    "\n",
    "n_neurons = 200\n",
    "n_images = 200\n",
    "ax.imshow(responses[:n_images, :n_neurons], cmap=\"gray\",vmin=0, vmax=5)\n",
    "\n",
    "ax.set_xticks([])\n",
    "ax.set_yticks([])\n",
    "\n",
    "ax.set_xlabel(\"Natural Images\", fontsize=20, )\n",
    "ax.set_ylabel(\"Associated neuronal Response\", fontsize=20, );"
   ],
   "metadata": {
    "collapsed": false,
    "pycharm": {
     "name": "#%%\n"
    }
   }
  },
  {
   "cell_type": "markdown",
   "source": [
    "### Example Behavior Traces"
   ],
   "metadata": {
    "collapsed": false,
    "pycharm": {
     "name": "#%% md\n"
    }
   }
  },
  {
   "cell_type": "code",
   "execution_count": null,
   "outputs": [],
   "source": [
    "fig, axs = plt.subplots(5,2, figsize=(14,12))\n",
    "\n",
    "behaviors = [\"Pupil size\", \n",
    "            \"Change of pupil size\", \n",
    "            \"Locomotion speed\",\n",
    "            \"horizontal eye position\",\n",
    "            \"vertical eye position\"]\n",
    "colormaps = [\"YlGn\", \"gray\", \"RdPu\", \"plasma\", \"plasma\"]\n",
    "\n",
    "\n",
    "for i in range(2):\n",
    "    for behavior in range(5):\n",
    "        if i == 0:\n",
    "            axs[behavior, i].imshow(np.tile(all_behaviors[:200, behavior], (40,1)), cmap=colormaps[behavior])\n",
    "            axs[behavior, i].set_xlabel(\"Trial number\", fontsize=12)\n",
    "            axs[behavior, i].set_title(behaviors[behavior], fontsize=16)\n",
    "        else:\n",
    "            axs[behavior, i].plot(all_behaviors[:200, behavior], 'k-')\n",
    "            axs[behavior, i].axis(\"off\")"
   ],
   "metadata": {
    "collapsed": false,
    "pycharm": {
     "name": "#%%\n"
    }
   }
  },
  {
   "cell_type": "code",
   "execution_count": null,
   "outputs": [],
   "source": [
    "Show Individual Images and the associated response of all neurons"
   ],
   "metadata": {
    "collapsed": false,
    "pycharm": {
     "name": "#%%\n"
    }
   }
  },
  {
   "cell_type": "code",
   "execution_count": null,
   "outputs": [],
   "source": [
    "# show some example images and the neural responses\n",
    "n_images = 5\n",
    "max_response = responses[:n_images].max()\n",
    "\n",
    "for i in range(n_images):\n",
    "    fig, axs = plt.subplots(1, 2, figsize=(15,4))\n",
    "    axs[0].imshow(images[i][0], cmap=\"gray\")\n",
    "    axs[0].axis(\"off\")\n",
    "    axs[1].plot(responses[i])\n",
    "    axs[1].set_xlabel('Neurons', fontsize=16)\n",
    "    axs[1].set_ylabel('Responses', fontsize=16)\n",
    "    axs[1].set_ylim([0, max_response])\n",
    "    sns.despine(trim=True)\n",
    "    plt.show()"
   ],
   "metadata": {
    "collapsed": false,
    "pycharm": {
     "name": "#%%\n"
    }
   }
  },
  {
   "cell_type": "markdown",
   "source": [
    "# Show Anatomical Coordinates of all Neurons in the recorded Volume"
   ],
   "metadata": {
    "collapsed": false,
    "pycharm": {
     "name": "#%% md\n"
    }
   }
  },
  {
   "cell_type": "markdown",
   "source": [
    "### compute time ~1min"
   ],
   "metadata": {
    "collapsed": false,
    "pycharm": {
     "name": "#%% md\n"
    }
   }
  },
  {
   "cell_type": "code",
   "execution_count": null,
   "outputs": [],
   "source": [
    "data_keys = list(dataloaders[\"train\"].keys())\n",
    "\n",
    "with GifMaker(f\"scan_fields_evaluation_mice.gif\", fps=24) as g:\n",
    "\n",
    "    for trial, azimuth in enumerate(np.linspace(0, 360, 180)):\n",
    "        fig = plt.figure(figsize=(10,10))\n",
    "        \n",
    "        for i, data_key in enumerate(data_keys):\n",
    "            ax = fig.add_subplot(1, 1, i+1, projection='3d')\n",
    "            cell_motor_coordinates = (dataloaders[\"train\"][data_key].dataset.neurons.cell_motor_coordinates)\n",
    "            ax.scatter3D(*cell_motor_coordinates.T, c=\"k\", s=15, edgecolor=\"k\", alpha=0.5, cmap=\"magma\")\n",
    "            ax.view_init(45, azimuth)\n",
    "            \n",
    "            # bring all coordinates on the same scale\n",
    "            ax.set_zlim([100,340])\n",
    "            ax.set_title(f\"Anatomical positions of neurons in Recording {data_key}\", fontsize=16)\n",
    "            ax.set_xlabel('x coordinate', fontsize=16)\n",
    "            ax.set_ylabel('y coordinate', fontsize=16)\n",
    "            ax.set_zlabel('z coordinate', fontsize=16)\n",
    "        g.add(fig)\n",
    "g.show()"
   ],
   "metadata": {
    "collapsed": false,
    "pycharm": {
     "name": "#%%\n"
    }
   }
  }
 ],
 "metadata": {
  "interpreter": {
   "hash": "aee8b7b246df8f9039afb4144a1f6fd8d2ca17a180786b69acc140d282b71a49"
  },
  "kernelspec": {
   "display_name": "Python 3",
   "language": "python",
   "name": "python3"
  },
  "language_info": {
   "codemirror_mode": {
    "name": "ipython",
    "version": 3
   },
   "file_extension": ".py",
   "mimetype": "text/x-python",
   "name": "python",
   "nbconvert_exporter": "python",
   "pygments_lexer": "ipython3",
   "version": "3.8.0"
  }
 },
 "nbformat": 4,
 "nbformat_minor": 4
}